{
 "cells": [
  {
   "cell_type": "markdown",
   "metadata": {},
   "source": [
    "# Preprocessing All Known Datasets"
   ]
  },
  {
   "cell_type": "code",
   "execution_count": 39,
   "metadata": {},
   "outputs": [],
   "source": [
    "%matplotlib inline\n",
    "import pandas as pd\n",
    "from tqdm import tqdm_notebook\n",
    "import dask.dataframe as dd\n",
    "import dask\n",
    "import multiprocessing\n",
    "nb_cores = multiprocessing.cpu_count()\n",
    "from pythainlp.tokenize import word_tokenize"
   ]
  },
  {
   "cell_type": "markdown",
   "metadata": {},
   "source": [
    "## `wongnai-corpus`"
   ]
  },
  {
   "cell_type": "code",
   "execution_count": 8,
   "metadata": {},
   "outputs": [
    {
     "data": {
      "text/plain": [
       "((40000, 2), (6203, 2))"
      ]
     },
     "execution_count": 8,
     "metadata": {},
     "output_type": "execute_result"
    }
   ],
   "source": [
    "train = pd.read_csv('raw_data/wongnai_corpus/w_review_train.csv',header=None,sep=';')\n",
    "test = pd.read_csv('raw_data/wongnai_corpus/test_file.csv',sep=';')\n",
    "train.shape, test.shape"
   ]
  },
  {
   "cell_type": "code",
   "execution_count": 9,
   "metadata": {},
   "outputs": [
    {
     "data": {
      "text/html": [
       "<div>\n",
       "<style scoped>\n",
       "    .dataframe tbody tr th:only-of-type {\n",
       "        vertical-align: middle;\n",
       "    }\n",
       "\n",
       "    .dataframe tbody tr th {\n",
       "        vertical-align: top;\n",
       "    }\n",
       "\n",
       "    .dataframe thead th {\n",
       "        text-align: right;\n",
       "    }\n",
       "</style>\n",
       "<table border=\"1\" class=\"dataframe\">\n",
       "  <thead>\n",
       "    <tr style=\"text-align: right;\">\n",
       "      <th></th>\n",
       "      <th>0</th>\n",
       "      <th>1</th>\n",
       "    </tr>\n",
       "  </thead>\n",
       "  <tbody>\n",
       "    <tr>\n",
       "      <th>0</th>\n",
       "      <td>ร้านอาหารใหญ่มากกกกกกก \\nเลี้ยวเข้ามาเจอห้องน้...</td>\n",
       "      <td>3</td>\n",
       "    </tr>\n",
       "    <tr>\n",
       "      <th>1</th>\n",
       "      <td>อาหารที่นี่เป็นอาหารจีนแคะที่หากินยากในบ้านเรา...</td>\n",
       "      <td>4</td>\n",
       "    </tr>\n",
       "    <tr>\n",
       "      <th>2</th>\n",
       "      <td>ปอเปี๊ยะสด ทุกวันนี้รู้สึกว่าหากินยาก (ร้านที่...</td>\n",
       "      <td>3</td>\n",
       "    </tr>\n",
       "    <tr>\n",
       "      <th>3</th>\n",
       "      <td>รัานคัพเค้กในเมืองไทยมีไม่มาก หลายๆคนอาจจะสงสั...</td>\n",
       "      <td>5</td>\n",
       "    </tr>\n",
       "    <tr>\n",
       "      <th>4</th>\n",
       "      <td>อร่อย!!! เดินผ่านDigital gatewayทุกวัน ไม่ยักร...</td>\n",
       "      <td>5</td>\n",
       "    </tr>\n",
       "  </tbody>\n",
       "</table>\n",
       "</div>"
      ],
      "text/plain": [
       "                                                   0  1\n",
       "0  ร้านอาหารใหญ่มากกกกกกก \\nเลี้ยวเข้ามาเจอห้องน้...  3\n",
       "1  อาหารที่นี่เป็นอาหารจีนแคะที่หากินยากในบ้านเรา...  4\n",
       "2  ปอเปี๊ยะสด ทุกวันนี้รู้สึกว่าหากินยาก (ร้านที่...  3\n",
       "3  รัานคัพเค้กในเมืองไทยมีไม่มาก หลายๆคนอาจจะสงสั...  5\n",
       "4  อร่อย!!! เดินผ่านDigital gatewayทุกวัน ไม่ยักร...  5"
      ]
     },
     "execution_count": 9,
     "metadata": {},
     "output_type": "execute_result"
    }
   ],
   "source": [
    "train.head()"
   ]
  },
  {
   "cell_type": "code",
   "execution_count": 41,
   "metadata": {},
   "outputs": [
    {
     "data": {
      "text/plain": [
       "((46203,), (46203,))"
      ]
     },
     "execution_count": 41,
     "metadata": {},
     "output_type": "execute_result"
    }
   ],
   "source": [
    "texts = pd.concat([train.iloc[:,0],test.iloc[:,1]]).reset_index(drop=True)\n",
    "nb_tokens = texts.map(lambda x: len(word_tokenize(x))).reset_index(drop=True)\n",
    "texts.shape, nb_tokens.shape"
   ]
  },
  {
   "cell_type": "code",
   "execution_count": 49,
   "metadata": {},
   "outputs": [
    {
     "data": {
      "text/html": [
       "<div>\n",
       "<style scoped>\n",
       "    .dataframe tbody tr th:only-of-type {\n",
       "        vertical-align: middle;\n",
       "    }\n",
       "\n",
       "    .dataframe tbody tr th {\n",
       "        vertical-align: top;\n",
       "    }\n",
       "\n",
       "    .dataframe thead th {\n",
       "        text-align: right;\n",
       "    }\n",
       "</style>\n",
       "<table border=\"1\" class=\"dataframe\">\n",
       "  <thead>\n",
       "    <tr style=\"text-align: right;\">\n",
       "      <th></th>\n",
       "      <th>category</th>\n",
       "      <th>dataset_name</th>\n",
       "      <th>text</th>\n",
       "      <th>nb_tokens</th>\n",
       "    </tr>\n",
       "  </thead>\n",
       "  <tbody>\n",
       "    <tr>\n",
       "      <th>0</th>\n",
       "      <td>reviews</td>\n",
       "      <td>wongnai-corpus</td>\n",
       "      <td>ร้านอาหารใหญ่มากกกกกกก \\nเลี้ยวเข้ามาเจอห้องน้...</td>\n",
       "      <td>116</td>\n",
       "    </tr>\n",
       "    <tr>\n",
       "      <th>1</th>\n",
       "      <td>reviews</td>\n",
       "      <td>wongnai-corpus</td>\n",
       "      <td>อาหารที่นี่เป็นอาหารจีนแคะที่หากินยากในบ้านเรา...</td>\n",
       "      <td>211</td>\n",
       "    </tr>\n",
       "    <tr>\n",
       "      <th>2</th>\n",
       "      <td>reviews</td>\n",
       "      <td>wongnai-corpus</td>\n",
       "      <td>ปอเปี๊ยะสด ทุกวันนี้รู้สึกว่าหากินยาก (ร้านที่...</td>\n",
       "      <td>141</td>\n",
       "    </tr>\n",
       "    <tr>\n",
       "      <th>3</th>\n",
       "      <td>reviews</td>\n",
       "      <td>wongnai-corpus</td>\n",
       "      <td>รัานคัพเค้กในเมืองไทยมีไม่มาก หลายๆคนอาจจะสงสั...</td>\n",
       "      <td>303</td>\n",
       "    </tr>\n",
       "    <tr>\n",
       "      <th>4</th>\n",
       "      <td>reviews</td>\n",
       "      <td>wongnai-corpus</td>\n",
       "      <td>อร่อย!!! เดินผ่านDigital gatewayทุกวัน ไม่ยักร...</td>\n",
       "      <td>80</td>\n",
       "    </tr>\n",
       "  </tbody>\n",
       "</table>\n",
       "</div>"
      ],
      "text/plain": [
       "  category    dataset_name                                               text  \\\n",
       "0  reviews  wongnai-corpus  ร้านอาหารใหญ่มากกกกกกก \\nเลี้ยวเข้ามาเจอห้องน้...   \n",
       "1  reviews  wongnai-corpus  อาหารที่นี่เป็นอาหารจีนแคะที่หากินยากในบ้านเรา...   \n",
       "2  reviews  wongnai-corpus  ปอเปี๊ยะสด ทุกวันนี้รู้สึกว่าหากินยาก (ร้านที่...   \n",
       "3  reviews  wongnai-corpus  รัานคัพเค้กในเมืองไทยมีไม่มาก หลายๆคนอาจจะสงสั...   \n",
       "4  reviews  wongnai-corpus  อร่อย!!! เดินผ่านDigital gatewayทุกวัน ไม่ยักร...   \n",
       "\n",
       "   nb_tokens  \n",
       "0        116  \n",
       "1        211  \n",
       "2        141  \n",
       "3        303  \n",
       "4         80  "
      ]
     },
     "execution_count": 49,
     "metadata": {},
     "output_type": "execute_result"
    }
   ],
   "source": [
    "df = pd.DataFrame({'category':'reviews','dataset_name':'wongnai-corpus',\n",
    "                   'text':texts,'nb_tokens':nb_tokens})\n",
    "df.head()"
   ]
  },
  {
   "cell_type": "code",
   "execution_count": 48,
   "metadata": {},
   "outputs": [
    {
     "data": {
      "text/plain": [
       "(7588628, <matplotlib.axes._subplots.AxesSubplot at 0x11aab9400>)"
      ]
     },
     "execution_count": 48,
     "metadata": {},
     "output_type": "execute_result"
    },
    {
     "data": {
      "image/png": "[encoded data removed]",
      "text/plain": [
       "<Figure size 432x288 with 1 Axes>"
      ]
     },
     "metadata": {
      "needs_background": "light"
     },
     "output_type": "display_data"
    }
   ],
   "source": [
    "df.nb_tokens.sum(),df.nb_tokens.hist()"
   ]
  },
  {
   "cell_type": "code",
   "execution_count": 50,
   "metadata": {},
   "outputs": [],
   "source": [
    "df.to_csv('cleaned_data/wongnai_corpus.csv',index=False)"
   ]
  },
  {
   "cell_type": "markdown",
   "metadata": {},
   "source": [
    "## `prachathai-67k`"
   ]
  },
  {
   "cell_type": "code",
   "execution_count": 2,
   "metadata": {},
   "outputs": [
    {
     "data": {
      "text/plain": [
       "(Delayed('int-f5930077-61db-454d-b60e-177d7ac3a3b6'), 5)"
      ]
     },
     "execution_count": 2,
     "metadata": {},
     "output_type": "execute_result"
    }
   ],
   "source": [
    "df = pd.read_csv('raw_data/prachathai-67k/prachathai-67k.csv')\n",
    "df_d = dd.from_pandas(df,npartitions=nb_cores*10)\n",
    "df_d.shape"
   ]
  },
  {
   "cell_type": "code",
   "execution_count": 3,
   "metadata": {},
   "outputs": [
    {
     "data": {
      "text/html": [
       "<div>\n",
       "<style scoped>\n",
       "    .dataframe tbody tr th:only-of-type {\n",
       "        vertical-align: middle;\n",
       "    }\n",
       "\n",
       "    .dataframe tbody tr th {\n",
       "        vertical-align: top;\n",
       "    }\n",
       "\n",
       "    .dataframe thead th {\n",
       "        text-align: right;\n",
       "    }\n",
       "</style>\n",
       "<table border=\"1\" class=\"dataframe\">\n",
       "  <thead>\n",
       "    <tr style=\"text-align: right;\">\n",
       "      <th></th>\n",
       "      <th>url</th>\n",
       "      <th>date</th>\n",
       "      <th>title</th>\n",
       "      <th>body_text</th>\n",
       "      <th>labels</th>\n",
       "    </tr>\n",
       "  </thead>\n",
       "  <tbody>\n",
       "    <tr>\n",
       "      <th>67884</th>\n",
       "      <td>https://prachatai.com/print/79624</td>\n",
       "      <td>2018-11-15 12:39</td>\n",
       "      <td>ชราธิปไตยในสังคมพุทธไทย</td>\n",
       "      <td>พุทธศาสนาเถรวาทมีขนบที่ต้องเคารพคนแก่ เพราะเชื...</td>\n",
       "      <td>['บทความ', 'การเมือง', 'วัฒนธรรม', 'สิทธิมนุษย...</td>\n",
       "    </tr>\n",
       "    <tr>\n",
       "      <th>67885</th>\n",
       "      <td>https://prachatai.com/print/79626</td>\n",
       "      <td>2018-11-15 18:51</td>\n",
       "      <td>เวทีอาเซียนสนใจสถานการณ์โรฮิงญา บังกลาเทศเลื่อ...</td>\n",
       "      <td>ประเด็นวิกฤตชาวโรฮิงญาเป็นที่ถกเถียงในเวทีประช...</td>\n",
       "      <td>['ข่าว', 'การเมือง', 'สิทธิมนุษยชน', 'ต่างประเ...</td>\n",
       "    </tr>\n",
       "    <tr>\n",
       "      <th>67886</th>\n",
       "      <td>https://prachatai.com/print/79625</td>\n",
       "      <td>2018-11-15 12:47</td>\n",
       "      <td>ยุติวงจรผลัดกันเกาหลัง ด้วยการยื่นบัญชีทรัพย์สินฯ</td>\n",
       "      <td>จากกรณีที่ราชกิจจานุเบกษาได้เผยแพร่ประกาศของคณ...</td>\n",
       "      <td>['บทความ', 'การเมือง', 'เศรษฐกิจ', 'การยื่นบัญ...</td>\n",
       "    </tr>\n",
       "    <tr>\n",
       "      <th>67887</th>\n",
       "      <td>https://prachatai.com/print/79628</td>\n",
       "      <td>2018-11-15 20:45</td>\n",
       "      <td>รัฐสวัสดิการ 101 กับ ภาคภูมิ แสงกนกกุล : การจั...</td>\n",
       "      <td>ทำความเข้าใจรัฐสวัสดิการแบบ 101 ทั้งความเป็นมา...</td>\n",
       "      <td>['สัมภาษณ์', 'การเมือง', 'เศรษฐกิจ', 'แรงงาน',...</td>\n",
       "    </tr>\n",
       "    <tr>\n",
       "      <th>67888</th>\n",
       "      <td>https://prachatai.com/print/79629</td>\n",
       "      <td>2018-11-15 21:34</td>\n",
       "      <td>ชาวอุยกูร์ในสหรัฐฯ ชุมนุมวันประกาศเอกราช เรียก...</td>\n",
       "      <td>สืบเนื่องจากเป็นวันประกาศเอกราชของเตอร์กิสถานต...</td>\n",
       "      <td>['ข่าว', 'สิทธิมนุษยชน', 'ต่างประเทศ', 'อูยกูร...</td>\n",
       "    </tr>\n",
       "  </tbody>\n",
       "</table>\n",
       "</div>"
      ],
      "text/plain": [
       "                                     url              date  \\\n",
       "67884  https://prachatai.com/print/79624  2018-11-15 12:39   \n",
       "67885  https://prachatai.com/print/79626  2018-11-15 18:51   \n",
       "67886  https://prachatai.com/print/79625  2018-11-15 12:47   \n",
       "67887  https://prachatai.com/print/79628  2018-11-15 20:45   \n",
       "67888  https://prachatai.com/print/79629  2018-11-15 21:34   \n",
       "\n",
       "                                                   title  \\\n",
       "67884                            ชราธิปไตยในสังคมพุทธไทย   \n",
       "67885  เวทีอาเซียนสนใจสถานการณ์โรฮิงญา บังกลาเทศเลื่อ...   \n",
       "67886  ยุติวงจรผลัดกันเกาหลัง ด้วยการยื่นบัญชีทรัพย์สินฯ   \n",
       "67887  รัฐสวัสดิการ 101 กับ ภาคภูมิ แสงกนกกุล : การจั...   \n",
       "67888  ชาวอุยกูร์ในสหรัฐฯ ชุมนุมวันประกาศเอกราช เรียก...   \n",
       "\n",
       "                                               body_text  \\\n",
       "67884  พุทธศาสนาเถรวาทมีขนบที่ต้องเคารพคนแก่ เพราะเชื...   \n",
       "67885  ประเด็นวิกฤตชาวโรฮิงญาเป็นที่ถกเถียงในเวทีประช...   \n",
       "67886  จากกรณีที่ราชกิจจานุเบกษาได้เผยแพร่ประกาศของคณ...   \n",
       "67887  ทำความเข้าใจรัฐสวัสดิการแบบ 101 ทั้งความเป็นมา...   \n",
       "67888  สืบเนื่องจากเป็นวันประกาศเอกราชของเตอร์กิสถานต...   \n",
       "\n",
       "                                                  labels  \n",
       "67884  ['บทความ', 'การเมือง', 'วัฒนธรรม', 'สิทธิมนุษย...  \n",
       "67885  ['ข่าว', 'การเมือง', 'สิทธิมนุษยชน', 'ต่างประเ...  \n",
       "67886  ['บทความ', 'การเมือง', 'เศรษฐกิจ', 'การยื่นบัญ...  \n",
       "67887  ['สัมภาษณ์', 'การเมือง', 'เศรษฐกิจ', 'แรงงาน',...  \n",
       "67888  ['ข่าว', 'สิทธิมนุษยชน', 'ต่างประเทศ', 'อูยกูร...  "
      ]
     },
     "execution_count": 3,
     "metadata": {},
     "output_type": "execute_result"
    }
   ],
   "source": [
    "df_d.tail()"
   ]
  },
  {
   "cell_type": "code",
   "execution_count": 4,
   "metadata": {},
   "outputs": [
    {
     "name": "stdout",
     "output_type": "stream",
     "text": [
      "CPU times: user 18.8 ms, sys: 2.37 ms, total: 21.2 ms\n",
      "Wall time: 19.7 ms\n"
     ]
    }
   ],
   "source": [
    "%%time\n",
    "df_d['title_tokens'] = df_d.title.map(lambda x: len(word_tokenize(x)))\n",
    "df_d['body_text_tokens'] = df_d.body_text.map(lambda x: len(word_tokenize(x)))"
   ]
  },
  {
   "cell_type": "code",
   "execution_count": 9,
   "metadata": {},
   "outputs": [
    {
     "name": "stdout",
     "output_type": "stream",
     "text": [
      "CPU times: user 26min 15s, sys: 55.9 s, total: 27min 11s\n",
      "Wall time: 26min 46s\n"
     ]
    }
   ],
   "source": [
    "%%time\n",
    "df = df_d.compute()\n",
    "df.to_csv(\"raw_data/prachathai-67k/prachathai_tokens.csv\",index=False)"
   ]
  },
  {
   "cell_type": "code",
   "execution_count": 20,
   "metadata": {
    "scrolled": true
   },
   "outputs": [
    {
     "data": {
      "text/html": [
       "<div>\n",
       "<style scoped>\n",
       "    .dataframe tbody tr th:only-of-type {\n",
       "        vertical-align: middle;\n",
       "    }\n",
       "\n",
       "    .dataframe tbody tr th {\n",
       "        vertical-align: top;\n",
       "    }\n",
       "\n",
       "    .dataframe thead th {\n",
       "        text-align: right;\n",
       "    }\n",
       "</style>\n",
       "<table border=\"1\" class=\"dataframe\">\n",
       "  <thead>\n",
       "    <tr style=\"text-align: right;\">\n",
       "      <th></th>\n",
       "      <th>category</th>\n",
       "      <th>dataset_name</th>\n",
       "      <th>text</th>\n",
       "      <th>nb_tokens</th>\n",
       "    </tr>\n",
       "  </thead>\n",
       "  <tbody>\n",
       "    <tr>\n",
       "      <th>0</th>\n",
       "      <td>news</td>\n",
       "      <td>prachathai-67k-title</td>\n",
       "      <td>นักวิจัยหนุน  \"แม้ว\"  เปิด  \"จีเอ็มโอ\"</td>\n",
       "      <td>12</td>\n",
       "    </tr>\n",
       "    <tr>\n",
       "      <th>1</th>\n",
       "      <td>news</td>\n",
       "      <td>prachathai-67k-title</td>\n",
       "      <td>ภาคประชาชนต้านเปิดเสรีจีเอ็มโอ</td>\n",
       "      <td>6</td>\n",
       "    </tr>\n",
       "    <tr>\n",
       "      <th>2</th>\n",
       "      <td>news</td>\n",
       "      <td>prachathai-67k-title</td>\n",
       "      <td>จุฬาฯ ห่วงจีเอ็มโอลามข้าวไทย</td>\n",
       "      <td>7</td>\n",
       "    </tr>\n",
       "    <tr>\n",
       "      <th>3</th>\n",
       "      <td>news</td>\n",
       "      <td>prachathai-67k-title</td>\n",
       "      <td>ฟองสบู่การเมืองแตก ทักษิณหมดกึ๋น ชนชั้นกลางหมด...</td>\n",
       "      <td>11</td>\n",
       "    </tr>\n",
       "    <tr>\n",
       "      <th>4</th>\n",
       "      <td>news</td>\n",
       "      <td>prachathai-67k-title</td>\n",
       "      <td>กอต.เสนอเลิกถนนคลองลาน-อุ้มผาง</td>\n",
       "      <td>9</td>\n",
       "    </tr>\n",
       "  </tbody>\n",
       "</table>\n",
       "</div>"
      ],
      "text/plain": [
       "  category          dataset_name  \\\n",
       "0     news  prachathai-67k-title   \n",
       "1     news  prachathai-67k-title   \n",
       "2     news  prachathai-67k-title   \n",
       "3     news  prachathai-67k-title   \n",
       "4     news  prachathai-67k-title   \n",
       "\n",
       "                                                text  nb_tokens  \n",
       "0             นักวิจัยหนุน  \"แม้ว\"  เปิด  \"จีเอ็มโอ\"         12  \n",
       "1                     ภาคประชาชนต้านเปิดเสรีจีเอ็มโอ          6  \n",
       "2                       จุฬาฯ ห่วงจีเอ็มโอลามข้าวไทย          7  \n",
       "3  ฟองสบู่การเมืองแตก ทักษิณหมดกึ๋น ชนชั้นกลางหมด...         11  \n",
       "4                     กอต.เสนอเลิกถนนคลองลาน-อุ้มผาง          9  "
      ]
     },
     "execution_count": 20,
     "metadata": {},
     "output_type": "execute_result"
    }
   ],
   "source": [
    "df = pd.read_csv(\"cleaned_data/prachathai.csv\")\n",
    "title_df = pd.DataFrame({'category':'news','dataset_name':'prachathai-67k-title',\n",
    "                   'text':df['title'],'nb_tokens':df['title_tokens']})\n",
    "title_df.to_csv(\"cleaned_data/prachathai_title.csv\",index=False)\n",
    "title_df.head()"
   ]
  },
  {
   "cell_type": "code",
   "execution_count": 21,
   "metadata": {
    "scrolled": true
   },
   "outputs": [
    {
     "data": {
      "text/html": [
       "<div>\n",
       "<style scoped>\n",
       "    .dataframe tbody tr th:only-of-type {\n",
       "        vertical-align: middle;\n",
       "    }\n",
       "\n",
       "    .dataframe tbody tr th {\n",
       "        vertical-align: top;\n",
       "    }\n",
       "\n",
       "    .dataframe thead th {\n",
       "        text-align: right;\n",
       "    }\n",
       "</style>\n",
       "<table border=\"1\" class=\"dataframe\">\n",
       "  <thead>\n",
       "    <tr style=\"text-align: right;\">\n",
       "      <th></th>\n",
       "      <th>category</th>\n",
       "      <th>dataset_name</th>\n",
       "      <th>text</th>\n",
       "      <th>nb_tokens</th>\n",
       "    </tr>\n",
       "  </thead>\n",
       "  <tbody>\n",
       "    <tr>\n",
       "      <th>0</th>\n",
       "      <td>news</td>\n",
       "      <td>prachathai-67k-body_text</td>\n",
       "      <td>ประชาไท --- 23 ส.ค.2547  นักวิจัยฯ ชี้นโยบายจี...</td>\n",
       "      <td>482</td>\n",
       "    </tr>\n",
       "    <tr>\n",
       "      <th>1</th>\n",
       "      <td>news</td>\n",
       "      <td>prachathai-67k-body_text</td>\n",
       "      <td>ประชาไท- 23 ส.ค.2547   นักวิชาการ ภาคประชาชน จ...</td>\n",
       "      <td>621</td>\n",
       "    </tr>\n",
       "    <tr>\n",
       "      <th>2</th>\n",
       "      <td>news</td>\n",
       "      <td>prachathai-67k-body_text</td>\n",
       "      <td>นโยบายที่อนุญาตให้ปลูกร่วมกับพืชอื่นได้นั้นถื...</td>\n",
       "      <td>305</td>\n",
       "    </tr>\n",
       "    <tr>\n",
       "      <th>3</th>\n",
       "      <td>news</td>\n",
       "      <td>prachathai-67k-body_text</td>\n",
       "      <td>ประชาไท -- 23 ส.ค. 47  ขาประจำทักษิณ ฟันธง ฟอง...</td>\n",
       "      <td>799</td>\n",
       "    </tr>\n",
       "    <tr>\n",
       "      <th>4</th>\n",
       "      <td>news</td>\n",
       "      <td>prachathai-67k-body_text</td>\n",
       "      <td>ประชาไท-23 ส.ค.47  คณะกรรมการอนุรักษ์ ผืนป่าตะ...</td>\n",
       "      <td>317</td>\n",
       "    </tr>\n",
       "  </tbody>\n",
       "</table>\n",
       "</div>"
      ],
      "text/plain": [
       "  category              dataset_name  \\\n",
       "0     news  prachathai-67k-body_text   \n",
       "1     news  prachathai-67k-body_text   \n",
       "2     news  prachathai-67k-body_text   \n",
       "3     news  prachathai-67k-body_text   \n",
       "4     news  prachathai-67k-body_text   \n",
       "\n",
       "                                                text  nb_tokens  \n",
       "0  ประชาไท --- 23 ส.ค.2547  นักวิจัยฯ ชี้นโยบายจี...        482  \n",
       "1  ประชาไท- 23 ส.ค.2547   นักวิชาการ ภาคประชาชน จ...        621  \n",
       "2   นโยบายที่อนุญาตให้ปลูกร่วมกับพืชอื่นได้นั้นถื...        305  \n",
       "3  ประชาไท -- 23 ส.ค. 47  ขาประจำทักษิณ ฟันธง ฟอง...        799  \n",
       "4  ประชาไท-23 ส.ค.47  คณะกรรมการอนุรักษ์ ผืนป่าตะ...        317  "
      ]
     },
     "execution_count": 21,
     "metadata": {},
     "output_type": "execute_result"
    }
   ],
   "source": [
    "body_text_df = pd.DataFrame({'category':'news','dataset_name':'prachathai-67k-body_text',\n",
    "                   'text':df['body_text'],'nb_tokens':df['body_text_tokens']})\n",
    "body_text_df.to_csv(\"cleaned_data/prachathai_body_text.csv\",index=False)\n",
    "body_text_df.head()"
   ]
  },
  {
   "cell_type": "code",
   "execution_count": 23,
   "metadata": {},
   "outputs": [
    {
     "data": {
      "text/plain": [
       "(1078087, 93632233)"
      ]
     },
     "execution_count": 23,
     "metadata": {},
     "output_type": "execute_result"
    }
   ],
   "source": [
    "title_df.nb_tokens.sum(),body_text_df.nb_tokens.sum()"
   ]
  },
  {
   "cell_type": "markdown",
   "metadata": {},
   "source": [
    "## `truevoice-intent`"
   ]
  },
  {
   "cell_type": "code",
   "execution_count": 27,
   "metadata": {},
   "outputs": [
    {
     "data": {
      "text/plain": [
       "((12939, 5), (3236, 5), (16175, 6))"
      ]
     },
     "execution_count": 27,
     "metadata": {},
     "output_type": "execute_result"
    }
   ],
   "source": [
    "train = pd.read_csv('raw_data/truevoice-intent/mari_train.csv')\n",
    "test = pd.read_csv('raw_data/truevoice-intent/mari_test.csv')\n",
    "mari = pd.concat([train,test]).reset_index(drop=True)\n",
    "mari['nb_tokens'] = mari.texts_deepcut.map(lambda x: len(x.split()))\n",
    "train.shape, test.shape, mari.shape"
   ]
  },
  {
   "cell_type": "code",
   "execution_count": 28,
   "metadata": {},
   "outputs": [
    {
     "data": {
      "text/html": [
       "<div>\n",
       "<style scoped>\n",
       "    .dataframe tbody tr th:only-of-type {\n",
       "        vertical-align: middle;\n",
       "    }\n",
       "\n",
       "    .dataframe tbody tr th {\n",
       "        vertical-align: top;\n",
       "    }\n",
       "\n",
       "    .dataframe thead th {\n",
       "        text-align: right;\n",
       "    }\n",
       "</style>\n",
       "<table border=\"1\" class=\"dataframe\">\n",
       "  <thead>\n",
       "    <tr style=\"text-align: right;\">\n",
       "      <th></th>\n",
       "      <th>texts</th>\n",
       "      <th>texts_deepcut</th>\n",
       "      <th>action</th>\n",
       "      <th>object</th>\n",
       "      <th>destination</th>\n",
       "      <th>nb_tokens</th>\n",
       "    </tr>\n",
       "  </thead>\n",
       "  <tbody>\n",
       "    <tr>\n",
       "      <th>0</th>\n",
       "      <td>ผมไปจ่ายเงินที่ Counter Services เค้าเช็ต . บ...</td>\n",
       "      <td>ผม ไป จ่าย เงิน ที่ Counter Services เค้า เช็...</td>\n",
       "      <td>enquire</td>\n",
       "      <td>payment</td>\n",
       "      <td>billing and payment</td>\n",
       "      <td>21</td>\n",
       "    </tr>\n",
       "    <tr>\n",
       "      <th>1</th>\n",
       "      <td>internet ยังความเร็วอยุ่เท่าไหร ครับ</td>\n",
       "      <td>internet ยัง ความ เร็ว อยุ่ เท่า ไหร ครับ</td>\n",
       "      <td>enquire</td>\n",
       "      <td>package</td>\n",
       "      <td>promotions</td>\n",
       "      <td>8</td>\n",
       "    </tr>\n",
       "    <tr>\n",
       "      <th>2</th>\n",
       "      <td>ตะกี้ไปชำระค่าบริการไปแล้ว แต่ยังใช้งานไม่ได้...</td>\n",
       "      <td>ตะกี้ ไป ชำระ ค่า บริการ ไป แล้ว แต่ ยัง ใช้ ...</td>\n",
       "      <td>report</td>\n",
       "      <td>suspend</td>\n",
       "      <td>billing and payment</td>\n",
       "      <td>14</td>\n",
       "    </tr>\n",
       "    <tr>\n",
       "      <th>3</th>\n",
       "      <td>พี่ค่ะยังใช้ internet ไม่ได้เลยค่ะ เป็นเครื่อ...</td>\n",
       "      <td>พี่ ค่ะ ยัง ใช้ internet ไม่ ได้ เลย ค่ะ เป็น...</td>\n",
       "      <td>enquire</td>\n",
       "      <td>internet</td>\n",
       "      <td>internet</td>\n",
       "      <td>12</td>\n",
       "    </tr>\n",
       "    <tr>\n",
       "      <th>4</th>\n",
       "      <td>ฮาโหล คะ พอดีว่าเมื่อวานเปิดซิมทรูมูฟ แต่มันโ...</td>\n",
       "      <td>ฮาโหล คะ พอดี ว่า เมื่อ วาน เปิด ซิม ทรูมูฟ แ...</td>\n",
       "      <td>report</td>\n",
       "      <td>phone_issues</td>\n",
       "      <td>billing and payment</td>\n",
       "      <td>20</td>\n",
       "    </tr>\n",
       "  </tbody>\n",
       "</table>\n",
       "</div>"
      ],
      "text/plain": [
       "                                               texts  \\\n",
       "0   ผมไปจ่ายเงินที่ Counter Services เค้าเช็ต . บ...   \n",
       "1               internet ยังความเร็วอยุ่เท่าไหร ครับ   \n",
       "2   ตะกี้ไปชำระค่าบริการไปแล้ว แต่ยังใช้งานไม่ได้...   \n",
       "3   พี่ค่ะยังใช้ internet ไม่ได้เลยค่ะ เป็นเครื่อ...   \n",
       "4   ฮาโหล คะ พอดีว่าเมื่อวานเปิดซิมทรูมูฟ แต่มันโ...   \n",
       "\n",
       "                                       texts_deepcut   action        object  \\\n",
       "0   ผม ไป จ่าย เงิน ที่ Counter Services เค้า เช็...  enquire       payment   \n",
       "1          internet ยัง ความ เร็ว อยุ่ เท่า ไหร ครับ  enquire       package   \n",
       "2   ตะกี้ ไป ชำระ ค่า บริการ ไป แล้ว แต่ ยัง ใช้ ...   report       suspend   \n",
       "3   พี่ ค่ะ ยัง ใช้ internet ไม่ ได้ เลย ค่ะ เป็น...  enquire      internet   \n",
       "4   ฮาโหล คะ พอดี ว่า เมื่อ วาน เปิด ซิม ทรูมูฟ แ...   report  phone_issues   \n",
       "\n",
       "           destination  nb_tokens  \n",
       "0  billing and payment         21  \n",
       "1           promotions          8  \n",
       "2  billing and payment         14  \n",
       "3             internet         12  \n",
       "4  billing and payment         20  "
      ]
     },
     "execution_count": 28,
     "metadata": {},
     "output_type": "execute_result"
    }
   ],
   "source": [
    "mari.head()"
   ]
  },
  {
   "cell_type": "code",
   "execution_count": 30,
   "metadata": {},
   "outputs": [
    {
     "data": {
      "text/html": [
       "<div>\n",
       "<style scoped>\n",
       "    .dataframe tbody tr th:only-of-type {\n",
       "        vertical-align: middle;\n",
       "    }\n",
       "\n",
       "    .dataframe tbody tr th {\n",
       "        vertical-align: top;\n",
       "    }\n",
       "\n",
       "    .dataframe thead th {\n",
       "        text-align: right;\n",
       "    }\n",
       "</style>\n",
       "<table border=\"1\" class=\"dataframe\">\n",
       "  <thead>\n",
       "    <tr style=\"text-align: right;\">\n",
       "      <th></th>\n",
       "      <th>category</th>\n",
       "      <th>dataset_name</th>\n",
       "      <th>text</th>\n",
       "      <th>nb_tokens</th>\n",
       "    </tr>\n",
       "  </thead>\n",
       "  <tbody>\n",
       "    <tr>\n",
       "      <th>0</th>\n",
       "      <td>conversations</td>\n",
       "      <td>truevoice-intent</td>\n",
       "      <td>ผมไปจ่ายเงินที่ Counter Services เค้าเช็ต . บ...</td>\n",
       "      <td>21</td>\n",
       "    </tr>\n",
       "    <tr>\n",
       "      <th>1</th>\n",
       "      <td>conversations</td>\n",
       "      <td>truevoice-intent</td>\n",
       "      <td>internet ยังความเร็วอยุ่เท่าไหร ครับ</td>\n",
       "      <td>8</td>\n",
       "    </tr>\n",
       "    <tr>\n",
       "      <th>2</th>\n",
       "      <td>conversations</td>\n",
       "      <td>truevoice-intent</td>\n",
       "      <td>ตะกี้ไปชำระค่าบริการไปแล้ว แต่ยังใช้งานไม่ได้...</td>\n",
       "      <td>14</td>\n",
       "    </tr>\n",
       "    <tr>\n",
       "      <th>3</th>\n",
       "      <td>conversations</td>\n",
       "      <td>truevoice-intent</td>\n",
       "      <td>พี่ค่ะยังใช้ internet ไม่ได้เลยค่ะ เป็นเครื่อ...</td>\n",
       "      <td>12</td>\n",
       "    </tr>\n",
       "    <tr>\n",
       "      <th>4</th>\n",
       "      <td>conversations</td>\n",
       "      <td>truevoice-intent</td>\n",
       "      <td>ฮาโหล คะ พอดีว่าเมื่อวานเปิดซิมทรูมูฟ แต่มันโ...</td>\n",
       "      <td>20</td>\n",
       "    </tr>\n",
       "  </tbody>\n",
       "</table>\n",
       "</div>"
      ],
      "text/plain": [
       "        category      dataset_name  \\\n",
       "0  conversations  truevoice-intent   \n",
       "1  conversations  truevoice-intent   \n",
       "2  conversations  truevoice-intent   \n",
       "3  conversations  truevoice-intent   \n",
       "4  conversations  truevoice-intent   \n",
       "\n",
       "                                                text  nb_tokens  \n",
       "0   ผมไปจ่ายเงินที่ Counter Services เค้าเช็ต . บ...         21  \n",
       "1               internet ยังความเร็วอยุ่เท่าไหร ครับ          8  \n",
       "2   ตะกี้ไปชำระค่าบริการไปแล้ว แต่ยังใช้งานไม่ได้...         14  \n",
       "3   พี่ค่ะยังใช้ internet ไม่ได้เลยค่ะ เป็นเครื่อ...         12  \n",
       "4   ฮาโหล คะ พอดีว่าเมื่อวานเปิดซิมทรูมูฟ แต่มันโ...         20  "
      ]
     },
     "execution_count": 30,
     "metadata": {},
     "output_type": "execute_result"
    }
   ],
   "source": [
    "df = pd.DataFrame({'category':'conversations','dataset_name':'truevoice-intent',\n",
    "                   'text':mari['texts'],'nb_tokens':mari['nb_tokens']})\n",
    "df.to_csv(\"cleaned_data/truevoice_intent.csv\",index=False)\n",
    "df.head()"
   ]
  },
  {
   "cell_type": "code",
   "execution_count": 31,
   "metadata": {},
   "outputs": [
    {
     "data": {
      "text/plain": [
       "183929"
      ]
     },
     "execution_count": 31,
     "metadata": {},
     "output_type": "execute_result"
    }
   ],
   "source": [
    "df.nb_tokens.sum()"
   ]
  },
  {
   "cell_type": "markdown",
   "metadata": {},
   "source": [
    "## `wisesight-sentiment`"
   ]
  },
  {
   "cell_type": "code",
   "execution_count": 40,
   "metadata": {},
   "outputs": [
    {
     "data": {
      "text/plain": [
       "26737"
      ]
     },
     "execution_count": 40,
     "metadata": {},
     "output_type": "execute_result"
    }
   ],
   "source": [
    "with open('raw_data/wisesight-sentiment/neg.txt','r') as f: neg = f.readlines()\n",
    "with open('raw_data/wisesight-sentiment/neu.txt','r') as f: neu = f.readlines()\n",
    "with open('raw_data/wisesight-sentiment/pos.txt','r') as f: pos = f.readlines()\n",
    "with open('raw_data/wisesight-sentiment/q.txt','r') as f: q = f.readlines()\n",
    "all_msg = neg + neu + pos + q\n",
    "len(all_msg)"
   ]
  },
  {
   "cell_type": "code",
   "execution_count": 41,
   "metadata": {},
   "outputs": [
    {
     "data": {
      "text/html": [
       "<div>\n",
       "<style scoped>\n",
       "    .dataframe tbody tr th:only-of-type {\n",
       "        vertical-align: middle;\n",
       "    }\n",
       "\n",
       "    .dataframe tbody tr th {\n",
       "        vertical-align: top;\n",
       "    }\n",
       "\n",
       "    .dataframe thead th {\n",
       "        text-align: right;\n",
       "    }\n",
       "</style>\n",
       "<table border=\"1\" class=\"dataframe\">\n",
       "  <thead>\n",
       "    <tr style=\"text-align: right;\">\n",
       "      <th></th>\n",
       "      <th>category</th>\n",
       "      <th>dataset_name</th>\n",
       "      <th>text</th>\n",
       "      <th>nb_tokens</th>\n",
       "    </tr>\n",
       "  </thead>\n",
       "  <tbody>\n",
       "    <tr>\n",
       "      <th>26732</th>\n",
       "      <td>social</td>\n",
       "      <td>wisesight-sentiment</td>\n",
       "      <td>วิธีซื้อรถมือสองต้องดูยังไงดีครับตอนนั้นพีจิมแ...</td>\n",
       "      <td>0</td>\n",
       "    </tr>\n",
       "    <tr>\n",
       "      <th>26733</th>\n",
       "      <td>social</td>\n",
       "      <td>wisesight-sentiment</td>\n",
       "      <td>- น้ำมันเครื่อง ทั้ง Fully / Semi เบนซิน - น้ำ...</td>\n",
       "      <td>0</td>\n",
       "    </tr>\n",
       "    <tr>\n",
       "      <th>26734</th>\n",
       "      <td>social</td>\n",
       "      <td>wisesight-sentiment</td>\n",
       "      <td>Honda Civic Hatchback ที่มากับสีแดง ราคาเท่าเด...</td>\n",
       "      <td>0</td>\n",
       "    </tr>\n",
       "    <tr>\n",
       "      <th>26735</th>\n",
       "      <td>social</td>\n",
       "      <td>wisesight-sentiment</td>\n",
       "      <td>กำลังจะเริ่ม skincare 2 ตัวคือ stemfactor กับ ...</td>\n",
       "      <td>0</td>\n",
       "    </tr>\n",
       "    <tr>\n",
       "      <th>26736</th>\n",
       "      <td>social</td>\n",
       "      <td>wisesight-sentiment</td>\n",
       "      <td>พี่คะ หนูอยากสอบถามเรื่องนึงค่ะ อาจะไม่เกี่ยวก...</td>\n",
       "      <td>0</td>\n",
       "    </tr>\n",
       "  </tbody>\n",
       "</table>\n",
       "</div>"
      ],
      "text/plain": [
       "      category         dataset_name  \\\n",
       "26732   social  wisesight-sentiment   \n",
       "26733   social  wisesight-sentiment   \n",
       "26734   social  wisesight-sentiment   \n",
       "26735   social  wisesight-sentiment   \n",
       "26736   social  wisesight-sentiment   \n",
       "\n",
       "                                                    text  nb_tokens  \n",
       "26732  วิธีซื้อรถมือสองต้องดูยังไงดีครับตอนนั้นพีจิมแ...          0  \n",
       "26733  - น้ำมันเครื่อง ทั้ง Fully / Semi เบนซิน - น้ำ...          0  \n",
       "26734  Honda Civic Hatchback ที่มากับสีแดง ราคาเท่าเด...          0  \n",
       "26735  กำลังจะเริ่ม skincare 2 ตัวคือ stemfactor กับ ...          0  \n",
       "26736  พี่คะ หนูอยากสอบถามเรื่องนึงค่ะ อาจะไม่เกี่ยวก...          0  "
      ]
     },
     "execution_count": 41,
     "metadata": {},
     "output_type": "execute_result"
    }
   ],
   "source": [
    "df = pd.DataFrame({'category':'social','dataset_name':'wisesight-sentiment',\n",
    "                   'text':all_msg, 'nb_tokens': 0})\n",
    "df.tail()"
   ]
  },
  {
   "cell_type": "code",
   "execution_count": 42,
   "metadata": {},
   "outputs": [
    {
     "data": {
      "text/plain": [
       "(Delayed('int-fe960c41-6df6-4c71-9970-941a62d908ba'), 4)"
      ]
     },
     "execution_count": 42,
     "metadata": {},
     "output_type": "execute_result"
    }
   ],
   "source": [
    "df_d = dd.from_pandas(df,npartitions=nb_cores*10)\n",
    "df_d.shape"
   ]
  },
  {
   "cell_type": "code",
   "execution_count": 43,
   "metadata": {},
   "outputs": [],
   "source": [
    "df_d['nb_tokens'] = df_d.text.map(lambda x: len(word_tokenize(x)))"
   ]
  },
  {
   "cell_type": "code",
   "execution_count": 44,
   "metadata": {},
   "outputs": [
    {
     "name": "stdout",
     "output_type": "stream",
     "text": [
      "CPU times: user 7.58 s, sys: 433 ms, total: 8.01 s\n",
      "Wall time: 8.19 s\n"
     ]
    }
   ],
   "source": [
    "%%time\n",
    "df_save = df_d.compute()\n",
    "df_save.to_csv(\"cleaned_data/wisesight_sentiment.csv\",index=False)"
   ]
  },
  {
   "cell_type": "code",
   "execution_count": 47,
   "metadata": {},
   "outputs": [
    {
     "data": {
      "text/plain": [
       "754319"
      ]
     },
     "execution_count": 47,
     "metadata": {},
     "output_type": "execute_result"
    }
   ],
   "source": [
    "df_save.nb_tokens.sum()"
   ]
  },
  {
   "cell_type": "markdown",
   "metadata": {},
   "source": [
    "## `thwiki`"
   ]
  },
  {
   "cell_type": "markdown",
   "metadata": {},
   "source": [
    "Run `prepare_wiki_th.sh`."
   ]
  },
  {
   "cell_type": "code",
   "execution_count": 96,
   "metadata": {},
   "outputs": [
    {
     "data": {
      "application/vnd.jupyter.widget-view+json": {
       "model_id": "c013d6a754a24e34a3af9bc9cf7ec883",
       "version_major": 2,
       "version_minor": 0
      },
      "text/plain": [
       "HBox(children=(IntProgress(value=0, max=7807), HTML(value='')))"
      ]
     },
     "metadata": {},
     "output_type": "display_data"
    },
    {
     "name": "stdout",
     "output_type": "stream",
     "text": [
      "\n"
     ]
    },
    {
     "data": {
      "text/html": [
       "<div>\n",
       "<style scoped>\n",
       "    .dataframe tbody tr th:only-of-type {\n",
       "        vertical-align: middle;\n",
       "    }\n",
       "\n",
       "    .dataframe tbody tr th {\n",
       "        vertical-align: top;\n",
       "    }\n",
       "\n",
       "    .dataframe thead th {\n",
       "        text-align: right;\n",
       "    }\n",
       "</style>\n",
       "<table border=\"1\" class=\"dataframe\">\n",
       "  <thead>\n",
       "    <tr style=\"text-align: right;\">\n",
       "      <th></th>\n",
       "      <th>category</th>\n",
       "      <th>dataset_name</th>\n",
       "      <th>text</th>\n",
       "      <th>nb_tokens</th>\n",
       "    </tr>\n",
       "  </thead>\n",
       "  <tbody>\n",
       "    <tr>\n",
       "      <th>4432</th>\n",
       "      <td>encyclopedia</td>\n",
       "      <td>thwiki</td>\n",
       "      <td>อ้างอิง</td>\n",
       "      <td>1</td>\n",
       "    </tr>\n",
       "    <tr>\n",
       "      <th>4433</th>\n",
       "      <td>encyclopedia</td>\n",
       "      <td>thwiki</td>\n",
       "      <td>BUDSIR VI (พระไตรปิฎกฉบับคอมพิวเตอร์ มหาวิทยาล...</td>\n",
       "      <td>11</td>\n",
       "    </tr>\n",
       "    <tr>\n",
       "      <th>4434</th>\n",
       "      <td>encyclopedia</td>\n",
       "      <td>thwiki</td>\n",
       "      <td>- พระไตรปิฎก ภาษาไทย เล่มที่ ๔ (วินัยปิฎก มหาว...</td>\n",
       "      <td>27</td>\n",
       "    </tr>\n",
       "    <tr>\n",
       "      <th>4435</th>\n",
       "      <td>encyclopedia</td>\n",
       "      <td>thwiki</td>\n",
       "      <td>- พระไตรปิฎก ภาษาไทย เล่มที่ ๑๘ (สังยุตตนิกาย ...</td>\n",
       "      <td>27</td>\n",
       "    </tr>\n",
       "    <tr>\n",
       "      <th>4436</th>\n",
       "      <td>encyclopedia</td>\n",
       "      <td>thwiki</td>\n",
       "      <td>อรรถกถา ดูที่ พระไตรปิฎกและอรรถกถาแปล (ชุด ๙๑ ...</td>\n",
       "      <td>24</td>\n",
       "    </tr>\n",
       "  </tbody>\n",
       "</table>\n",
       "</div>"
      ],
      "text/plain": [
       "          category dataset_name  \\\n",
       "4432  encyclopedia       thwiki   \n",
       "4433  encyclopedia       thwiki   \n",
       "4434  encyclopedia       thwiki   \n",
       "4435  encyclopedia       thwiki   \n",
       "4436  encyclopedia       thwiki   \n",
       "\n",
       "                                                   text  nb_tokens  \n",
       "4432                                            อ้างอิง          1  \n",
       "4433  BUDSIR VI (พระไตรปิฎกฉบับคอมพิวเตอร์ มหาวิทยาล...         11  \n",
       "4434  - พระไตรปิฎก ภาษาไทย เล่มที่ ๔ (วินัยปิฎก มหาว...         27  \n",
       "4435  - พระไตรปิฎก ภาษาไทย เล่มที่ ๑๘ (สังยุตตนิกาย ...         27  \n",
       "4436  อรรถกถา ดูที่ พระไตรปิฎกและอรรถกถาแปล (ชุด ๙๑ ...         24  "
      ]
     },
     "execution_count": 96,
     "metadata": {},
     "output_type": "execute_result"
    }
   ],
   "source": [
    "lines = []\n",
    "nb_tokens = []\n",
    "with open('raw_data/thwiki/wiki/th-all/th.wiki.test.tokens') as f:\n",
    "    for l in tqdm_notebook(f.readlines()):\n",
    "        nb_token=len(word_tokenize(l))\n",
    "        if nb_token>1:\n",
    "            lines.append(l[:-1])\n",
    "            nb_tokens.append(nb_token-1)\n",
    "test = pd.DataFrame({'category':'encyclopedia','dataset_name':'thwiki',\n",
    "                   'text':lines, 'nb_tokens': nb_tokens})\n",
    "test.tail()"
   ]
  },
  {
   "cell_type": "code",
   "execution_count": 97,
   "metadata": {},
   "outputs": [
    {
     "data": {
      "application/vnd.jupyter.widget-view+json": {
       "model_id": "188cd17a594d492398b556222e13353f",
       "version_major": 2,
       "version_minor": 0
      },
      "text/plain": [
       "HBox(children=(IntProgress(value=0, max=6120), HTML(value='')))"
      ]
     },
     "metadata": {},
     "output_type": "display_data"
    },
    {
     "name": "stdout",
     "output_type": "stream",
     "text": [
      "\n"
     ]
    },
    {
     "data": {
      "text/html": [
       "<div>\n",
       "<style scoped>\n",
       "    .dataframe tbody tr th:only-of-type {\n",
       "        vertical-align: middle;\n",
       "    }\n",
       "\n",
       "    .dataframe tbody tr th {\n",
       "        vertical-align: top;\n",
       "    }\n",
       "\n",
       "    .dataframe thead th {\n",
       "        text-align: right;\n",
       "    }\n",
       "</style>\n",
       "<table border=\"1\" class=\"dataframe\">\n",
       "  <thead>\n",
       "    <tr style=\"text-align: right;\">\n",
       "      <th></th>\n",
       "      <th>category</th>\n",
       "      <th>dataset_name</th>\n",
       "      <th>text</th>\n",
       "      <th>nb_tokens</th>\n",
       "    </tr>\n",
       "  </thead>\n",
       "  <tbody>\n",
       "    <tr>\n",
       "      <th>3200</th>\n",
       "      <td>encyclopedia</td>\n",
       "      <td>thwiki</td>\n",
       "      <td>\"Sentinels of Silence\"</td>\n",
       "      <td>7</td>\n",
       "    </tr>\n",
       "    <tr>\n",
       "      <th>3201</th>\n",
       "      <td>encyclopedia</td>\n",
       "      <td>thwiki</td>\n",
       "      <td>Section::::Best Documentary, Features.</td>\n",
       "      <td>9</td>\n",
       "    </tr>\n",
       "    <tr>\n",
       "      <th>3202</th>\n",
       "      <td>encyclopedia</td>\n",
       "      <td>thwiki</td>\n",
       "      <td>\"The Hellstrom Chronicle\"</td>\n",
       "      <td>7</td>\n",
       "    </tr>\n",
       "    <tr>\n",
       "      <th>3203</th>\n",
       "      <td>encyclopedia</td>\n",
       "      <td>thwiki</td>\n",
       "      <td>Section::::Best Foreign Language Film.</td>\n",
       "      <td>10</td>\n",
       "    </tr>\n",
       "    <tr>\n",
       "      <th>3204</th>\n",
       "      <td>encyclopedia</td>\n",
       "      <td>thwiki</td>\n",
       "      <td>\"The Garden of the Finzi-Continis - Italy\"</td>\n",
       "      <td>15</td>\n",
       "    </tr>\n",
       "  </tbody>\n",
       "</table>\n",
       "</div>"
      ],
      "text/plain": [
       "          category dataset_name                                        text  \\\n",
       "3200  encyclopedia       thwiki                      \"Sentinels of Silence\"   \n",
       "3201  encyclopedia       thwiki      Section::::Best Documentary, Features.   \n",
       "3202  encyclopedia       thwiki                   \"The Hellstrom Chronicle\"   \n",
       "3203  encyclopedia       thwiki      Section::::Best Foreign Language Film.   \n",
       "3204  encyclopedia       thwiki  \"The Garden of the Finzi-Continis - Italy\"   \n",
       "\n",
       "      nb_tokens  \n",
       "3200          7  \n",
       "3201          9  \n",
       "3202          7  \n",
       "3203         10  \n",
       "3204         15  "
      ]
     },
     "execution_count": 97,
     "metadata": {},
     "output_type": "execute_result"
    }
   ],
   "source": [
    "lines = []\n",
    "nb_tokens = []\n",
    "with open('raw_data/thwiki/wiki/th-all/th.wiki.valid.tokens') as f:\n",
    "    for l in tqdm_notebook(f.readlines()):\n",
    "        nb_token=len(word_tokenize(l))\n",
    "        if nb_token>1:\n",
    "            lines.append(l[:-1])\n",
    "            nb_tokens.append(nb_token-1)\n",
    "valid = pd.DataFrame({'category':'encyclopedia','dataset_name':'thwiki',\n",
    "                   'text':lines, 'nb_tokens': nb_tokens})\n",
    "valid.tail()"
   ]
  },
  {
   "cell_type": "code",
   "execution_count": 98,
   "metadata": {},
   "outputs": [
    {
     "data": {
      "text/html": [
       "<div>\n",
       "<style scoped>\n",
       "    .dataframe tbody tr th:only-of-type {\n",
       "        vertical-align: middle;\n",
       "    }\n",
       "\n",
       "    .dataframe tbody tr th {\n",
       "        vertical-align: top;\n",
       "    }\n",
       "\n",
       "    .dataframe thead th {\n",
       "        text-align: right;\n",
       "    }\n",
       "</style>\n",
       "<table border=\"1\" class=\"dataframe\">\n",
       "  <thead>\n",
       "    <tr style=\"text-align: right;\">\n",
       "      <th></th>\n",
       "      <th>category</th>\n",
       "      <th>dataset_name</th>\n",
       "      <th>text</th>\n",
       "      <th>nb_tokens</th>\n",
       "    </tr>\n",
       "  </thead>\n",
       "  <tbody>\n",
       "    <tr>\n",
       "      <th>0</th>\n",
       "      <td>encyclopedia</td>\n",
       "      <td>thwiki</td>\n",
       "      <td>ด็อก เดย์ อาฟเตอร์นูน</td>\n",
       "      <td>6</td>\n",
       "    </tr>\n",
       "    <tr>\n",
       "      <th>1</th>\n",
       "      <td>encyclopedia</td>\n",
       "      <td>thwiki</td>\n",
       "      <td>ด็อก เดย์ อาฟเตอร์นูน (Dog Day Afternoon) ชื่อ...</td>\n",
       "      <td>93</td>\n",
       "    </tr>\n",
       "    <tr>\n",
       "      <th>2</th>\n",
       "      <td>encyclopedia</td>\n",
       "      <td>thwiki</td>\n",
       "      <td>ภาพยนตร์ได้แรงบันดาลใจมาจากบทความชื่อ \"The Boy...</td>\n",
       "      <td>136</td>\n",
       "    </tr>\n",
       "    <tr>\n",
       "      <th>3</th>\n",
       "      <td>encyclopedia</td>\n",
       "      <td>thwiki</td>\n",
       "      <td>ภาพยนตร์ได้ดัดแปลงชื่อตัวเอก เป็น ซันนี (Sonny...</td>\n",
       "      <td>47</td>\n",
       "    </tr>\n",
       "    <tr>\n",
       "      <th>4</th>\n",
       "      <td>encyclopedia</td>\n",
       "      <td>thwiki</td>\n",
       "      <td>ภาพยนตร์ได้รับการเสนอชื่อเข้าชิงรางวัลออสการ์แ...</td>\n",
       "      <td>21</td>\n",
       "    </tr>\n",
       "  </tbody>\n",
       "</table>\n",
       "</div>"
      ],
      "text/plain": [
       "       category dataset_name  \\\n",
       "0  encyclopedia       thwiki   \n",
       "1  encyclopedia       thwiki   \n",
       "2  encyclopedia       thwiki   \n",
       "3  encyclopedia       thwiki   \n",
       "4  encyclopedia       thwiki   \n",
       "\n",
       "                                                text  nb_tokens  \n",
       "0                              ด็อก เดย์ อาฟเตอร์นูน          6  \n",
       "1  ด็อก เดย์ อาฟเตอร์นูน (Dog Day Afternoon) ชื่อ...         93  \n",
       "2  ภาพยนตร์ได้แรงบันดาลใจมาจากบทความชื่อ \"The Boy...        136  \n",
       "3  ภาพยนตร์ได้ดัดแปลงชื่อตัวเอก เป็น ซันนี (Sonny...         47  \n",
       "4  ภาพยนตร์ได้รับการเสนอชื่อเข้าชิงรางวัลออสการ์แ...         21  "
      ]
     },
     "execution_count": 98,
     "metadata": {},
     "output_type": "execute_result"
    }
   ],
   "source": [
    "valid.head()"
   ]
  },
  {
   "cell_type": "code",
   "execution_count": 100,
   "metadata": {},
   "outputs": [
    {
     "data": {
      "application/vnd.jupyter.widget-view+json": {
       "model_id": "b706075877f84006a6017bd1d3d2df70",
       "version_major": 2,
       "version_minor": 0
      },
      "text/plain": [
       "HBox(children=(IntProgress(value=0, max=1722107), HTML(value='')))"
      ]
     },
     "metadata": {},
     "output_type": "display_data"
    },
    {
     "name": "stdout",
     "output_type": "stream",
     "text": [
      "\n"
     ]
    },
    {
     "data": {
      "text/html": [
       "<div>\n",
       "<style scoped>\n",
       "    .dataframe tbody tr th:only-of-type {\n",
       "        vertical-align: middle;\n",
       "    }\n",
       "\n",
       "    .dataframe tbody tr th {\n",
       "        vertical-align: top;\n",
       "    }\n",
       "\n",
       "    .dataframe thead th {\n",
       "        text-align: right;\n",
       "    }\n",
       "</style>\n",
       "<table border=\"1\" class=\"dataframe\">\n",
       "  <thead>\n",
       "    <tr style=\"text-align: right;\">\n",
       "      <th></th>\n",
       "      <th>category</th>\n",
       "      <th>dataset_name</th>\n",
       "      <th>text</th>\n",
       "      <th>nb_tokens</th>\n",
       "    </tr>\n",
       "  </thead>\n",
       "  <tbody>\n",
       "    <tr>\n",
       "      <th>936734</th>\n",
       "      <td>encyclopedia</td>\n",
       "      <td>thwiki</td>\n",
       "      <td>น้ำมันเมล็ดทานตะวันแบบมีกรดโอเลอิกสูงมีไขมันไม...</td>\n",
       "      <td>22</td>\n",
       "    </tr>\n",
       "    <tr>\n",
       "      <th>936735</th>\n",
       "      <td>encyclopedia</td>\n",
       "      <td>thwiki</td>\n",
       "      <td>ส่วนน้ำมันเมล็ดผักกาด (Canola oil) และมะม่วงหิ...</td>\n",
       "      <td>25</td>\n",
       "    </tr>\n",
       "    <tr>\n",
       "      <th>936736</th>\n",
       "      <td>encyclopedia</td>\n",
       "      <td>thwiki</td>\n",
       "      <td>ไขมันวัวเป็นไขมันไม่อิ่มตัวแบบมีพันธะคู่เดี่ยว...</td>\n",
       "      <td>12</td>\n",
       "    </tr>\n",
       "    <tr>\n",
       "      <th>936737</th>\n",
       "      <td>encyclopedia</td>\n",
       "      <td>thwiki</td>\n",
       "      <td>และมันหมู 40%</td>\n",
       "      <td>6</td>\n",
       "    </tr>\n",
       "    <tr>\n",
       "      <th>936738</th>\n",
       "      <td>encyclopedia</td>\n",
       "      <td>thwiki</td>\n",
       "      <td>แหล่งอาหารอื่นรวมทั้งน้ำมันอาโวคาโด น้ำมันแมคา...</td>\n",
       "      <td>58</td>\n",
       "    </tr>\n",
       "  </tbody>\n",
       "</table>\n",
       "</div>"
      ],
      "text/plain": [
       "            category dataset_name  \\\n",
       "936734  encyclopedia       thwiki   \n",
       "936735  encyclopedia       thwiki   \n",
       "936736  encyclopedia       thwiki   \n",
       "936737  encyclopedia       thwiki   \n",
       "936738  encyclopedia       thwiki   \n",
       "\n",
       "                                                     text  nb_tokens  \n",
       "936734  น้ำมันเมล็ดทานตะวันแบบมีกรดโอเลอิกสูงมีไขมันไม...         22  \n",
       "936735  ส่วนน้ำมันเมล็ดผักกาด (Canola oil) และมะม่วงหิ...         25  \n",
       "936736  ไขมันวัวเป็นไขมันไม่อิ่มตัวแบบมีพันธะคู่เดี่ยว...         12  \n",
       "936737                                      และมันหมู 40%          6  \n",
       "936738  แหล่งอาหารอื่นรวมทั้งน้ำมันอาโวคาโด น้ำมันแมคา...         58  "
      ]
     },
     "execution_count": 100,
     "metadata": {},
     "output_type": "execute_result"
    }
   ],
   "source": [
    "lines = []\n",
    "nb_tokens = []\n",
    "with open('raw_data/thwiki/wiki/th-all/th.wiki.train.tokens') as f:\n",
    "    for l in tqdm_notebook(f.readlines()):\n",
    "        nb_token=len(word_tokenize(l))\n",
    "        if nb_token>1:\n",
    "            lines.append(l[:-1])\n",
    "            nb_tokens.append(nb_token-1)\n",
    "train = pd.DataFrame({'category':'encyclopedia','dataset_name':'thwiki',\n",
    "                   'text':lines, 'nb_tokens': nb_tokens})\n",
    "train.tail()"
   ]
  },
  {
   "cell_type": "code",
   "execution_count": 102,
   "metadata": {},
   "outputs": [
    {
     "data": {
      "text/plain": [
       "(944381, 4)"
      ]
     },
     "execution_count": 102,
     "metadata": {},
     "output_type": "execute_result"
    }
   ],
   "source": [
    "df = pd.concat([train,valid,test]).reset_index(drop=True)\n",
    "df.to_csv('cleaned_data/thwiki.csv',index=False)\n",
    "df.shape"
   ]
  },
  {
   "cell_type": "code",
   "execution_count": 105,
   "metadata": {},
   "outputs": [
    {
     "data": {
      "text/html": [
       "<div>\n",
       "<style scoped>\n",
       "    .dataframe tbody tr th:only-of-type {\n",
       "        vertical-align: middle;\n",
       "    }\n",
       "\n",
       "    .dataframe tbody tr th {\n",
       "        vertical-align: top;\n",
       "    }\n",
       "\n",
       "    .dataframe thead th {\n",
       "        text-align: right;\n",
       "    }\n",
       "</style>\n",
       "<table border=\"1\" class=\"dataframe\">\n",
       "  <thead>\n",
       "    <tr style=\"text-align: right;\">\n",
       "      <th></th>\n",
       "      <th>category</th>\n",
       "      <th>dataset_name</th>\n",
       "      <th>text</th>\n",
       "      <th>nb_tokens</th>\n",
       "    </tr>\n",
       "  </thead>\n",
       "  <tbody>\n",
       "    <tr>\n",
       "      <th>0</th>\n",
       "      <td>encyclopedia</td>\n",
       "      <td>thwiki</td>\n",
       "      <td>แคนแคน</td>\n",
       "      <td>2</td>\n",
       "    </tr>\n",
       "    <tr>\n",
       "      <th>1</th>\n",
       "      <td>encyclopedia</td>\n",
       "      <td>thwiki</td>\n",
       "      <td>แคนแคน (ก็องก็อง แปลว่า \"อื้อฉาว) เป็นรูปแบบกา...</td>\n",
       "      <td>81</td>\n",
       "    </tr>\n",
       "    <tr>\n",
       "      <th>2</th>\n",
       "      <td>encyclopedia</td>\n",
       "      <td>thwiki</td>\n",
       "      <td>ดนตรีที่ใช้ประกอบการเต้น มักใช้เพลงกาล็อพ (gal...</td>\n",
       "      <td>69</td>\n",
       "    </tr>\n",
       "    <tr>\n",
       "      <th>3</th>\n",
       "      <td>encyclopedia</td>\n",
       "      <td>thwiki</td>\n",
       "      <td>การเต้นแบบแคนแคนเกิดขึ้นครั้งแรกราวทศวรรษ 1830...</td>\n",
       "      <td>121</td>\n",
       "    </tr>\n",
       "    <tr>\n",
       "      <th>4</th>\n",
       "      <td>encyclopedia</td>\n",
       "      <td>thwiki</td>\n",
       "      <td>การเต้นแคนแคนที่มูแลงรูจเป็นที่นิยมจนถึงทศวรรษ...</td>\n",
       "      <td>70</td>\n",
       "    </tr>\n",
       "  </tbody>\n",
       "</table>\n",
       "</div>"
      ],
      "text/plain": [
       "       category dataset_name  \\\n",
       "0  encyclopedia       thwiki   \n",
       "1  encyclopedia       thwiki   \n",
       "2  encyclopedia       thwiki   \n",
       "3  encyclopedia       thwiki   \n",
       "4  encyclopedia       thwiki   \n",
       "\n",
       "                                                text  nb_tokens  \n",
       "0                                             แคนแคน          2  \n",
       "1  แคนแคน (ก็องก็อง แปลว่า \"อื้อฉาว) เป็นรูปแบบกา...         81  \n",
       "2  ดนตรีที่ใช้ประกอบการเต้น มักใช้เพลงกาล็อพ (gal...         69  \n",
       "3  การเต้นแบบแคนแคนเกิดขึ้นครั้งแรกราวทศวรรษ 1830...        121  \n",
       "4  การเต้นแคนแคนที่มูแลงรูจเป็นที่นิยมจนถึงทศวรรษ...         70  "
      ]
     },
     "execution_count": 105,
     "metadata": {},
     "output_type": "execute_result"
    }
   ],
   "source": [
    "df.head()"
   ]
  },
  {
   "cell_type": "code",
   "execution_count": 104,
   "metadata": {},
   "outputs": [
    {
     "data": {
      "text/plain": [
       "50920274"
      ]
     },
     "execution_count": 104,
     "metadata": {},
     "output_type": "execute_result"
    }
   ],
   "source": [
    "df.nb_tokens.sum()"
   ]
  },
  {
   "cell_type": "markdown",
   "metadata": {},
   "source": [
    "## `OpenSubtitles`"
   ]
  },
  {
   "cell_type": "code",
   "execution_count": 110,
   "metadata": {},
   "outputs": [
    {
     "data": {
      "application/vnd.jupyter.widget-view+json": {
       "model_id": "25f57948535e4cd8b1db4692b595dd92",
       "version_major": 2,
       "version_minor": 0
      },
      "text/plain": [
       "HBox(children=(IntProgress(value=0, max=3281533), HTML(value='')))"
      ]
     },
     "metadata": {},
     "output_type": "display_data"
    },
    {
     "data": {
      "text/html": [
       "<div>\n",
       "<style scoped>\n",
       "    .dataframe tbody tr th:only-of-type {\n",
       "        vertical-align: middle;\n",
       "    }\n",
       "\n",
       "    .dataframe tbody tr th {\n",
       "        vertical-align: top;\n",
       "    }\n",
       "\n",
       "    .dataframe thead th {\n",
       "        text-align: right;\n",
       "    }\n",
       "</style>\n",
       "<table border=\"1\" class=\"dataframe\">\n",
       "  <thead>\n",
       "    <tr style=\"text-align: right;\">\n",
       "      <th></th>\n",
       "      <th>category</th>\n",
       "      <th>dataset_name</th>\n",
       "      <th>text</th>\n",
       "      <th>nb_tokens</th>\n",
       "    </tr>\n",
       "  </thead>\n",
       "  <tbody>\n",
       "    <tr>\n",
       "      <th>3281528</th>\n",
       "      <td>conversations</td>\n",
       "      <td>opensubtitles</td>\n",
       "      <td>นั่นก็เพราะว่า ผมต้องการให้มันเป็นอย่างนั้น</td>\n",
       "      <td>9</td>\n",
       "    </tr>\n",
       "    <tr>\n",
       "      <th>3281529</th>\n",
       "      <td>conversations</td>\n",
       "      <td>opensubtitles</td>\n",
       "      <td>(เหล่าสุภาพสตรีของผม โดย มิชิมะ ชิน)</td>\n",
       "      <td>14</td>\n",
       "    </tr>\n",
       "    <tr>\n",
       "      <th>3281530</th>\n",
       "      <td>conversations</td>\n",
       "      <td>opensubtitles</td>\n",
       "      <td>(ภาพยนตร์ชุดนี้เป็นเรื่องแต่ง)</td>\n",
       "      <td>7</td>\n",
       "    </tr>\n",
       "    <tr>\n",
       "      <th>3281531</th>\n",
       "      <td>conversations</td>\n",
       "      <td>opensubtitles</td>\n",
       "      <td>(ตัวละครและองค์กรในเรื่อง ล้วนเป็นเรื่องแต่ง)</td>\n",
       "      <td>11</td>\n",
       "    </tr>\n",
       "    <tr>\n",
       "      <th>3281532</th>\n",
       "      <td>conversations</td>\n",
       "      <td>opensubtitles</td>\n",
       "      <td>คำบรรยายโดย:</td>\n",
       "      <td>3</td>\n",
       "    </tr>\n",
       "  </tbody>\n",
       "</table>\n",
       "</div>"
      ],
      "text/plain": [
       "              category   dataset_name  \\\n",
       "3281528  conversations  opensubtitles   \n",
       "3281529  conversations  opensubtitles   \n",
       "3281530  conversations  opensubtitles   \n",
       "3281531  conversations  opensubtitles   \n",
       "3281532  conversations  opensubtitles   \n",
       "\n",
       "                                                  text  nb_tokens  \n",
       "3281528    นั่นก็เพราะว่า ผมต้องการให้มันเป็นอย่างนั้น          9  \n",
       "3281529           (เหล่าสุภาพสตรีของผม โดย มิชิมะ ชิน)         14  \n",
       "3281530                 (ภาพยนตร์ชุดนี้เป็นเรื่องแต่ง)          7  \n",
       "3281531  (ตัวละครและองค์กรในเรื่อง ล้วนเป็นเรื่องแต่ง)         11  \n",
       "3281532                                   คำบรรยายโดย:          3  "
      ]
     },
     "execution_count": 110,
     "metadata": {},
     "output_type": "execute_result"
    }
   ],
   "source": [
    "lines = []\n",
    "nb_tokens = []\n",
    "with open('raw_data/opensubtitles/OpenSubtitles.en-th.th') as f:\n",
    "    for l in tqdm_notebook(f.readlines()):\n",
    "        nb_token=len(word_tokenize(l))\n",
    "        if nb_token>1:\n",
    "            lines.append(l[:-1])\n",
    "            nb_tokens.append(nb_token-1)\n",
    "df = pd.DataFrame({'category':'conversations','dataset_name':'opensubtitles',\n",
    "                   'text':lines, 'nb_tokens': nb_tokens})\n",
    "df.tail()"
   ]
  },
  {
   "cell_type": "code",
   "execution_count": 113,
   "metadata": {},
   "outputs": [
    {
     "data": {
      "text/plain": [
       "((3281533, 4), 27112493)"
      ]
     },
     "execution_count": 113,
     "metadata": {},
     "output_type": "execute_result"
    }
   ],
   "source": [
    "df.to_csv('cleaned_data/opensubtitles.csv',index=False)\n",
    "df.shape,df.nb_tokens.sum()"
   ]
  },
  {
   "cell_type": "markdown",
   "metadata": {},
   "source": [
    "## `QED`"
   ]
  },
  {
   "cell_type": "code",
   "execution_count": 130,
   "metadata": {},
   "outputs": [
    {
     "data": {
      "text/html": [
       "<div>\n",
       "<style scoped>\n",
       "    .dataframe tbody tr th:only-of-type {\n",
       "        vertical-align: middle;\n",
       "    }\n",
       "\n",
       "    .dataframe tbody tr th {\n",
       "        vertical-align: top;\n",
       "    }\n",
       "\n",
       "    .dataframe thead th {\n",
       "        text-align: right;\n",
       "    }\n",
       "</style>\n",
       "<table border=\"1\" class=\"dataframe\">\n",
       "  <thead>\n",
       "    <tr style=\"text-align: right;\">\n",
       "      <th></th>\n",
       "      <th>category</th>\n",
       "      <th>dataset_name</th>\n",
       "      <th>text</th>\n",
       "      <th>nb_tokens</th>\n",
       "    </tr>\n",
       "  </thead>\n",
       "  <tbody>\n",
       "    <tr>\n",
       "      <th>264672</th>\n",
       "      <td>conversations</td>\n",
       "      <td>qed</td>\n",
       "      <td>ดังนั้นไม่มีทางที่บทพิสูจน์นี้จะวนตัวเอง</td>\n",
       "      <td>9</td>\n",
       "    </tr>\n",
       "    <tr>\n",
       "      <th>264673</th>\n",
       "      <td>conversations</td>\n",
       "      <td>qed</td>\n",
       "      <td>เอาล่ะ ผมไม่อยากปกป้องตัวเอง แต่ผม อยากทำให้ทุ...</td>\n",
       "      <td>15</td>\n",
       "    </tr>\n",
       "    <tr>\n",
       "      <th>264674</th>\n",
       "      <td>conversations</td>\n",
       "      <td>qed</td>\n",
       "      <td>เพราะผมอยากให้ใครว่าคนที่คิดว่า บทพิสูจน์เดิมข...</td>\n",
       "      <td>18</td>\n",
       "    </tr>\n",
       "    <tr>\n",
       "      <th>264675</th>\n",
       "      <td>conversations</td>\n",
       "      <td>qed</td>\n",
       "      <td>ผมผิดเองที่ไม่ได้อธิบายให้ชัด</td>\n",
       "      <td>9</td>\n",
       "    </tr>\n",
       "    <tr>\n",
       "      <th>264676</th>\n",
       "      <td>conversations</td>\n",
       "      <td>qed</td>\n",
       "      <td>งั้นหวังว่านี่คงช่วย ให้เรื่องนี้กระจ่างขึ้น -</td>\n",
       "      <td>14</td>\n",
       "    </tr>\n",
       "  </tbody>\n",
       "</table>\n",
       "</div>"
      ],
      "text/plain": [
       "             category dataset_name  \\\n",
       "264672  conversations          qed   \n",
       "264673  conversations          qed   \n",
       "264674  conversations          qed   \n",
       "264675  conversations          qed   \n",
       "264676  conversations          qed   \n",
       "\n",
       "                                                     text  nb_tokens  \n",
       "264672           ดังนั้นไม่มีทางที่บทพิสูจน์นี้จะวนตัวเอง          9  \n",
       "264673  เอาล่ะ ผมไม่อยากปกป้องตัวเอง แต่ผม อยากทำให้ทุ...         15  \n",
       "264674  เพราะผมอยากให้ใครว่าคนที่คิดว่า บทพิสูจน์เดิมข...         18  \n",
       "264675                      ผมผิดเองที่ไม่ได้อธิบายให้ชัด          9  \n",
       "264676     งั้นหวังว่านี่คงช่วย ให้เรื่องนี้กระจ่างขึ้น -         14  "
      ]
     },
     "execution_count": 130,
     "metadata": {},
     "output_type": "execute_result"
    }
   ],
   "source": [
    "lines = []\n",
    "nb_tokens = []\n",
    "with open('raw_data/qed/QED.en-th.th') as f:\n",
    "    for l in tqdm_notebook(f.readlines()):\n",
    "        nb_token=len(word_tokenize(l))\n",
    "        if nb_token>1:\n",
    "            lines.append(l[:-1])\n",
    "            nb_tokens.append(nb_token-1)\n",
    "df = pd.DataFrame({'category':'conversations','dataset_name':'qed',\n",
    "                   'text':lines, 'nb_tokens': nb_tokens})\n",
    "df.tail()"
   ]
  },
  {
   "cell_type": "code",
   "execution_count": 131,
   "metadata": {},
   "outputs": [
    {
     "data": {
      "text/plain": [
       "((264677, 4), 4177033)"
      ]
     },
     "execution_count": 131,
     "metadata": {},
     "output_type": "execute_result"
    }
   ],
   "source": [
    "df.to_csv('cleaned_data/qed.csv',index=False)\n",
    "df.shape,df.nb_tokens.sum()"
   ]
  },
  {
   "cell_type": "markdown",
   "metadata": {},
   "source": [
    "## `tatoeba`"
   ]
  },
  {
   "cell_type": "code",
   "execution_count": 132,
   "metadata": {},
   "outputs": [
    {
     "data": {
      "application/vnd.jupyter.widget-view+json": {
       "model_id": "06cbb9c11feb4768a8931e3f55eb956b",
       "version_major": 2,
       "version_minor": 0
      },
      "text/plain": [
       "HBox(children=(IntProgress(value=0, max=1081), HTML(value='')))"
      ]
     },
     "metadata": {},
     "output_type": "display_data"
    },
    {
     "data": {
      "text/html": [
       "<div>\n",
       "<style scoped>\n",
       "    .dataframe tbody tr th:only-of-type {\n",
       "        vertical-align: middle;\n",
       "    }\n",
       "\n",
       "    .dataframe tbody tr th {\n",
       "        vertical-align: top;\n",
       "    }\n",
       "\n",
       "    .dataframe thead th {\n",
       "        text-align: right;\n",
       "    }\n",
       "</style>\n",
       "<table border=\"1\" class=\"dataframe\">\n",
       "  <thead>\n",
       "    <tr style=\"text-align: right;\">\n",
       "      <th></th>\n",
       "      <th>category</th>\n",
       "      <th>dataset_name</th>\n",
       "      <th>text</th>\n",
       "      <th>nb_tokens</th>\n",
       "    </tr>\n",
       "  </thead>\n",
       "  <tbody>\n",
       "    <tr>\n",
       "      <th>1076</th>\n",
       "      <td>conversations</td>\n",
       "      <td>tatoeba</td>\n",
       "      <td>เราไม่สามารถทำสิ่งนั้นได้ในตอนนี้</td>\n",
       "      <td>9</td>\n",
       "    </tr>\n",
       "    <tr>\n",
       "      <th>1077</th>\n",
       "      <td>conversations</td>\n",
       "      <td>tatoeba</td>\n",
       "      <td>ใครซักเสื้อผ้าของคุณให้คุณ</td>\n",
       "      <td>7</td>\n",
       "    </tr>\n",
       "    <tr>\n",
       "      <th>1078</th>\n",
       "      <td>conversations</td>\n",
       "      <td>tatoeba</td>\n",
       "      <td>คุณคิดค่าบริการฉันเท่าไรสำหรับการซักรีดให้ฉัน</td>\n",
       "      <td>9</td>\n",
       "    </tr>\n",
       "    <tr>\n",
       "      <th>1079</th>\n",
       "      <td>conversations</td>\n",
       "      <td>tatoeba</td>\n",
       "      <td>คุณซักรีดเสื้อผ้าของตัวเองหรือไม่?</td>\n",
       "      <td>7</td>\n",
       "    </tr>\n",
       "    <tr>\n",
       "      <th>1080</th>\n",
       "      <td>conversations</td>\n",
       "      <td>tatoeba</td>\n",
       "      <td>ฉันกำลังมองหาคนซักเสื้อผ้าสำหรับฉัน</td>\n",
       "      <td>8</td>\n",
       "    </tr>\n",
       "  </tbody>\n",
       "</table>\n",
       "</div>"
      ],
      "text/plain": [
       "           category dataset_name  \\\n",
       "1076  conversations      tatoeba   \n",
       "1077  conversations      tatoeba   \n",
       "1078  conversations      tatoeba   \n",
       "1079  conversations      tatoeba   \n",
       "1080  conversations      tatoeba   \n",
       "\n",
       "                                               text  nb_tokens  \n",
       "1076              เราไม่สามารถทำสิ่งนั้นได้ในตอนนี้          9  \n",
       "1077                     ใครซักเสื้อผ้าของคุณให้คุณ          7  \n",
       "1078  คุณคิดค่าบริการฉันเท่าไรสำหรับการซักรีดให้ฉัน          9  \n",
       "1079             คุณซักรีดเสื้อผ้าของตัวเองหรือไม่?          7  \n",
       "1080            ฉันกำลังมองหาคนซักเสื้อผ้าสำหรับฉัน          8  "
      ]
     },
     "execution_count": 132,
     "metadata": {},
     "output_type": "execute_result"
    }
   ],
   "source": [
    "lines = []\n",
    "nb_tokens = []\n",
    "with open('raw_data/tatoeba/Tatoeba.en-th.th') as f:\n",
    "    for l in tqdm_notebook(f.readlines()):\n",
    "        nb_token=len(word_tokenize(l))\n",
    "        if nb_token>1:\n",
    "            lines.append(l[:-1])\n",
    "            nb_tokens.append(nb_token-1)\n",
    "df = pd.DataFrame({'category':'conversations','dataset_name':'tatoeba',\n",
    "                   'text':lines, 'nb_tokens': nb_tokens})\n",
    "df.tail()"
   ]
  },
  {
   "cell_type": "code",
   "execution_count": 133,
   "metadata": {},
   "outputs": [
    {
     "data": {
      "text/plain": [
       "((1081, 4), 6294)"
      ]
     },
     "execution_count": 133,
     "metadata": {},
     "output_type": "execute_result"
    }
   ],
   "source": [
    "df.to_csv('cleaned_data/tatoeba.csv',index=False)\n",
    "df.shape,df.nb_tokens.sum()"
   ]
  },
  {
   "cell_type": "markdown",
   "metadata": {},
   "source": [
    "## `bible-uedin`"
   ]
  },
  {
   "cell_type": "code",
   "execution_count": 136,
   "metadata": {},
   "outputs": [
    {
     "data": {
      "application/vnd.jupyter.widget-view+json": {
       "model_id": "0102ed0654e14252a22be252bf4b32b5",
       "version_major": 2,
       "version_minor": 0
      },
      "text/plain": [
       "HBox(children=(IntProgress(value=0, max=124386), HTML(value='')))"
      ]
     },
     "metadata": {},
     "output_type": "display_data"
    },
    {
     "data": {
      "text/html": [
       "<div>\n",
       "<style scoped>\n",
       "    .dataframe tbody tr th:only-of-type {\n",
       "        vertical-align: middle;\n",
       "    }\n",
       "\n",
       "    .dataframe tbody tr th {\n",
       "        vertical-align: top;\n",
       "    }\n",
       "\n",
       "    .dataframe thead th {\n",
       "        text-align: right;\n",
       "    }\n",
       "</style>\n",
       "<table border=\"1\" class=\"dataframe\">\n",
       "  <thead>\n",
       "    <tr style=\"text-align: right;\">\n",
       "      <th></th>\n",
       "      <th>category</th>\n",
       "      <th>dataset_name</th>\n",
       "      <th>text</th>\n",
       "      <th>nb_tokens</th>\n",
       "    </tr>\n",
       "  </thead>\n",
       "  <tbody>\n",
       "    <tr>\n",
       "      <th>124381</th>\n",
       "      <td>religious</td>\n",
       "      <td>bible-uedin</td>\n",
       "      <td>การชวนเชิญครั้งสุดท้ายของพระคัมภีร์ต่อคนบาปพระ...</td>\n",
       "      <td>61</td>\n",
       "    </tr>\n",
       "    <tr>\n",
       "      <th>124382</th>\n",
       "      <td>religious</td>\n",
       "      <td>bible-uedin</td>\n",
       "      <td>ข้าพเจ้าเป็นพยานแก่ทุกคนที่ได้ยินคำพยากรณ์ในหน...</td>\n",
       "      <td>39</td>\n",
       "    </tr>\n",
       "    <tr>\n",
       "      <th>124383</th>\n",
       "      <td>religious</td>\n",
       "      <td>bible-uedin</td>\n",
       "      <td>และถ้าผู้ใดตัดข้อความออกจากหนังสือพยากรณ์นี้ พ...</td>\n",
       "      <td>49</td>\n",
       "    </tr>\n",
       "    <tr>\n",
       "      <th>124384</th>\n",
       "      <td>religious</td>\n",
       "      <td>bible-uedin</td>\n",
       "      <td>คำทรงเตือนและพระสัญญาว่าพระคริสต์จะเสด็จมาพระอ...</td>\n",
       "      <td>47</td>\n",
       "    </tr>\n",
       "    <tr>\n",
       "      <th>124385</th>\n",
       "      <td>religious</td>\n",
       "      <td>bible-uedin</td>\n",
       "      <td>ขอให้พระคุณแห่งพระเยซูคริสต์องค์พระผู้เป็นเจ้า...</td>\n",
       "      <td>19</td>\n",
       "    </tr>\n",
       "  </tbody>\n",
       "</table>\n",
       "</div>"
      ],
      "text/plain": [
       "         category dataset_name  \\\n",
       "124381  religious  bible-uedin   \n",
       "124382  religious  bible-uedin   \n",
       "124383  religious  bible-uedin   \n",
       "124384  religious  bible-uedin   \n",
       "124385  religious  bible-uedin   \n",
       "\n",
       "                                                     text  nb_tokens  \n",
       "124381  การชวนเชิญครั้งสุดท้ายของพระคัมภีร์ต่อคนบาปพระ...         61  \n",
       "124382  ข้าพเจ้าเป็นพยานแก่ทุกคนที่ได้ยินคำพยากรณ์ในหน...         39  \n",
       "124383  และถ้าผู้ใดตัดข้อความออกจากหนังสือพยากรณ์นี้ พ...         49  \n",
       "124384  คำทรงเตือนและพระสัญญาว่าพระคริสต์จะเสด็จมาพระอ...         47  \n",
       "124385  ขอให้พระคุณแห่งพระเยซูคริสต์องค์พระผู้เป็นเจ้า...         19  "
      ]
     },
     "execution_count": 136,
     "metadata": {},
     "output_type": "execute_result"
    }
   ],
   "source": [
    "lines = []\n",
    "nb_tokens = []\n",
    "with open('raw_data/bible_uedin/bible-uedin.en-th.th') as f:\n",
    "    for l in tqdm_notebook(f.readlines()):\n",
    "        nb_token=len(word_tokenize(l))\n",
    "        if nb_token>1:\n",
    "            lines.append(l[:-1])\n",
    "            nb_tokens.append(nb_token-1)\n",
    "df = pd.DataFrame({'category':'religious','dataset_name':'bible-uedin',\n",
    "                   'text':lines, 'nb_tokens': nb_tokens})\n",
    "df.tail()"
   ]
  },
  {
   "cell_type": "code",
   "execution_count": 137,
   "metadata": {},
   "outputs": [
    {
     "data": {
      "text/plain": [
       "((124386, 4), 5938685)"
      ]
     },
     "execution_count": 137,
     "metadata": {},
     "output_type": "execute_result"
    }
   ],
   "source": [
    "df.to_csv('cleaned_data/bible_uedin.csv',index=False)\n",
    "df.shape,df.nb_tokens.sum()"
   ]
  },
  {
   "cell_type": "markdown",
   "metadata": {},
   "source": [
    "## `tanzil`"
   ]
  },
  {
   "cell_type": "code",
   "execution_count": 138,
   "metadata": {},
   "outputs": [
    {
     "data": {
      "application/vnd.jupyter.widget-view+json": {
       "model_id": "e54684c0533b4c4ca0329af7edcd940c",
       "version_major": 2,
       "version_minor": 0
      },
      "text/plain": [
       "HBox(children=(IntProgress(value=0, max=93540), HTML(value='')))"
      ]
     },
     "metadata": {},
     "output_type": "display_data"
    },
    {
     "data": {
      "text/html": [
       "<div>\n",
       "<style scoped>\n",
       "    .dataframe tbody tr th:only-of-type {\n",
       "        vertical-align: middle;\n",
       "    }\n",
       "\n",
       "    .dataframe tbody tr th {\n",
       "        vertical-align: top;\n",
       "    }\n",
       "\n",
       "    .dataframe thead th {\n",
       "        text-align: right;\n",
       "    }\n",
       "</style>\n",
       "<table border=\"1\" class=\"dataframe\">\n",
       "  <thead>\n",
       "    <tr style=\"text-align: right;\">\n",
       "      <th></th>\n",
       "      <th>category</th>\n",
       "      <th>dataset_name</th>\n",
       "      <th>text</th>\n",
       "      <th>nb_tokens</th>\n",
       "    </tr>\n",
       "  </thead>\n",
       "  <tbody>\n",
       "    <tr>\n",
       "      <th>93535</th>\n",
       "      <td>religious</td>\n",
       "      <td>tanzil</td>\n",
       "      <td>พระราชาแห่งมนุษย์ชาติ</td>\n",
       "      <td>4</td>\n",
       "    </tr>\n",
       "    <tr>\n",
       "      <th>93536</th>\n",
       "      <td>religious</td>\n",
       "      <td>tanzil</td>\n",
       "      <td>พระเป็นเจ้าแห่งมนุษย์ชาติ</td>\n",
       "      <td>4</td>\n",
       "    </tr>\n",
       "    <tr>\n",
       "      <th>93537</th>\n",
       "      <td>religious</td>\n",
       "      <td>tanzil</td>\n",
       "      <td>ให้พ้นจากความชั่วร้ายของผู้กระซิบกระซาบที่หลอกล่อ</td>\n",
       "      <td>10</td>\n",
       "    </tr>\n",
       "    <tr>\n",
       "      <th>93538</th>\n",
       "      <td>religious</td>\n",
       "      <td>tanzil</td>\n",
       "      <td>ที่กระซิบกระซาบในหัวอกของมนุษย์</td>\n",
       "      <td>6</td>\n",
       "    </tr>\n",
       "    <tr>\n",
       "      <th>93539</th>\n",
       "      <td>religious</td>\n",
       "      <td>tanzil</td>\n",
       "      <td>จากหมู่ญินและมนุษย์</td>\n",
       "      <td>5</td>\n",
       "    </tr>\n",
       "  </tbody>\n",
       "</table>\n",
       "</div>"
      ],
      "text/plain": [
       "        category dataset_name  \\\n",
       "93535  religious       tanzil   \n",
       "93536  religious       tanzil   \n",
       "93537  religious       tanzil   \n",
       "93538  religious       tanzil   \n",
       "93539  religious       tanzil   \n",
       "\n",
       "                                                    text  nb_tokens  \n",
       "93535                              พระราชาแห่งมนุษย์ชาติ          4  \n",
       "93536                          พระเป็นเจ้าแห่งมนุษย์ชาติ          4  \n",
       "93537  ให้พ้นจากความชั่วร้ายของผู้กระซิบกระซาบที่หลอกล่อ         10  \n",
       "93538                    ที่กระซิบกระซาบในหัวอกของมนุษย์          6  \n",
       "93539                                จากหมู่ญินและมนุษย์          5  "
      ]
     },
     "execution_count": 138,
     "metadata": {},
     "output_type": "execute_result"
    }
   ],
   "source": [
    "lines = []\n",
    "nb_tokens = []\n",
    "with open('raw_data/tanzil/Tanzil.en-th.th') as f:\n",
    "    for l in tqdm_notebook(f.readlines()):\n",
    "        nb_token=len(word_tokenize(l))\n",
    "        if nb_token>1:\n",
    "            lines.append(l[:-1])\n",
    "            nb_tokens.append(nb_token-1)\n",
    "df = pd.DataFrame({'category':'religious','dataset_name':'tanzil',\n",
    "                   'text':lines, 'nb_tokens': nb_tokens})\n",
    "df.tail()"
   ]
  },
  {
   "cell_type": "code",
   "execution_count": 139,
   "metadata": {},
   "outputs": [
    {
     "data": {
      "text/plain": [
       "((93540, 4), 3439230)"
      ]
     },
     "execution_count": 139,
     "metadata": {},
     "output_type": "execute_result"
    }
   ],
   "source": [
    "df.to_csv('cleaned_data/tanzil.csv',index=False)\n",
    "df.shape,df.nb_tokens.sum()"
   ]
  },
  {
   "cell_type": "code",
   "execution_count": null,
   "metadata": {},
   "outputs": [],
   "source": []
  }
 ],
 "metadata": {
  "hide_input": false,
  "kernelspec": {
   "display_name": "Python 3",
   "language": "python",
   "name": "python3"
  },
  "language_info": {
   "codemirror_mode": {
    "name": "ipython",
    "version": 3
   },
   "file_extension": ".py",
   "mimetype": "text/x-python",
   "name": "python",
   "nbconvert_exporter": "python",
   "pygments_lexer": "ipython3",
   "version": "3.7.3"
  }
 },
 "nbformat": 4,
 "nbformat_minor": 2
}
