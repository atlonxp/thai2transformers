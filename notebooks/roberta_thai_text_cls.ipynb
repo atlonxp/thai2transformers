{
 "cells": [
  {
   "cell_type": "code",
   "execution_count": 13,
   "metadata": {},
   "outputs": [],
   "source": [
    "from transformers import pipeline\n",
    "from transformers import RobertaConfig, RobertaForSequenceClassification, CamembertTokenizer, EvalPrediction, GlueDataset\n",
    "\n",
    "# from tokenizers import SentencePieceBPETokenizer\n"
   ]
  },
  {
   "cell_type": "code",
   "execution_count": 15,
   "metadata": {},
   "outputs": [
    {
     "name": "stderr",
     "output_type": "stream",
     "text": [
      "Some weights of the model checkpoint at /workspace/thai2transformers/checkpoints/exp004_thwiki_sentencepiece_camembert_vs16k_fp32_bz24_maxstep-100k_ngpu-8/checkpoint-30000/ were not used when initializing RobertaForSequenceClassification: ['lm_head.bias', 'lm_head.dense.weight', 'lm_head.dense.bias', 'lm_head.layer_norm.weight', 'lm_head.layer_norm.bias', 'lm_head.decoder.weight', 'lm_head.decoder.bias']\n",
      "- This IS expected if you are initializing RobertaForSequenceClassification from the checkpoint of a model trained on another task or with another architecture (e.g. initializing a BertForSequenceClassification model from a BertForPretraining model).\n",
      "- This IS NOT expected if you are initializing RobertaForSequenceClassification from the checkpoint of a model that you expect to be exactly identical (initializing a BertForSequenceClassification model from a BertForSequenceClassification model).\n",
      "Some weights of RobertaForSequenceClassification were not initialized from the model checkpoint at /workspace/thai2transformers/checkpoints/exp004_thwiki_sentencepiece_camembert_vs16k_fp32_bz24_maxstep-100k_ngpu-8/checkpoint-30000/ and are newly initialized: ['classifier.dense.weight', 'classifier.dense.bias', 'classifier.out_proj.weight', 'classifier.out_proj.bias']\n",
      "You should probably TRAIN this model on a down-stream task to be able to use it for predictions and inference.\n"
     ]
    }
   ],
   "source": [
    "MODEL_DIR = '/workspace/thai2transformers/checkpoints/exp004_thwiki_sentencepiece_camembert_vs16k_fp32_bz24_maxstep-100k_ngpu-8/checkpoint-30000/'\n",
    "TOKEN_DIR = '/workspace/thai2transformers/dataset/spm/th-wiki_only_20.7.2020_spm_vs-16k/'\n",
    "\n",
    "config = RobertaConfig.from_pretrained(\n",
    "    MODEL_DIR,\n",
    "    num_labels=5,\n",
    "    finetuning_task='wongnai_review_cls'\n",
    ")\n",
    "\n",
    "tokenizer = CamembertTokenizer.from_pretrained(\n",
    "    TOKEN_DIR\n",
    ")\n",
    "\n",
    "model = RobertaForSequenceClassification.from_pretrained(\n",
    "    MODEL_DIR,\n",
    "    config=config\n",
    ")"
   ]
  },
  {
   "cell_type": "code",
   "execution_count": null,
   "metadata": {},
   "outputs": [],
   "source": [
    "# data_args = DataTrainingArguments(task_name=\"mnli\", data_dir=\"./glue_data/MNLI\")\n",
    "\n",
    "training_args = TrainingArguments(\n",
    "    coutput_dir=\"./models/model_name\",\n",
    "    overwrite_output_dir=True,\n",
    "    do_train=True,\n",
    "    do_eval=True,\n",
    "    per_gpu_train_batch_size=32,\n",
    "    per_gpu_eval_batch_size=128,\n",
    "    num_train_epochs=1,\n",
    "    logging_steps=500,\n",
    "    logging_first_step=True,\n",
    "    save_steps=1000,\n",
    "    evaluate_during_training=True,\n",
    ")"
   ]
  },
  {
   "cell_type": "code",
   "execution_count": null,
   "metadata": {},
   "outputs": [],
   "source": [
    "trainer = Trainer(\n",
    "    model=model,\n",
    "    args=training_args,\n",
    "    train_dataset=train_dataset,\n",
    "    eval_dataset=eval_dataset,\n",
    "    compute_metrics=compute_metrics,\n",
    ")"
   ]
  }
 ],
 "metadata": {
  "kernelspec": {
   "display_name": "Python 3",
   "language": "python",
   "name": "python3"
  },
  "language_info": {
   "codemirror_mode": {
    "name": "ipython",
    "version": 3
   },
   "file_extension": ".py",
   "mimetype": "text/x-python",
   "name": "python",
   "nbconvert_exporter": "python",
   "pygments_lexer": "ipython3",
   "version": "3.6.9"
  }
 },
 "nbformat": 4,
 "nbformat_minor": 4
}
