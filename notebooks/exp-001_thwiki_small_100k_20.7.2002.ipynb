{
 "cells": [
  {
   "cell_type": "code",
   "execution_count": 21,
   "metadata": {},
   "outputs": [],
   "source": [
    "import pandas as pd\n",
    "import csv"
   ]
  },
  {
   "cell_type": "code",
   "execution_count": 22,
   "metadata": {},
   "outputs": [],
   "source": [
    "train_df = pd.read_csv('../dataset/split/th-wiki_only_20.7.2020_small/train/train.csv')"
   ]
  },
  {
   "cell_type": "code",
   "execution_count": 27,
   "metadata": {},
   "outputs": [],
   "source": [
    "train_df[['text']].dropna().sample(frac=1, random_state=2020).to_csv('../dataset/split/th-wiki_only_20.7.2020_small/train/train.txt',\n",
    "                                                            encoding='utf-8', sep=\"\\t\", index=False, header=None,\n",
    "                                                            escapechar=\"\", quotechar=\"\", quoting=csv.QUOTE_NONE)"
   ]
  },
  {
   "cell_type": "code",
   "execution_count": 29,
   "metadata": {},
   "outputs": [],
   "source": [
    "val_df = pd.read_csv('../dataset/split/th-wiki_only_20.7.2020_small/val/val.csv')\n",
    "val_df[['text']].dropna().sample(frac=1, random_state=2020).to_csv('../dataset/split/th-wiki_only_20.7.2020_small/val/val.txt',\n",
    "                                                            encoding='utf-8', sep=\"\\t\", index=False, header=None,\n",
    "                                                            escapechar=\"\", quotechar=\"\", quoting=csv.QUOTE_NONE)\n"
   ]
  },
  {
   "cell_type": "code",
   "execution_count": null,
   "metadata": {},
   "outputs": [],
   "source": []
  }
 ],
 "metadata": {
  "kernelspec": {
   "display_name": "Python 3",
   "language": "python",
   "name": "python3"
  },
  "language_info": {
   "codemirror_mode": {
    "name": "ipython",
    "version": 3
   },
   "file_extension": ".py",
   "mimetype": "text/x-python",
   "name": "python",
   "nbconvert_exporter": "python",
   "pygments_lexer": "ipython3",
   "version": "3.6.9"
  }
 },
 "nbformat": 4,
 "nbformat_minor": 4
}
