{
 "cells": [
  {
   "cell_type": "code",
   "execution_count": 1,
   "metadata": {},
   "outputs": [],
   "source": [
    "from transformers import pipeline\n",
    "from transformers import CamembertTokenizer, RobertaForMaskedLM\n",
    "\n",
    "from tokenizers import SentencePieceBPETokenizer\n"
   ]
  },
  {
   "cell_type": "code",
   "execution_count": 2,
   "metadata": {},
   "outputs": [
    {
     "data": {
      "text/plain": [
       "<transformers.tokenization_camembert.CamembertTokenizer at 0x7f734da76cc0>"
      ]
     },
     "execution_count": 2,
     "metadata": {},
     "output_type": "execute_result"
    }
   ],
   "source": [
    "tokenizer = CamembertTokenizer(\n",
    "    \"../dataset/spm/th-wiki_only_20.7.2020_spm_vs-16k/sentencepiece.bpe.model\"\n",
    ")\n",
    "tokenizer"
   ]
  },
  {
   "cell_type": "code",
   "execution_count": 63,
   "metadata": {},
   "outputs": [
    {
     "data": {
      "text/plain": [
       "16005"
      ]
     },
     "execution_count": 63,
     "metadata": {},
     "output_type": "execute_result"
    }
   ],
   "source": [
    "tokenizer.vocab_size"
   ]
  },
  {
   "cell_type": "code",
   "execution_count": null,
   "metadata": {},
   "outputs": [],
   "source": [
    "tokenizer._unk_token"
   ]
  },
  {
   "cell_type": "code",
   "execution_count": null,
   "metadata": {},
   "outputs": [],
   "source": [
    "tokenizer.all_special_tokens, tokenizer.all_special_ids\n"
   ]
  },
  {
   "cell_type": "code",
   "execution_count": null,
   "metadata": {},
   "outputs": [],
   "source": []
  },
  {
   "cell_type": "code",
   "execution_count": 6,
   "metadata": {},
   "outputs": [
    {
     "data": {
      "text/plain": [
       "['▁', 'รถไฟ', 'สีแดง', '▁', 'อารยธรรม', '▁', 'หมื่น', 'ลี้']"
      ]
     },
     "execution_count": 6,
     "metadata": {},
     "output_type": "execute_result"
    }
   ],
   "source": [
    "tokenizer.tokenize('รถไฟสีแดง อารยธรรม หมื่นลี้')"
   ]
  },
  {
   "cell_type": "code",
   "execution_count": 7,
   "metadata": {},
   "outputs": [
    {
     "data": {
      "text/plain": [
       "['▁', '<mask>']"
      ]
     },
     "execution_count": 7,
     "metadata": {},
     "output_type": "execute_result"
    }
   ],
   "source": [
    "tokenizer.tokenize('<mask>')"
   ]
  },
  {
   "cell_type": "code",
   "execution_count": 8,
   "metadata": {},
   "outputs": [
    {
     "data": {
      "text/plain": [
       "{'input_ids': [5, 1933, 16004, 6], 'attention_mask': [1, 1, 1, 1]}"
      ]
     },
     "execution_count": 8,
     "metadata": {},
     "output_type": "execute_result"
    }
   ],
   "source": [
    "tokenizer.encode_plus('a<mask>')"
   ]
  },
  {
   "cell_type": "code",
   "execution_count": null,
   "metadata": {},
   "outputs": [],
   "source": []
  },
  {
   "cell_type": "code",
   "execution_count": null,
   "metadata": {},
   "outputs": [],
   "source": []
  },
  {
   "cell_type": "code",
   "execution_count": 9,
   "metadata": {},
   "outputs": [
    {
     "data": {
      "text/plain": [
       "[5, 8, 1346, 1535, 6]"
      ]
     },
     "execution_count": 9,
     "metadata": {},
     "output_type": "execute_result"
    }
   ],
   "source": [
    "out = tokenizer.encode('รถไฟสีแดง')\n",
    "out"
   ]
  },
  {
   "cell_type": "code",
   "execution_count": 10,
   "metadata": {},
   "outputs": [],
   "source": [
    "def viz_tok(text:str, tokenizer=tokenizer):\n",
    "    out = tokenizer.tokenize(text)\n",
    "\n",
    "    ids = tokenizer.convert_tokens_to_ids(out)\n",
    "    out_txt = '<SEP>'.join([ tokenizer.decode([_id]) for _id in ids ])\n",
    "    print(f'out: {out}')\n",
    "    print(f'Ids: {ids}')    \n",
    "    print(f'Tokens: {out_txt}')"
   ]
  },
  {
   "cell_type": "code",
   "execution_count": 11,
   "metadata": {},
   "outputs": [
    {
     "name": "stdout",
     "output_type": "stream",
     "text": [
      "out: ['▁ปี', '▁ค', '่', 'ะ', '▁ค', 'รับ', '▁', 'ใด', '▁ก็', '▁มี', '▁', 'ที่', '▁', 'นี่', '▁', 'นี้', '▁', 'บุก', '▁ทุก', '▁', 'ทุกข์']\n",
      "Ids: [81, 33, 372, 194, 33, 210, 8, 464, 664, 60, 8, 10, 8, 1188, 8, 47, 8, 1939, 5245, 8, 5428]\n",
      "Tokens: ปี<SEP>ค<SEP>่<SEP>ะ<SEP>ค<SEP>รับ<SEP><SEP>ใด<SEP>ก็<SEP>มี<SEP><SEP>ที่<SEP><SEP>นี่<SEP><SEP>นี้<SEP><SEP>บุก<SEP>ทุก<SEP><SEP>ทุกข์\n"
     ]
    }
   ],
   "source": [
    "viz_tok('ปี  ค่ะ ครับ ใด ก็ มี ที่ นี่ นี้ บุก ทุก ทุกข์')"
   ]
  },
  {
   "cell_type": "code",
   "execution_count": 14,
   "metadata": {},
   "outputs": [
    {
     "name": "stdout",
     "output_type": "stream",
     "text": [
      "out: ['▁Ho', 'ly', '▁', 'Roman', '▁E', 'mp', 'ire', '▁อาณาจักร', 'โรมัน', '▁อัน', 'ศักดิ์', 'สิทธิ์']\n",
      "Ids: [5279, 1745, 8, 14781, 865, 5248, 6663, 9090, 1628, 1904, 425, 836]\n",
      "Tokens: Ho<SEP>ly<SEP><SEP>Roman<SEP>E<SEP>mp<SEP>ire<SEP>อาณาจักร<SEP>โรมัน<SEP>อัน<SEP>ศักดิ์<SEP>สิทธิ์\n"
     ]
    }
   ],
   "source": [
    "viz_tok('Holy Roman Empire อาณาจักรโรมัน อันศักดิ์สิทธิ์')"
   ]
  },
  {
   "cell_type": "code",
   "execution_count": 13,
   "metadata": {},
   "outputs": [
    {
     "name": "stdout",
     "output_type": "stream",
     "text": [
      "out: ['▁บา', 'บิ', 'โลน', '▁(', 'B', 'ab', 'yl', 'on', ')', '▁อาณาจักร', 'อัน', 'ยิ่งใหญ่', 'ในยุค', 'เม', 'โส', 'โป', 'เต', 'เมีย', 'โบราณ']\n",
      "Ids: [4848, 1211, 11578, 16, 362, 2942, 5546, 701, 14, 9090, 234, 2618, 1632, 267, 2443, 1054, 796, 3183, 1020]\n",
      "Tokens: บา<SEP>บิ<SEP>โลน<SEP>(<SEP>B<SEP>ab<SEP>yl<SEP>on<SEP>)<SEP>อาณาจักร<SEP>อัน<SEP>ยิ่งใหญ่<SEP>ในยุค<SEP>เม<SEP>โส<SEP>โป<SEP>เต<SEP>เมีย<SEP>โบราณ\n"
     ]
    }
   ],
   "source": [
    "viz_tok('บาบิโลน (Babylon) อาณาจักรอันยิ่งใหญ่ในยุคเมโสโปเตเมียโบราณ')"
   ]
  },
  {
   "cell_type": "code",
   "execution_count": null,
   "metadata": {},
   "outputs": [],
   "source": []
  },
  {
   "cell_type": "code",
   "execution_count": 25,
   "metadata": {},
   "outputs": [
    {
     "name": "stderr",
     "output_type": "stream",
     "text": [
      "/opt/conda/lib/python3.6/site-packages/transformers/modeling_auto.py:798: FutureWarning: The class `AutoModelWithLMHead` is deprecated and will be removed in a future version. Please use `AutoModelForCausalLM` for causal language models, `AutoModelForMaskedLM` for masked language models and `AutoModelForSeq2SeqLM` for encoder-decoder models.\n",
      "  FutureWarning,\n"
     ]
    }
   ],
   "source": [
    "\n",
    "fill_mask = pipeline(\n",
    "    \"fill-mask\",\n",
    "    model=\"/workspace/thai2transformers/checkpoints/exp004_thwiki_sentencepiece_camembert_vs16k_fp32_bz24_maxstep-100k_ngpu-8/checkpoint-1500/\",\n",
    "    tokenizer=tokenizer,\n",
    "    device=2\n",
    ")"
   ]
  },
  {
   "cell_type": "code",
   "execution_count": 26,
   "metadata": {},
   "outputs": [
    {
     "data": {
      "text/plain": [
       "[{'sequence': '<s> ฉันเดินไป สนามบิน</s>',\n",
       "  'score': 0.102029949426651,\n",
       "  'token': 8,\n",
       "  'token_str': '▁'},\n",
       " {'sequence': '<s> ฉันเดินไป.สนามบิน</s>',\n",
       "  'score': 0.01151799876242876,\n",
       "  'token': 9,\n",
       "  'token_str': '.'},\n",
       " {'sequence': '<s> ฉันเดินไปของสนามบิน</s>',\n",
       "  'score': 0.009349392727017403,\n",
       "  'token': 11,\n",
       "  'token_str': 'ของ'},\n",
       " {'sequence': '<s> ฉันเดินไปที่สนามบิน</s>',\n",
       "  'score': 0.007975541986525059,\n",
       "  'token': 10,\n",
       "  'token_str': 'ที่'},\n",
       " {'sequence': '<s> ฉันเดินไป และสนามบิน</s>',\n",
       "  'score': 0.006343780551105738,\n",
       "  'token': 12,\n",
       "  'token_str': '▁และ'}]"
      ]
     },
     "execution_count": 26,
     "metadata": {},
     "output_type": "execute_result"
    }
   ],
   "source": [
    "fill_mask(\"ฉันเดินไป<mask>สนามบิน\")"
   ]
  },
  {
   "cell_type": "code",
   "execution_count": 29,
   "metadata": {},
   "outputs": [
    {
     "data": {
      "text/plain": [
       "[{'sequence': '<s>  พ กันยายน พ.ศ. 2450</s>',\n",
       "  'score': 0.08323677629232407,\n",
       "  'token': 24,\n",
       "  'token_str': '▁พ'},\n",
       " {'sequence': '<s> :::: กันยายน พ.ศ. 2450</s>',\n",
       "  'score': 0.06776249408721924,\n",
       "  'token': 22,\n",
       "  'token_str': '::::'},\n",
       " {'sequence': '<s>. กันยายน พ.ศ. 2450</s>',\n",
       "  'score': 0.03756042942404747,\n",
       "  'token': 9,\n",
       "  'token_str': '.'},\n",
       " {'sequence': '<s> ศ กันยายน พ.ศ. 2450</s>',\n",
       "  'score': 0.005714814178645611,\n",
       "  'token': 15,\n",
       "  'token_str': 'ศ'},\n",
       " {'sequence': '<s>   กันยายน พ.ศ. 2450</s>',\n",
       "  'score': 0.005541933700442314,\n",
       "  'token': 8,\n",
       "  'token_str': '▁'}]"
      ]
     },
     "execution_count": 29,
     "metadata": {},
     "output_type": "execute_result"
    }
   ],
   "source": [
    "fill_mask(\"<mask> กันยายน พ.ศ. 2450\")"
   ]
  },
  {
   "cell_type": "code",
   "execution_count": 35,
   "metadata": {},
   "outputs": [
    {
     "name": "stderr",
     "output_type": "stream",
     "text": [
      "/opt/conda/lib/python3.6/site-packages/transformers/modeling_auto.py:798: FutureWarning: The class `AutoModelWithLMHead` is deprecated and will be removed in a future version. Please use `AutoModelForCausalLM` for causal language models, `AutoModelForMaskedLM` for masked language models and `AutoModelForSeq2SeqLM` for encoder-decoder models.\n",
      "  FutureWarning,\n"
     ]
    }
   ],
   "source": [
    "\n",
    "fill_mask = pipeline(\n",
    "    \"fill-mask\",\n",
    "    model=\"/workspace/thai2transformers/checkpoints/exp004_thwiki_sentencepiece_camembert_vs16k_fp32_bz24_maxstep-100k_ngpu-8/checkpoint-5500/\",\n",
    "    tokenizer=tokenizer,\n",
    "    device=2\n",
    ")"
   ]
  },
  {
   "cell_type": "code",
   "execution_count": null,
   "metadata": {},
   "outputs": [],
   "source": []
  },
  {
   "cell_type": "code",
   "execution_count": 36,
   "metadata": {},
   "outputs": [
    {
     "data": {
      "text/plain": [
       "[{'sequence': '<s> ฉันเดินไป สนามบิน</s>',\n",
       "  'score': 0.027332834899425507,\n",
       "  'token': 8,\n",
       "  'token_str': '▁'},\n",
       " {'sequence': '<s> ฉันเดินไปทางสนามบิน</s>',\n",
       "  'score': 0.02672971971333027,\n",
       "  'token': 40,\n",
       "  'token_str': 'ทาง'},\n",
       " {'sequence': '<s> ฉันเดินไปที่สนามบิน</s>',\n",
       "  'score': 0.025633540004491806,\n",
       "  'token': 10,\n",
       "  'token_str': 'ที่'},\n",
       " {'sequence': '<s> ฉันเดินไปไปยังสนามบิน</s>',\n",
       "  'score': 0.022726763039827347,\n",
       "  'token': 434,\n",
       "  'token_str': 'ไปยัง'},\n",
       " {'sequence': '<s> ฉันเดินไปในสนามบิน</s>',\n",
       "  'score': 0.01815621554851532,\n",
       "  'token': 18,\n",
       "  'token_str': 'ใน'}]"
      ]
     },
     "execution_count": 36,
     "metadata": {},
     "output_type": "execute_result"
    }
   ],
   "source": [
    "fill_mask(\"ฉันเดินไป<mask>สนามบิน\")"
   ]
  },
  {
   "cell_type": "code",
   "execution_count": 37,
   "metadata": {},
   "outputs": [
    {
     "data": {
      "text/plain": [
       "[{'sequence': '<s>  19 กันยายน พ.ศ. 2450</s>',\n",
       "  'score': 0.037442293018102646,\n",
       "  'token': 298,\n",
       "  'token_str': '▁19'},\n",
       " {'sequence': '<s>  17 กันยายน พ.ศ. 2450</s>',\n",
       "  'score': 0.03740160912275314,\n",
       "  'token': 367,\n",
       "  'token_str': '▁17'},\n",
       " {'sequence': '<s>  26 กันยายน พ.ศ. 2450</s>',\n",
       "  'score': 0.03505265712738037,\n",
       "  'token': 1129,\n",
       "  'token_str': '▁26'},\n",
       " {'sequence': '<s>  25 กันยายน พ.ศ. 2450</s>',\n",
       "  'score': 0.03230077028274536,\n",
       "  'token': 747,\n",
       "  'token_str': '▁25'},\n",
       " {'sequence': '<s>  29 กันยายน พ.ศ. 2450</s>',\n",
       "  'score': 0.03168103098869324,\n",
       "  'token': 1319,\n",
       "  'token_str': '▁29'}]"
      ]
     },
     "execution_count": 37,
     "metadata": {},
     "output_type": "execute_result"
    }
   ],
   "source": [
    "fill_mask(\"<mask> กันยายน พ.ศ. 2450\")"
   ]
  },
  {
   "cell_type": "code",
   "execution_count": 52,
   "metadata": {},
   "outputs": [
    {
     "data": {
      "text/plain": [
       "{'sequence': '<s> นวพล ธํารงรัตนฤทธิ์ (ชื่อเล่น ต๋อ) เกิดเมื่อวันที่ 4 กุมภาพันธ์ 2527 เป็นนักเขียนบทภาพยนตร์</s>',\n",
       " 'score': 0.6580851078033447,\n",
       " 'token': 461,\n",
       " 'token_str': 'กุมภาพันธ์'}"
      ]
     },
     "execution_count": 52,
     "metadata": {},
     "output_type": "execute_result"
    }
   ],
   "source": [
    "fill_mask(\"นวพล ธำรงรัตนฤทธิ์ (ชื่อเล่น ต๋อ) เกิดเมื่อวันที่ 4 <mask> 2527 เป็นนักเขียนบทภาพยนตร์\")[0]"
   ]
  },
  {
   "cell_type": "code",
   "execution_count": 60,
   "metadata": {},
   "outputs": [
    {
     "data": {
      "text/plain": [
       "[{'sequence': '<s> นวพล ธํารงรัตนฤทธิ์ (ชื่อเล่น เต๋อ) เกิดเมื่อวันที่ 4 กุมภาพันธ์ เป็นนักการเมือง</s>',\n",
       "  'score': 0.14756271243095398,\n",
       "  'token': 287,\n",
       "  'token_str': 'การเมือง'},\n",
       " {'sequence': '<s> นวพล ธํารงรัตนฤทธิ์ (ชื่อเล่น เต๋อ) เกิดเมื่อวันที่ 4 กุมภาพันธ์ เป็นนักแสดงชาวไทย</s>',\n",
       "  'score': 0.08504456281661987,\n",
       "  'token': 13370,\n",
       "  'token_str': 'แสดงชาวไทย'},\n",
       " {'sequence': '<s> นวพล ธํารงรัตนฤทธิ์ (ชื่อเล่น เต๋อ) เกิดเมื่อวันที่ 4 กุมภาพันธ์ เป็นนักอเมริกัน</s>',\n",
       "  'score': 0.044427331537008286,\n",
       "  'token': 730,\n",
       "  'token_str': 'อเมริกัน'},\n",
       " {'sequence': '<s> นวพล ธํารงรัตนฤทธิ์ (ชื่อเล่น เต๋อ) เกิดเมื่อวันที่ 4 กุมภาพันธ์ เป็นนักชาวไทย</s>',\n",
       "  'score': 0.04430517554283142,\n",
       "  'token': 1430,\n",
       "  'token_str': 'ชาวไทย'},\n",
       " {'sequence': '<s> นวพล ธํารงรัตนฤทธิ์ (ชื่อเล่น เต๋อ) เกิดเมื่อวันที่ 4 กุมภาพันธ์ เป็นนักที่รู้จัก</s>',\n",
       "  'score': 0.014586817473173141,\n",
       "  'token': 738,\n",
       "  'token_str': 'ที่รู้จัก'}]"
      ]
     },
     "execution_count": 60,
     "metadata": {},
     "output_type": "execute_result"
    }
   ],
   "source": [
    "fill_mask(\"นวพล ธำรงรัตนฤทธิ์ (ชื่อเล่น เต๋อ) เกิดเมื่อวันที่ 4 กุมภาพันธ์ เป็นนัก<mask>\")"
   ]
  },
  {
   "cell_type": "code",
   "execution_count": 4,
   "metadata": {},
   "outputs": [
    {
     "name": "stderr",
     "output_type": "stream",
     "text": [
      "/opt/conda/lib/python3.6/site-packages/transformers/modeling_auto.py:798: FutureWarning: The class `AutoModelWithLMHead` is deprecated and will be removed in a future version. Please use `AutoModelForCausalLM` for causal language models, `AutoModelForMaskedLM` for masked language models and `AutoModelForSeq2SeqLM` for encoder-decoder models.\n",
      "  FutureWarning,\n"
     ]
    }
   ],
   "source": [
    "\n",
    "fill_mask = pipeline(\n",
    "    \"fill-mask\",\n",
    "    model=\"/workspace/thai2transformers/checkpoints/exp004_thwiki_sentencepiece_camembert_vs16k_fp32_bz24_maxstep-100k_ngpu-8/checkpoint-8000/\",\n",
    "    tokenizer=tokenizer,\n",
    "    device=1\n",
    ")"
   ]
  },
  {
   "cell_type": "code",
   "execution_count": 23,
   "metadata": {},
   "outputs": [
    {
     "data": {
      "text/plain": [
       "[{'sequence': '<s> นวพล ธํารงรัตนฤทธิ์ (ชื่อเล่น: เต๋อ) เกิดเมื่อวันที่ 4 กุมภาพันธ์ เป็นนักแสดงชาวไทย</s>',\n",
       "  'score': 0.735715925693512,\n",
       "  'token': 13370,\n",
       "  'token_str': 'แสดงชาวไทย'},\n",
       " {'sequence': '<s> นวพล ธํารงรัตนฤทธิ์ (ชื่อเล่น: เต๋อ) เกิดเมื่อวันที่ 4 กุมภาพันธ์ เป็นนักการเมือง</s>',\n",
       "  'score': 0.0657273456454277,\n",
       "  'token': 287,\n",
       "  'token_str': 'การเมือง'},\n",
       " {'sequence': '<s> นวพล ธํารงรัตนฤทธิ์ (ชื่อเล่น: เต๋อ) เกิดเมื่อวันที่ 4 กุมภาพันธ์ เป็นนักชาวไทย</s>',\n",
       "  'score': 0.01031717099249363,\n",
       "  'token': 1430,\n",
       "  'token_str': 'ชาวไทย'},\n",
       " {'sequence': '<s> นวพล ธํารงรัตนฤทธิ์ (ชื่อเล่น: เต๋อ) เกิดเมื่อวันที่ 4 กุมภาพันธ์ เป็นนักจิตวิทยา</s>',\n",
       "  'score': 0.00759267620742321,\n",
       "  'token': 4147,\n",
       "  'token_str': 'จิตวิทยา'},\n",
       " {'sequence': '<s> นวพล ธํารงรัตนฤทธิ์ (ชื่อเล่น: เต๋อ) เกิดเมื่อวันที่ 4 กุมภาพันธ์ เป็นนักรัฐศาสตร์</s>',\n",
       "  'score': 0.00392714561894536,\n",
       "  'token': 4945,\n",
       "  'token_str': 'รัฐศาสตร์'}]"
      ]
     },
     "execution_count": 23,
     "metadata": {},
     "output_type": "execute_result"
    }
   ],
   "source": [
    "fill_mask(\"นวพล ธำรงรัตนฤทธิ์ (ชื่อเล่น: เต๋อ) เกิดเมื่อวันที่ 4 กุมภาพันธ์ เป็นนัก<mask>\")"
   ]
  },
  {
   "cell_type": "code",
   "execution_count": 31,
   "metadata": {},
   "outputs": [
    {
     "data": {
      "text/plain": [
       "[{'sequence': '<s> ในเวลา 12 น. ตามเวลาท้องถิ่น ผู้ว่าการกรุงโตเกียว ได้เดินทางไปยังอนุสรณ์สันติภาพฮิโรชิมะ</s>',\n",
       "  'score': 0.47586217522621155,\n",
       "  'token': 2661,\n",
       "  'token_str': 'โตเกียว'},\n",
       " {'sequence': '<s> ในเวลา 12 น. ตามเวลาท้องถิ่น ผู้ว่าการกรุงเทพมหานคร ได้เดินทางไปยังอนุสรณ์สันติภาพฮิโรชิมะ</s>',\n",
       "  'score': 0.10685655474662781,\n",
       "  'token': 815,\n",
       "  'token_str': 'เทพมหานคร'},\n",
       " {'sequence': '<s> ในเวลา 12 น. ตามเวลาท้องถิ่น ผู้ว่าการกรุงปักกิ่ง ได้เดินทางไปยังอนุสรณ์สันติภาพฮิโรชิมะ</s>',\n",
       "  'score': 0.04792576655745506,\n",
       "  'token': 5478,\n",
       "  'token_str': 'ปักกิ่ง'},\n",
       " {'sequence': '<s> ในเวลา 12 น. ตามเวลาท้องถิ่น ผู้ว่าการกรุงเกียวโต ได้เดินทางไปยังอนุสรณ์สันติภาพฮิโรชิมะ</s>',\n",
       "  'score': 0.02791033871471882,\n",
       "  'token': 8636,\n",
       "  'token_str': 'เกียวโต'},\n",
       " {'sequence': '<s> ในเวลา 12 น. ตามเวลาท้องถิ่น ผู้ว่าการกรุงญี่ปุ่น ได้เดินทางไปยังอนุสรณ์สันติภาพฮิโรชิมะ</s>',\n",
       "  'score': 0.021947162225842476,\n",
       "  'token': 195,\n",
       "  'token_str': 'ญี่ปุ่น'}]"
      ]
     },
     "execution_count": 31,
     "metadata": {},
     "output_type": "execute_result"
    }
   ],
   "source": [
    "fill_mask(\"ในเวลา 12 น.  ตามเวลาท้องถิ่น ผู้ว่าการ<mask> ได้เดินทางไปยังอนุสรณ์สันติภาพฮิโรชิมะ\")"
   ]
  },
  {
   "cell_type": "code",
   "execution_count": 32,
   "metadata": {},
   "outputs": [
    {
     "data": {
      "text/plain": [
       "[{'sequence': '<s> ในเวลา 12 น. ตามเวลาท้องถิ่น ผู้ว่าการเมืองชิมะ ได้เดินทางไปยังอนุสรณ์สันติภาพฮิโรชิมะ</s>',\n",
       "  'score': 0.15727396309375763,\n",
       "  'token': 6471,\n",
       "  'token_str': 'ชิมะ'},\n",
       " {'sequence': '<s> ในเวลา 12 น. ตามเวลาท้องถิ่น ผู้ว่าการเมืองเกียวโต ได้เดินทางไปยังอนุสรณ์สันติภาพฮิโรชิมะ</s>',\n",
       "  'score': 0.07250816375017166,\n",
       "  'token': 8636,\n",
       "  'token_str': 'เกียวโต'},\n",
       " {'sequence': '<s> ในเวลา 12 น. ตามเวลาท้องถิ่น ผู้ว่าการเมืองโตเกียว ได้เดินทางไปยังอนุสรณ์สันติภาพฮิโรชิมะ</s>',\n",
       "  'score': 0.054882414638996124,\n",
       "  'token': 2661,\n",
       "  'token_str': 'โตเกียว'},\n",
       " {'sequence': '<s> ในเวลา 12 น. ตามเวลาท้องถิ่น ผู้ว่าการเมืองญี่ปุ่น ได้เดินทางไปยังอนุสรณ์สันติภาพฮิโรชิมะ</s>',\n",
       "  'score': 0.047619860619306564,\n",
       "  'token': 195,\n",
       "  'token_str': 'ญี่ปุ่น'},\n",
       " {'sequence': '<s> ในเวลา 12 น. ตามเวลาท้องถิ่น ผู้ว่าการเมืองฮกไกโด ได้เดินทางไปยังอนุสรณ์สันติภาพฮิโรชิมะ</s>',\n",
       "  'score': 0.04718223214149475,\n",
       "  'token': 15437,\n",
       "  'token_str': 'ฮกไกโด'}]"
      ]
     },
     "execution_count": 32,
     "metadata": {},
     "output_type": "execute_result"
    }
   ],
   "source": [
    "fill_mask(\"ในเวลา 12 น.  ตามเวลาท้องถิ่น ผู้ว่าการเมือง<mask> ได้เดินทางไปยังอนุสรณ์สันติภาพฮิโรชิมะ\")"
   ]
  },
  {
   "cell_type": "code",
   "execution_count": 60,
   "metadata": {},
   "outputs": [
    {
     "data": {
      "text/plain": [
       "[{'sequence': '<s> Covid-19: องค์การอนามัยแห่งชาติ (WHO) เผยผู้เสียชีวิตวันเดียวทะลุ 7 พัน สูงสุดในรอบกว่า 2 เดือนทั่วโลก</s>',\n",
       "  'score': 0.1031104251742363,\n",
       "  'token': 330,\n",
       "  'token_str': 'แห่งชาติ'},\n",
       " {'sequence': '<s> Covid-19: องค์การอนามัยยาเสพติด (WHO) เผยผู้เสียชีวิตวันเดียวทะลุ 7 พัน สูงสุดในรอบกว่า 2 เดือนทั่วโลก</s>',\n",
       "  'score': 0.021065590903162956,\n",
       "  'token': 6164,\n",
       "  'token_str': 'ยาเสพติด'},\n",
       " {'sequence': '<s> Covid-19: องค์การอนามัยสัตว์ป่า (WHO) เผยผู้เสียชีวิตวันเดียวทะลุ 7 พัน สูงสุดในรอบกว่า 2 เดือนทั่วโลก</s>',\n",
       "  'score': 0.020510071888566017,\n",
       "  'token': 3827,\n",
       "  'token_str': 'สัตว์ป่า'},\n",
       " {'sequence': '<s> Covid-19: องค์การอนามัยอนามัย (WHO) เผยผู้เสียชีวิตวันเดียวทะลุ 7 พัน สูงสุดในรอบกว่า 2 เดือนทั่วโลก</s>',\n",
       "  'score': 0.015457767993211746,\n",
       "  'token': 7339,\n",
       "  'token_str': 'อนามัย'},\n",
       " {'sequence': '<s> Covid-19: องค์การอนามัยสุขภาพ (WHO) เผยผู้เสียชีวิตวันเดียวทะลุ 7 พัน สูงสุดในรอบกว่า 2 เดือนทั่วโลก</s>',\n",
       "  'score': 0.015242991968989372,\n",
       "  'token': 1478,\n",
       "  'token_str': 'สุขภาพ'}]"
      ]
     },
     "execution_count": 60,
     "metadata": {},
     "output_type": "execute_result"
    }
   ],
   "source": [
    "fill_mask(\"Covid-19: องค์การอนามัย<mask> (WHO) เผยผู้เสียชีวิตวันเดียวทะลุ 7 พัน สูงสุดในรอบกว่า 2 เดือนทั่วโลก\")"
   ]
  },
  {
   "cell_type": "code",
   "execution_count": 64,
   "metadata": {},
   "outputs": [
    {
     "name": "stderr",
     "output_type": "stream",
     "text": [
      "/opt/conda/lib/python3.6/site-packages/transformers/modeling_auto.py:798: FutureWarning: The class `AutoModelWithLMHead` is deprecated and will be removed in a future version. Please use `AutoModelForCausalLM` for causal language models, `AutoModelForMaskedLM` for masked language models and `AutoModelForSeq2SeqLM` for encoder-decoder models.\n",
      "  FutureWarning,\n"
     ]
    }
   ],
   "source": [
    "\n",
    "fill_mask = pipeline(\n",
    "    \"fill-mask\",\n",
    "    model=\"/workspace/thai2transformers/checkpoints/exp004_thwiki_sentencepiece_camembert_vs16k_fp32_bz24_maxstep-100k_ngpu-8/checkpoint-18000/\",\n",
    "    tokenizer=tokenizer,\n",
    "    device=1\n",
    ")"
   ]
  },
  {
   "cell_type": "code",
   "execution_count": 67,
   "metadata": {},
   "outputs": [
    {
     "data": {
      "text/plain": [
       "[{'sequence': '<s> Covid-19: องค์การอนามัยโลก (WHO) เผยผู้เสียชีวิตวันเดียวทะลุ 7 พัน สูงสุดในรอบกว่า 2 เดือนทั่วโลก</s>',\n",
       "  'score': 0.11764899641275406,\n",
       "  'token': 189,\n",
       "  'token_str': 'โลก'},\n",
       " {'sequence': '<s> Covid-19: องค์การอนามัยแห่งชาติ (WHO) เผยผู้เสียชีวิตวันเดียวทะลุ 7 พัน สูงสุดในรอบกว่า 2 เดือนทั่วโลก</s>',\n",
       "  'score': 0.10413962602615356,\n",
       "  'token': 330,\n",
       "  'token_str': 'แห่งชาติ'},\n",
       " {'sequence': '<s> Covid-19: องค์การอนามัยนานาชาติ (WHO) เผยผู้เสียชีวิตวันเดียวทะลุ 7 พัน สูงสุดในรอบกว่า 2 เดือนทั่วโลก</s>',\n",
       "  'score': 0.06538187712430954,\n",
       "  'token': 1329,\n",
       "  'token_str': 'นานาชาติ'},\n",
       " {'sequence': '<s> Covid-19: องค์การอนามัยยุโรป (WHO) เผยผู้เสียชีวิตวันเดียวทะลุ 7 พัน สูงสุดในรอบกว่า 2 เดือนทั่วโลก</s>',\n",
       "  'score': 0.06271597743034363,\n",
       "  'token': 1028,\n",
       "  'token_str': 'ยุโรป'},\n",
       " {'sequence': '<s> Covid-19: องค์การอนามัยสหรัฐ (WHO) เผยผู้เสียชีวิตวันเดียวทะลุ 7 พัน สูงสุดในรอบกว่า 2 เดือนทั่วโลก</s>',\n",
       "  'score': 0.05019072815775871,\n",
       "  'token': 387,\n",
       "  'token_str': 'สหรัฐ'}]"
      ]
     },
     "execution_count": 67,
     "metadata": {},
     "output_type": "execute_result"
    }
   ],
   "source": [
    "fill_mask(\"Covid-19: องค์การอนามัย<mask> (WHO) เผยผู้เสียชีวิตวันเดียวทะลุ 7 พัน สูงสุดในรอบกว่า 2 เดือนทั่วโลก\")"
   ]
  },
  {
   "cell_type": "code",
   "execution_count": 75,
   "metadata": {},
   "outputs": [
    {
     "name": "stdout",
     "output_type": "stream",
     "text": [
      "Groundtruth :มาตรา ๔๙๑ อันว่าขายฝากนั้น คือสัญญาซื้อขายซึ่งกรรมสิทธิ์ในทรัพย์สินตกไปยังผู้ซื้อ โดยมีข้อตกลงกันว่าผู้ขายอาจไถ่ทรัพย์นั้นคืนได้.\n"
     ]
    },
    {
     "data": {
      "text/plain": [
       "[{'sequence': '<s> มาตรา ๔๙๑ อันว่าขายฝากนั้น คือสัญญาซื้อขายซึ่งกรรมสิทธิ์ในทรัพย์สินตกไปยังผู้ซื้อ โดยมีข้อตกลงกันว่าผู้ซื้ออาจไถ่ทรัพย์นั้นคืนได้</s>',\n",
       "  'score': 0.8635159730911255,\n",
       "  'token': 1232,\n",
       "  'token_str': 'ซื้อ'},\n",
       " {'sequence': '<s> มาตรา ๔๙๑ อันว่าขายฝากนั้น คือสัญญาซื้อขายซึ่งกรรมสิทธิ์ในทรัพย์สินตกไปยังผู้ซื้อ โดยมีข้อตกลงกันว่าผู้ขายอาจไถ่ทรัพย์นั้นคืนได้</s>',\n",
       "  'score': 0.08689124137163162,\n",
       "  'token': 804,\n",
       "  'token_str': 'ขาย'},\n",
       " {'sequence': '<s> มาตรา ๔๙๑ อันว่าขายฝากนั้น คือสัญญาซื้อขายซึ่งกรรมสิทธิ์ในทรัพย์สินตกไปยังผู้ซื้อ โดยมีข้อตกลงกันว่าผู้เช่าอาจไถ่ทรัพย์นั้นคืนได้</s>',\n",
       "  'score': 0.019587919116020203,\n",
       "  'token': 3998,\n",
       "  'token_str': 'เช่า'},\n",
       " {'sequence': '<s> มาตรา ๔๙๑ อันว่าขายฝากนั้น คือสัญญาซื้อขายซึ่งกรรมสิทธิ์ในทรัพย์สินตกไปยังผู้ซื้อ โดยมีข้อตกลงกันว่าผู้ซื้อขายอาจไถ่ทรัพย์นั้นคืนได้</s>',\n",
       "  'score': 0.002280375687405467,\n",
       "  'token': 9190,\n",
       "  'token_str': 'ซื้อขาย'},\n",
       " {'sequence': '<s> มาตรา ๔๙๑ อันว่าขายฝากนั้น คือสัญญาซื้อขายซึ่งกรรมสิทธิ์ในทรัพย์สินตกไปยังผู้ซื้อ โดยมีข้อตกลงกันว่าผู้ทําสัญญาอาจไถ่ทรัพย์นั้นคืนได้</s>',\n",
       "  'score': 0.0018126516370102763,\n",
       "  'token': 10380,\n",
       "  'token_str': 'ทําสัญญา'}]"
      ]
     },
     "execution_count": 75,
     "metadata": {},
     "output_type": "execute_result"
    }
   ],
   "source": [
    "print('Groundtruth :มาตรา ๔๙๑ อันว่าขายฝากนั้น คือสัญญาซื้อขายซึ่งกรรมสิทธิ์ในทรัพย์สินตกไปยังผู้ซื้อ โดยมีข้อตกลงกันว่าผู้ขายอาจไถ่ทรัพย์นั้นคืนได้.')\n",
    "fill_mask(\"มาตรา ๔๙๑ อันว่าขายฝากนั้น คือสัญญาซื้อขายซึ่งกรรมสิทธิ์ในทรัพย์สินตกไปยังผู้ซื้อ โดยมีข้อตกลงกันว่าผู้<mask>อาจไถ่ทรัพย์นั้นคืนได้\")"
   ]
  },
  {
   "cell_type": "code",
   "execution_count": 86,
   "metadata": {},
   "outputs": [
    {
     "data": {
      "text/plain": [
       "[{'sequence': '<s> องค์การอนามัยโลก (WHO) เผยผู้ติดเชื้อวันเดียวทะลุ 7 พันราย สูงสุดในรอบกว่า 2 เดือนทั่วโลกจากไวรัสสายพันธุ์ใหม่</s>',\n",
       "  'score': 0.09074171632528305,\n",
       "  'token': 2525,\n",
       "  'token_str': 'ติดเชื้อ'},\n",
       " {'sequence': '<s> องค์การอนามัยโลก (WHO) เผยผู้เสียชีวิตวันเดียวทะลุ 7 พันราย สูงสุดในรอบกว่า 2 เดือนทั่วโลกจากไวรัสสายพันธุ์ใหม่</s>',\n",
       "  'score': 0.058181408792734146,\n",
       "  'token': 361,\n",
       "  'token_str': 'เสียชีวิต'},\n",
       " {'sequence': '<s> องค์การอนามัยโลก (WHO) เผยผู้บาดเจ็บวันเดียวทะลุ 7 พันราย สูงสุดในรอบกว่า 2 เดือนทั่วโลกจากไวรัสสายพันธุ์ใหม่</s>',\n",
       "  'score': 0.05154070630669594,\n",
       "  'token': 2701,\n",
       "  'token_str': 'บาดเจ็บ'},\n",
       " {'sequence': '<s> องค์การอนามัยโลก (WHO) เผยผู้รอดชีวิตวันเดียวทะลุ 7 พันราย สูงสุดในรอบกว่า 2 เดือนทั่วโลกจากไวรัสสายพันธุ์ใหม่</s>',\n",
       "  'score': 0.051030635833740234,\n",
       "  'token': 6329,\n",
       "  'token_str': 'รอดชีวิต'},\n",
       " {'sequence': '<s> องค์การอนามัยโลก (WHO) เผยผู้ตายวันเดียวทะลุ 7 พันราย สูงสุดในรอบกว่า 2 เดือนทั่วโลกจากไวรัสสายพันธุ์ใหม่</s>',\n",
       "  'score': 0.03462491184473038,\n",
       "  'token': 560,\n",
       "  'token_str': 'ตาย'}]"
      ]
     },
     "execution_count": 86,
     "metadata": {},
     "output_type": "execute_result"
    }
   ],
   "source": [
    "fill_mask(\"องค์การอนามัยโลก (WHO) เผยผู้<mask>วันเดียวทะลุ 7 พันราย สูงสุดในรอบกว่า 2 เดือนทั่วโลกจากไวรัสสายพันธุ์ใหม่\")"
   ]
  },
  {
   "cell_type": "code",
   "execution_count": 84,
   "metadata": {},
   "outputs": [
    {
     "data": {
      "text/plain": [
       "[{'sequence': '<s> องค์การอนามัยโลก (WHO) เผยผู้บาดเจ็บวันเดียวทะลุ 7 พันราย สูงสุดในรอบกว่า 2 เดือนทั่วโลกจากอุบัติเหตุทางรถยนต์</s>',\n",
       "  'score': 0.14494071900844574,\n",
       "  'token': 2701,\n",
       "  'token_str': 'บาดเจ็บ'},\n",
       " {'sequence': '<s> องค์การอนามัยโลก (WHO) เผยผู้เสียชีวิตวันเดียวทะลุ 7 พันราย สูงสุดในรอบกว่า 2 เดือนทั่วโลกจากอุบัติเหตุทางรถยนต์</s>',\n",
       "  'score': 0.13584701716899872,\n",
       "  'token': 361,\n",
       "  'token_str': 'เสียชีวิต'},\n",
       " {'sequence': '<s> องค์การอนามัยโลก (WHO) เผยผู้ก่อเหตุวันเดียวทะลุ 7 พันราย สูงสุดในรอบกว่า 2 เดือนทั่วโลกจากอุบัติเหตุทางรถยนต์</s>',\n",
       "  'score': 0.0424715057015419,\n",
       "  'token': 14184,\n",
       "  'token_str': 'ก่อเหตุ'},\n",
       " {'sequence': '<s> องค์การอนามัยโลก (WHO) เผยผู้ขับขี่วันเดียวทะลุ 7 พันราย สูงสุดในรอบกว่า 2 เดือนทั่วโลกจากอุบัติเหตุทางรถยนต์</s>',\n",
       "  'score': 0.0409359335899353,\n",
       "  'token': 14950,\n",
       "  'token_str': 'ขับขี่'},\n",
       " {'sequence': '<s> องค์การอนามัยโลก (WHO) เผยผู้รอดชีวิตวันเดียวทะลุ 7 พันราย สูงสุดในรอบกว่า 2 เดือนทั่วโลกจากอุบัติเหตุทางรถยนต์</s>',\n",
       "  'score': 0.03394779562950134,\n",
       "  'token': 6329,\n",
       "  'token_str': 'รอดชีวิต'}]"
      ]
     },
     "execution_count": 84,
     "metadata": {},
     "output_type": "execute_result"
    }
   ],
   "source": [
    "fill_mask(\"องค์การอนามัยโลก (WHO) เผยผู้<mask>วันเดียวทะลุ 7 พันราย สูงสุดในรอบกว่า 2 เดือนทั่วโลกจากอุบัติเหตุทางรถยนต์\")"
   ]
  },
  {
   "cell_type": "code",
   "execution_count": null,
   "metadata": {},
   "outputs": [],
   "source": []
  },
  {
   "cell_type": "code",
   "execution_count": 3,
   "metadata": {},
   "outputs": [
    {
     "name": "stderr",
     "output_type": "stream",
     "text": [
      "/opt/conda/lib/python3.6/site-packages/transformers/modeling_auto.py:798: FutureWarning: The class `AutoModelWithLMHead` is deprecated and will be removed in a future version. Please use `AutoModelForCausalLM` for causal language models, `AutoModelForMaskedLM` for masked language models and `AutoModelForSeq2SeqLM` for encoder-decoder models.\n",
      "  FutureWarning,\n"
     ]
    }
   ],
   "source": [
    "\n",
    "fill_mask = pipeline(\n",
    "    \"fill-mask\",\n",
    "    model=\"/workspace/thai2transformers/checkpoints/exp004_thwiki_sentencepiece_camembert_vs16k_fp32_bz24_maxstep-100k_ngpu-8/checkpoint-27500/\",\n",
    "    tokenizer=tokenizer,\n",
    "    device=1\n",
    ")"
   ]
  },
  {
   "cell_type": "code",
   "execution_count": 4,
   "metadata": {},
   "outputs": [
    {
     "name": "stdout",
     "output_type": "stream",
     "text": [
      "Groundtruth :มาตรา ๔๙๑ อันว่าขายฝากนั้น คือสัญญาซื้อขายซึ่งกรรมสิทธิ์ในทรัพย์สินตกไปยังผู้ซื้อ โดยมีข้อตกลงกันว่าผู้ขายอาจไถ่ทรัพย์นั้นคืนได้.\n"
     ]
    },
    {
     "data": {
      "text/plain": [
       "[{'sequence': '<s> มาตรา ๔๙๑ อันว่าขายฝากนั้น คือสัญญาซื้อขายซึ่งกรรมสิทธิ์ในทรัพย์สินตกไปยังผู้ซื้อ โดยมีข้อตกลงกันว่าผู้ซื้ออาจไถ่ทรัพย์นั้นคืนได้</s>',\n",
       "  'score': 0.7452681660652161,\n",
       "  'token': 1232,\n",
       "  'token_str': 'ซื้อ'},\n",
       " {'sequence': '<s> มาตรา ๔๙๑ อันว่าขายฝากนั้น คือสัญญาซื้อขายซึ่งกรรมสิทธิ์ในทรัพย์สินตกไปยังผู้ซื้อ โดยมีข้อตกลงกันว่าผู้ขายอาจไถ่ทรัพย์นั้นคืนได้</s>',\n",
       "  'score': 0.19702869653701782,\n",
       "  'token': 804,\n",
       "  'token_str': 'ขาย'},\n",
       " {'sequence': '<s> มาตรา ๔๙๑ อันว่าขายฝากนั้น คือสัญญาซื้อขายซึ่งกรรมสิทธิ์ในทรัพย์สินตกไปยังผู้ซื้อ โดยมีข้อตกลงกันว่าผู้เช่าอาจไถ่ทรัพย์นั้นคืนได้</s>',\n",
       "  'score': 0.020300667732954025,\n",
       "  'token': 3998,\n",
       "  'token_str': 'เช่า'},\n",
       " {'sequence': '<s> มาตรา ๔๙๑ อันว่าขายฝากนั้น คือสัญญาซื้อขายซึ่งกรรมสิทธิ์ในทรัพย์สินตกไปยังผู้ซื้อ โดยมีข้อตกลงกันว่าผู้ซื้อขายอาจไถ่ทรัพย์นั้นคืนได้</s>',\n",
       "  'score': 0.004095397423952818,\n",
       "  'token': 9190,\n",
       "  'token_str': 'ซื้อขาย'},\n",
       " {'sequence': '<s> มาตรา ๔๙๑ อันว่าขายฝากนั้น คือสัญญาซื้อขายซึ่งกรรมสิทธิ์ในทรัพย์สินตกไปยังผู้ซื้อ โดยมีข้อตกลงกันว่าผู้ทําสัญญาอาจไถ่ทรัพย์นั้นคืนได้</s>',\n",
       "  'score': 0.003678474575281143,\n",
       "  'token': 10380,\n",
       "  'token_str': 'ทําสัญญา'}]"
      ]
     },
     "execution_count": 4,
     "metadata": {},
     "output_type": "execute_result"
    }
   ],
   "source": [
    "print('Groundtruth :มาตรา ๔๙๑ อันว่าขายฝากนั้น คือสัญญาซื้อขายซึ่งกรรมสิทธิ์ในทรัพย์สินตกไปยังผู้ซื้อ โดยมีข้อตกลงกันว่าผู้ขายอาจไถ่ทรัพย์นั้นคืนได้.')\n",
    "\n",
    "fill_mask(\"มาตรา ๔๙๑ อันว่าขายฝากนั้น คือสัญญาซื้อขายซึ่งกรรมสิทธิ์ในทรัพย์สินตกไปยังผู้ซื้อ โดยมีข้อตกลงกันว่าผู้<mask>อาจไถ่ทรัพย์นั้นคืนได้\")"
   ]
  },
  {
   "cell_type": "code",
   "execution_count": 7,
   "metadata": {},
   "outputs": [
    {
     "name": "stdout",
     "output_type": "stream",
     "text": [
      "Groundtruth : สำนักวิชาวิทยาศาสตร์และเทคโนโลยีสารสนเทศ\n"
     ]
    },
    {
     "data": {
      "text/plain": [
       "[{'sequence': '<s> สํานักวิชาวิทยาศาสตร์และเทคโนโลยีสารสนเทศ</s>',\n",
       "  'score': 0.8867914080619812,\n",
       "  'token': 668,\n",
       "  'token_str': 'เทคโนโลยี'},\n",
       " {'sequence': '<s> สํานักวิชาวิทยาศาสตร์และวิศวกรรมสารสนเทศ</s>',\n",
       "  'score': 0.007297844626009464,\n",
       "  'token': 1878,\n",
       "  'token_str': 'วิศวกรรม'},\n",
       " {'sequence': '<s> สํานักวิชาวิทยาศาสตร์และชีวสารสนเทศ</s>',\n",
       "  'score': 0.0071746911853551865,\n",
       "  'token': 6023,\n",
       "  'token_str': 'ชีว'},\n",
       " {'sequence': '<s> สํานักวิชาวิทยาศาสตร์และศาสตร์สารสนเทศ</s>',\n",
       "  'score': 0.006563486065715551,\n",
       "  'token': 96,\n",
       "  'token_str': 'ศาสตร์'},\n",
       " {'sequence': '<s> สํานักวิชาวิทยาศาสตร์และธรรมสารสนเทศ</s>',\n",
       "  'score': 0.005843350198119879,\n",
       "  'token': 349,\n",
       "  'token_str': 'ธรรม'}]"
      ]
     },
     "execution_count": 7,
     "metadata": {},
     "output_type": "execute_result"
    }
   ],
   "source": [
    "print('Groundtruth : สำนักวิชาวิทยาศาสตร์และเทคโนโลยีสารสนเทศ')\n",
    "\n",
    "fill_mask('สำนักวิชาวิทยาศาสตร์และ<mask>สารสนเทศ')\n"
   ]
  },
  {
   "cell_type": "code",
   "execution_count": 18,
   "metadata": {},
   "outputs": [
    {
     "name": "stdout",
     "output_type": "stream",
     "text": [
      "Groundtruth : ฮอกไกโดเป็นชื่อจังหวัดและเกาะที่ใหญ่เป็นอันดับสองในประเทศญี่ปุ่น\n"
     ]
    },
    {
     "data": {
      "text/plain": [
       "[{'sequence': '<s> ฮอกไกโดเป็นชื่อจังหวัดและเกาะที่ใหญ่เป็นอันดับสองในประเทศญี่ปุ่น</s>',\n",
       "  'score': 0.4552615284919739,\n",
       "  'token': 195,\n",
       "  'token_str': 'ญี่ปุ่น'},\n",
       " {'sequence': '<s> ฮอกไกโดเป็นชื่อจังหวัดและเกาะที่ใหญ่เป็นอันดับสองในประเทศฟิลิปปินส์</s>',\n",
       "  'score': 0.1499887853860855,\n",
       "  'token': 1710,\n",
       "  'token_str': 'ฟิลิปปินส์'},\n",
       " {'sequence': '<s> ฮอกไกโดเป็นชื่อจังหวัดและเกาะที่ใหญ่เป็นอันดับสองในประเทศแคนาดา</s>',\n",
       "  'score': 0.0457875095307827,\n",
       "  'token': 2032,\n",
       "  'token_str': 'แคนาดา'},\n",
       " {'sequence': '<s> ฮอกไกโดเป็นชื่อจังหวัดและเกาะที่ใหญ่เป็นอันดับสองในประเทศเกาหลีใต้</s>',\n",
       "  'score': 0.038424838334321976,\n",
       "  'token': 1627,\n",
       "  'token_str': 'เกาหลีใต้'},\n",
       " {'sequence': '<s> ฮอกไกโดเป็นชื่อจังหวัดและเกาะที่ใหญ่เป็นอันดับสองในประเทศบราซิล</s>',\n",
       "  'score': 0.03525587171316147,\n",
       "  'token': 2666,\n",
       "  'token_str': 'บราซิล'}]"
      ]
     },
     "execution_count": 18,
     "metadata": {},
     "output_type": "execute_result"
    }
   ],
   "source": [
    "\n",
    "print('Groundtruth : ฮอกไกโดเป็นชื่อจังหวัดและเกาะที่ใหญ่เป็นอันดับสองในประเทศญี่ปุ่น')\n",
    "\n",
    "\n",
    "fill_mask('ฮอกไกโดเป็นชื่อจังหวัดและเกาะที่ใหญ่เป็นอันดับสองในประเทศ<mask>')\n"
   ]
  },
  {
   "cell_type": "code",
   "execution_count": 27,
   "metadata": {},
   "outputs": [
    {
     "data": {
      "text/plain": [
       "[{'sequence': '<s> เราไปฉีดวัคซีนโรคพิษสุนัขบ้าที่โรงพยาบาล</s>',\n",
       "  'score': 0.10227640718221664,\n",
       "  'token': 1229,\n",
       "  'token_str': 'โรงพยาบาล'},\n",
       " {'sequence': '<s> เราไปฉีดวัคซีนโรคพิษสุนัขบ้าที่ผิวหนัง</s>',\n",
       "  'score': 0.07309016585350037,\n",
       "  'token': 4185,\n",
       "  'token_str': 'ผิวหนัง'},\n",
       " {'sequence': '<s> เราไปฉีดวัคซีนโรคพิษสุนัขบ้าที่ตับ</s>',\n",
       "  'score': 0.04181070998311043,\n",
       "  'token': 3800,\n",
       "  'token_str': 'ตับ'},\n",
       " {'sequence': '<s> เราไปฉีดวัคซีนโรคพิษสุนัขบ้าที่ศีรษะ</s>',\n",
       "  'score': 0.026657581329345703,\n",
       "  'token': 3389,\n",
       "  'token_str': 'ศีรษะ'},\n",
       " {'sequence': '<s> เราไปฉีดวัคซีนโรคพิษสุนัขบ้าที่ปอด</s>',\n",
       "  'score': 0.015487928874790668,\n",
       "  'token': 4266,\n",
       "  'token_str': 'ปอด'}]"
      ]
     },
     "execution_count": 27,
     "metadata": {},
     "output_type": "execute_result"
    }
   ],
   "source": [
    "fill_mask('เราไปฉีดวัคซีนโรคพิษสุนัขบ้าที่<mask>')\n"
   ]
  },
  {
   "cell_type": "code",
   "execution_count": null,
   "metadata": {},
   "outputs": [],
   "source": []
  }
 ],
 "metadata": {
  "kernelspec": {
   "display_name": "Python 3",
   "language": "python",
   "name": "python3"
  },
  "language_info": {
   "codemirror_mode": {
    "name": "ipython",
    "version": 3
   },
   "file_extension": ".py",
   "mimetype": "text/x-python",
   "name": "python",
   "nbconvert_exporter": "python",
   "pygments_lexer": "ipython3",
   "version": "3.6.9"
  }
 },
 "nbformat": 4,
 "nbformat_minor": 4
}
