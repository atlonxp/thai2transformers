{
 "cells": [
  {
   "cell_type": "code",
   "execution_count": 10,
   "metadata": {},
   "outputs": [
    {
     "name": "stdout",
     "output_type": "stream",
     "text": [
      "loading model.....\n",
      "Success\n"
     ]
    },
    {
     "data": {
      "text/plain": [
       "'0.9.4'"
      ]
     },
     "execution_count": 10,
     "metadata": {},
     "output_type": "execute_result"
    }
   ],
   "source": [
    "from tokenizers import Tokenizer, pre_tokenizers, models\n",
    "from thai2transformers.tokenizers import CustomPreTokenizer, WordLevelTrainer\n",
    "\n",
    "#newmm\n",
    "from pythainlp.tokenize import word_tokenize, syllable_tokenize\n",
    "\n",
    "#sefr cut\n",
    "import sefr_cut\n",
    "sefr_cut.load_model(engine='ws1000')\n",
    "def pingcut(text):\n",
    "    return sefr_cut.tokenize(text)[0]\n",
    "\n",
    "#parameter\n",
    "tokenize_func = syllable_tokenize #word_tokenize, syllable_tokenize, pingcut (very slow on CPU)\n",
    "texts = ['โรนัลโดเขาได้เล่นกับทีม','โปรตุเกสมีโรนัลโด']\n",
    "\n",
    "from transformers import CamembertTokenizer\n",
    "\n",
    "#tokenizers version used\n",
    "import tokenizers\n",
    "tokenizers.__version__"
   ]
  },
  {
   "cell_type": "code",
   "execution_count": null,
   "metadata": {},
   "outputs": [],
   "source": [
    "%%time\n",
    "#get vocab\n",
    "trainer = WordLevelTrainer(pre_tokenize_func=tokenize_func, \n",
    "                           vocab_size=20, \n",
    "                           input_dir='test_folder', \n",
    "                           additional_special_tokens=['<unk>','<pad>'])\n",
    "trainer.count_parallel()\n",
    "trainer.save_vocab('test.json')"
   ]
  },
  {
   "cell_type": "code",
   "execution_count": null,
   "metadata": {},
   "outputs": [],
   "source": [
    "#create pretokenizer and tokenizer\n",
    "c = CustomPreTokenizer(tokenize_func)\n",
    "pre = pre_tokenizers.PreTokenizer.custom(c)\n",
    "tokenizer = Tokenizer(models.WordLevel.from_file('test.json',unk_token = '<unk>'))\n",
    "tokenizer.pre_tokenizer = pre"
   ]
  },
  {
   "cell_type": "code",
   "execution_count": null,
   "metadata": {},
   "outputs": [],
   "source": [
    "#simple encoding\n",
    "tokenizer.encode_batch(texts)"
   ]
  },
  {
   "cell_type": "code",
   "execution_count": null,
   "metadata": {},
   "outputs": [],
   "source": [
    "#padding\n",
    "# tokenizer.enable_padding(pad_id=1, pad_token=\"<pad>\", length=10)"
   ]
  },
  {
   "cell_type": "code",
   "execution_count": null,
   "metadata": {},
   "outputs": [],
   "source": [
    "#truncation\n",
    "tokenizer.enable_truncation(max_length=5)"
   ]
  },
  {
   "cell_type": "code",
   "execution_count": null,
   "metadata": {},
   "outputs": [],
   "source": [
    "#done\n",
    "res = [{'input_ids': i.ids, 'attention_mask': i.attention_mask} for i in tokenizer.encode_batch(texts)]\n",
    "res"
   ]
  },
  {
   "cell_type": "code",
   "execution_count": null,
   "metadata": {},
   "outputs": [],
   "source": [
    "tokenizer.decode(res[0]['input_ids'])"
   ]
  },
  {
   "cell_type": "code",
   "execution_count": null,
   "metadata": {},
   "outputs": [],
   "source": []
  }
 ],
 "metadata": {
  "hide_input": false,
  "kernelspec": {
   "display_name": "Python 3",
   "language": "python",
   "name": "python3"
  },
  "language_info": {
   "codemirror_mode": {
    "name": "ipython",
    "version": 3
   },
   "file_extension": ".py",
   "mimetype": "text/x-python",
   "name": "python",
   "nbconvert_exporter": "python",
   "pygments_lexer": "ipython3",
   "version": "3.8.4"
  }
 },
 "nbformat": 4,
 "nbformat_minor": 4
}
