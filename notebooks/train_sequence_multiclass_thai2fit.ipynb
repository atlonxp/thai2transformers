{
 "cells": [
  {
   "cell_type": "code",
   "execution_count": 1,
   "metadata": {},
   "outputs": [],
   "source": [
    "#imports\n",
    "from datasets import load_dataset\n",
    "from thai2transformers.metrics import classification_metrics\n",
    "from pythainlp.ulmfit import process_thai, THWIKI_LSTM, ThaiTokenizer, pre_rules_th, post_rules_th\n",
    "import pandas as pd\n",
    "from fastai.text import *\n",
    "from fastai.callbacks import CSVLogger, SaveModelCallback\n",
    "import os"
   ]
  },
  {
   "cell_type": "code",
   "execution_count": 2,
   "metadata": {},
   "outputs": [],
   "source": [
    "#parameters\n",
    "class Args:\n",
    "    dataset_name_or_path = 'generated_reviews_enth'\n",
    "    feature_col = 'translation'\n",
    "    label_col = 'review_star'\n",
    "    output_dir = 'generated_reviews_enth_review_star'\n",
    "    batch_size = 64\n",
    "    seed = 1412\n",
    "\n",
    "args = Args()"
   ]
  },
  {
   "cell_type": "code",
   "execution_count": 3,
   "metadata": {},
   "outputs": [],
   "source": [
    "if not os.path.exists(args.output_dir):\n",
    "    os.makedirs(args.output_dir)"
   ]
  },
  {
   "cell_type": "code",
   "execution_count": 4,
   "metadata": {},
   "outputs": [
    {
     "name": "stderr",
     "output_type": "stream",
     "text": [
      "Reusing dataset generated_reviews_enth (/home/admin/.cache/huggingface/datasets/generated_reviews_enth/generated_reviews_enth/1.0.0/6118765c366071f4d7a4504d9278e331778d23edae49951eab97a174effe0b76)\n"
     ]
    },
    {
     "data": {
      "text/plain": [
       "DatasetDict({\n",
       "    train: Dataset({\n",
       "        features: ['translation', 'review_star', 'correct'],\n",
       "        num_rows: 141369\n",
       "    })\n",
       "    validation: Dataset({\n",
       "        features: ['translation', 'review_star', 'correct'],\n",
       "        num_rows: 15708\n",
       "    })\n",
       "    test: Dataset({\n",
       "        features: ['translation', 'review_star', 'correct'],\n",
       "        num_rows: 17453\n",
       "    })\n",
       "})"
      ]
     },
     "execution_count": 4,
     "metadata": {},
     "output_type": "execute_result"
    }
   ],
   "source": [
    "dataset = load_dataset(args.dataset_name_or_path)\n",
    "dataset"
   ]
  },
  {
   "cell_type": "code",
   "execution_count": 5,
   "metadata": {},
   "outputs": [
    {
     "data": {
      "text/plain": [
       "DatasetDict({\n",
       "    train: Dataset({\n",
       "        features: ['translation', 'review_star', 'correct'],\n",
       "        num_rows: 141369\n",
       "    })\n",
       "    validation: Dataset({\n",
       "        features: ['translation', 'review_star', 'correct'],\n",
       "        num_rows: 15708\n",
       "    })\n",
       "    test: Dataset({\n",
       "        features: ['translation', 'review_star', 'correct'],\n",
       "        num_rows: 17453\n",
       "    })\n",
       "})"
      ]
     },
     "execution_count": 5,
     "metadata": {},
     "output_type": "execute_result"
    }
   ],
   "source": [
    "if args.dataset_name_or_path == 'wongnai_reviews':\n",
    "    train_val_split = dataset['train'].train_test_split(test_size=0.1, shuffle=True, seed=2020)\n",
    "    dataset['train'] = train_val_split['train']\n",
    "    dataset['validation'] = train_val_split['test']\n",
    "dataset"
   ]
  },
  {
   "cell_type": "code",
   "execution_count": 6,
   "metadata": {},
   "outputs": [],
   "source": [
    "#x\n",
    "if args.dataset_name_or_path == 'generated_reviews_enth':\n",
    "    texts_train = [i['th'] for i in dataset['train'][args.feature_col]]\n",
    "    texts_valid = [i['th'] for i in dataset['validation'][args.feature_col]]\n",
    "    texts_test = [i['th'] for i in dataset['test'][args.feature_col]]\n",
    "else:\n",
    "    texts_train = dataset['train'][args.feature_col]\n",
    "    texts_valid = dataset['validation'][args.feature_col]\n",
    "    texts_test = dataset['test'][args.feature_col]"
   ]
  },
  {
   "cell_type": "code",
   "execution_count": 7,
   "metadata": {},
   "outputs": [],
   "source": [
    "#y\n",
    "if args.dataset_name_or_path == 'generated_reviews_enth' and args.label_col=='review_star':\n",
    "    labels_train = [i-1 for i in dataset['train'][args.label_col]]\n",
    "    labels_valid = [i-1 for i in dataset['validation'][args.label_col]]\n",
    "    labels_test = [i-1 for i in dataset['test'][args.label_col]]\n",
    "else:\n",
    "    labels_train = dataset['train'][args.label_col]\n",
    "    labels_valid = dataset['validation'][args.label_col]\n",
    "    labels_test = dataset['test'][args.label_col]"
   ]
  },
  {
   "cell_type": "code",
   "execution_count": 8,
   "metadata": {},
   "outputs": [
    {
     "data": {
      "text/plain": [
       "((141369, 2), (15708, 2), (17453, 2))"
      ]
     },
     "execution_count": 8,
     "metadata": {},
     "output_type": "execute_result"
    }
   ],
   "source": [
    "#df\n",
    "train_df = pd.DataFrame({'texts':texts_train, 'labels':labels_train})\n",
    "valid_df = pd.DataFrame({'texts':texts_valid, 'labels':labels_valid})\n",
    "test_df = pd.DataFrame({'texts':texts_test, 'labels':labels_test})\n",
    "# train_valid = pd.concat([train_df,valid_df]).reset_index(drop=True)\n",
    "# valid_idx = list(train_valid.iloc[train_df.shape[0]:,:].index)\n",
    "train_df.shape, valid_df.shape, test_df.shape"
   ]
  },
  {
   "cell_type": "code",
   "execution_count": 14,
   "metadata": {},
   "outputs": [
    {
     "data": {
      "text/html": [],
      "text/plain": [
       "<IPython.core.display.HTML object>"
      ]
     },
     "metadata": {},
     "output_type": "display_data"
    },
    {
     "data": {
      "text/html": [],
      "text/plain": [
       "<IPython.core.display.HTML object>"
      ]
     },
     "metadata": {},
     "output_type": "display_data"
    }
   ],
   "source": [
    "tt = Tokenizer(tok_func = ThaiTokenizer, lang = 'th', pre_rules = pre_rules_th, post_rules=post_rules_th)\n",
    "\n",
    "processor = [TokenizeProcessor(tokenizer=tt, chunksize=10000, mark_fields=False),\n",
    "            NumericalizeProcessor(vocab=None, max_vocab=60000, min_freq=3)]\n",
    "\n",
    "data_lm = (ItemLists(args.output_dir, \n",
    "            train=TextList.from_df(train_df, args.output_dir, cols=[\"texts\"], processor=processor),\n",
    "            valid=TextList.from_df(valid_df, args.output_dir, cols=[\"texts\"], processor=processor))\n",
    "    .label_for_lm()\n",
    "    .databunch(bs=args.batch_size))\n",
    "data_lm.sanity_check()\n",
    "data_lm.save(f'{args.dataset_name_or_path}_lm.pkl')"
   ]
  },
  {
   "cell_type": "code",
   "execution_count": 15,
   "metadata": {},
   "outputs": [],
   "source": [
    "config = dict(emb_sz=400, n_hid=1550, n_layers=4, pad_token=1, qrnn=False, tie_weights=True, out_bias=True,\n",
    "             output_p=0.25, hidden_p=0.1, input_p=0.2, embed_p=0.02, weight_p=0.15)\n",
    "trn_args = dict(drop_mult=1., clip=0.12, alpha=2, beta=1)\n",
    "\n",
    "learn = language_model_learner(data_lm, AWD_LSTM, config=config, pretrained=False, **trn_args)\n",
    "\n",
    "#load pretrained models\n",
    "learn.load_pretrained(**THWIKI_LSTM);"
   ]
  },
  {
   "cell_type": "code",
   "execution_count": 16,
   "metadata": {},
   "outputs": [
    {
     "name": "stdout",
     "output_type": "stream",
     "text": [
      "training frozen\n"
     ]
    },
    {
     "data": {
      "text/html": [
       "<table border=\"1\" class=\"dataframe\">\n",
       "  <thead>\n",
       "    <tr style=\"text-align: left;\">\n",
       "      <th>epoch</th>\n",
       "      <th>train_loss</th>\n",
       "      <th>valid_loss</th>\n",
       "      <th>accuracy</th>\n",
       "      <th>time</th>\n",
       "    </tr>\n",
       "  </thead>\n",
       "  <tbody>\n",
       "    <tr>\n",
       "      <td>0</td>\n",
       "      <td>3.901398</td>\n",
       "      <td>3.667264</td>\n",
       "      <td>0.314096</td>\n",
       "      <td>04:27</td>\n",
       "    </tr>\n",
       "  </tbody>\n",
       "</table>"
      ],
      "text/plain": [
       "<IPython.core.display.HTML object>"
      ]
     },
     "metadata": {},
     "output_type": "display_data"
    }
   ],
   "source": [
    "print(\"training frozen\")\n",
    "learn.freeze_to(-1)\n",
    "learn.fit_one_cycle(1, 1e-2, moms=(0.8, 0.7))"
   ]
  },
  {
   "cell_type": "code",
   "execution_count": 17,
   "metadata": {},
   "outputs": [
    {
     "name": "stdout",
     "output_type": "stream",
     "text": [
      "training unfrozen\n"
     ]
    },
    {
     "data": {
      "text/html": [
       "<table border=\"1\" class=\"dataframe\">\n",
       "  <thead>\n",
       "    <tr style=\"text-align: left;\">\n",
       "      <th>epoch</th>\n",
       "      <th>train_loss</th>\n",
       "      <th>valid_loss</th>\n",
       "      <th>accuracy</th>\n",
       "      <th>time</th>\n",
       "    </tr>\n",
       "  </thead>\n",
       "  <tbody>\n",
       "    <tr>\n",
       "      <td>0</td>\n",
       "      <td>3.562119</td>\n",
       "      <td>3.389167</td>\n",
       "      <td>0.347284</td>\n",
       "      <td>06:00</td>\n",
       "    </tr>\n",
       "    <tr>\n",
       "      <td>1</td>\n",
       "      <td>3.425128</td>\n",
       "      <td>3.265404</td>\n",
       "      <td>0.362213</td>\n",
       "      <td>06:01</td>\n",
       "    </tr>\n",
       "    <tr>\n",
       "      <td>2</td>\n",
       "      <td>3.312375</td>\n",
       "      <td>3.198505</td>\n",
       "      <td>0.370227</td>\n",
       "      <td>06:01</td>\n",
       "    </tr>\n",
       "    <tr>\n",
       "      <td>3</td>\n",
       "      <td>3.235396</td>\n",
       "      <td>3.164119</td>\n",
       "      <td>0.374517</td>\n",
       "      <td>06:01</td>\n",
       "    </tr>\n",
       "    <tr>\n",
       "      <td>4</td>\n",
       "      <td>3.184817</td>\n",
       "      <td>3.157655</td>\n",
       "      <td>0.375286</td>\n",
       "      <td>06:01</td>\n",
       "    </tr>\n",
       "  </tbody>\n",
       "</table>"
      ],
      "text/plain": [
       "<IPython.core.display.HTML object>"
      ]
     },
     "metadata": {},
     "output_type": "display_data"
    }
   ],
   "source": [
    "#train unfrozen\n",
    "print(\"training unfrozen\")\n",
    "learn.unfreeze()\n",
    "learn.fit_one_cycle(5, 1e-3, moms=(0.8, 0.7))"
   ]
  },
  {
   "cell_type": "code",
   "execution_count": 18,
   "metadata": {},
   "outputs": [],
   "source": [
    "learn.save_encoder(\"lm_enc\")"
   ]
  },
  {
   "cell_type": "code",
   "execution_count": 9,
   "metadata": {},
   "outputs": [
    {
     "data": {
      "text/html": [],
      "text/plain": [
       "<IPython.core.display.HTML object>"
      ]
     },
     "metadata": {},
     "output_type": "display_data"
    },
    {
     "data": {
      "text/html": [],
      "text/plain": [
       "<IPython.core.display.HTML object>"
      ]
     },
     "metadata": {},
     "output_type": "display_data"
    },
    {
     "name": "stdout",
     "output_type": "stream",
     "text": [
      "16672\n"
     ]
    }
   ],
   "source": [
    "#lm data\n",
    "data_lm = load_data(args.output_dir, f\"{args.dataset_name_or_path}_lm.pkl\")\n",
    "data_lm.sanity_check()\n",
    "\n",
    "#classification data\n",
    "tt = Tokenizer(tok_func=ThaiTokenizer, lang=\"th\", pre_rules=pre_rules_th, post_rules=post_rules_th)\n",
    "processor = [TokenizeProcessor(tokenizer=tt, chunksize=10000, mark_fields=False),\n",
    "            NumericalizeProcessor(vocab=data_lm.vocab, max_vocab=60000, min_freq=3)]\n",
    "\n",
    "data_cls = (ItemLists(args.output_dir, \n",
    "            train=TextList.from_df(train_df, args.output_dir, cols=[\"texts\"], processor=processor),\n",
    "            valid=TextList.from_df(valid_df, args.output_dir, cols=[\"texts\"], processor=processor))\n",
    "    .label_from_df(\"labels\")\n",
    "    .databunch(bs=args.batch_size)\n",
    "    )\n",
    "\n",
    "data_cls.sanity_check()\n",
    "print(len(data_cls.vocab.itos))"
   ]
  },
  {
   "cell_type": "code",
   "execution_count": 10,
   "metadata": {},
   "outputs": [],
   "source": [
    "#model\n",
    "config = dict(emb_sz=400, n_hid=1550, n_layers=4, pad_token=1, qrnn=False,\n",
    "             output_p=0.4, hidden_p=0.2, input_p=0.6, embed_p=0.1, weight_p=0.5)\n",
    "trn_args = dict(bptt=70, drop_mult=0.7, alpha=2, beta=1, max_len=500)\n",
    "\n",
    "learn = text_classifier_learner(data_cls, AWD_LSTM, config=config, pretrained=False, **trn_args)\n",
    "#load pretrained finetuned model\n",
    "learn.load_encoder(\"lm_enc\");"
   ]
  },
  {
   "cell_type": "code",
   "execution_count": null,
   "metadata": {},
   "outputs": [
    {
     "data": {
      "text/html": [
       "<table border=\"1\" class=\"dataframe\">\n",
       "  <thead>\n",
       "    <tr style=\"text-align: left;\">\n",
       "      <th>epoch</th>\n",
       "      <th>train_loss</th>\n",
       "      <th>valid_loss</th>\n",
       "      <th>accuracy</th>\n",
       "      <th>time</th>\n",
       "    </tr>\n",
       "  </thead>\n",
       "  <tbody>\n",
       "    <tr>\n",
       "      <td>0</td>\n",
       "      <td>1.101346</td>\n",
       "      <td>0.986745</td>\n",
       "      <td>0.586007</td>\n",
       "      <td>02:27</td>\n",
       "    </tr>\n",
       "  </tbody>\n",
       "</table>"
      ],
      "text/plain": [
       "<IPython.core.display.HTML object>"
      ]
     },
     "metadata": {},
     "output_type": "display_data"
    },
    {
     "data": {
      "text/html": [
       "<table border=\"1\" class=\"dataframe\">\n",
       "  <thead>\n",
       "    <tr style=\"text-align: left;\">\n",
       "      <th>epoch</th>\n",
       "      <th>train_loss</th>\n",
       "      <th>valid_loss</th>\n",
       "      <th>accuracy</th>\n",
       "      <th>time</th>\n",
       "    </tr>\n",
       "  </thead>\n",
       "  <tbody>\n",
       "    <tr>\n",
       "      <td>0</td>\n",
       "      <td>0.947138</td>\n",
       "      <td>0.903645</td>\n",
       "      <td>0.618857</td>\n",
       "      <td>02:38</td>\n",
       "    </tr>\n",
       "  </tbody>\n",
       "</table>"
      ],
      "text/plain": [
       "<IPython.core.display.HTML object>"
      ]
     },
     "metadata": {},
     "output_type": "display_data"
    },
    {
     "data": {
      "text/html": [
       "\n",
       "    <div>\n",
       "        <style>\n",
       "            /* Turns off some styling */\n",
       "            progress {\n",
       "                /* gets rid of default border in Firefox and Opera. */\n",
       "                border: none;\n",
       "                /* Needs to be in here for Safari polyfill so background images work as expected. */\n",
       "                background-size: auto;\n",
       "            }\n",
       "            .progress-bar-interrupted, .progress-bar-interrupted::-webkit-progress-bar {\n",
       "                background: #F44336;\n",
       "            }\n",
       "        </style>\n",
       "      <progress value='0' class='' max='1' style='width:300px; height:20px; vertical-align: middle;'></progress>\n",
       "      0.00% [0/1 00:00<00:00]\n",
       "    </div>\n",
       "    \n",
       "<table border=\"1\" class=\"dataframe\">\n",
       "  <thead>\n",
       "    <tr style=\"text-align: left;\">\n",
       "      <th>epoch</th>\n",
       "      <th>train_loss</th>\n",
       "      <th>valid_loss</th>\n",
       "      <th>accuracy</th>\n",
       "      <th>time</th>\n",
       "    </tr>\n",
       "  </thead>\n",
       "  <tbody>\n",
       "  </tbody>\n",
       "</table><p>\n",
       "\n",
       "    <div>\n",
       "        <style>\n",
       "            /* Turns off some styling */\n",
       "            progress {\n",
       "                /* gets rid of default border in Firefox and Opera. */\n",
       "                border: none;\n",
       "                /* Needs to be in here for Safari polyfill so background images work as expected. */\n",
       "                background-size: auto;\n",
       "            }\n",
       "            .progress-bar-interrupted, .progress-bar-interrupted::-webkit-progress-bar {\n",
       "                background: #F44336;\n",
       "            }\n",
       "        </style>\n",
       "      <progress value='935' class='' max='2208' style='width:300px; height:20px; vertical-align: middle;'></progress>\n",
       "      42.35% [935/2208 01:30<02:02 0.9672]\n",
       "    </div>\n",
       "    "
      ],
      "text/plain": [
       "<IPython.core.display.HTML object>"
      ]
     },
     "metadata": {},
     "output_type": "display_data"
    }
   ],
   "source": [
    "#train\n",
    "learn.freeze_to(-1)\n",
    "learn.fit_one_cycle(1, 2e-2, moms=(0.8, 0.7))\n",
    "learn.freeze_to(-2)\n",
    "learn.fit_one_cycle(1, slice(1e-2 / (2.6 ** 4), 1e-2), moms=(0.8, 0.7))\n",
    "learn.freeze_to(-3)\n",
    "learn.fit_one_cycle(1, slice(5e-3 / (2.6 ** 4), 5e-3), moms=(0.8, 0.7))\n",
    "learn.unfreeze()\n",
    "learn.fit_one_cycle(5, slice(1e-3 / (2.6 ** 4), 1e-3), moms=(0.8, 0.7),\n",
    "                   callbacks=[SaveModelCallback(learn, every='improvement', monitor='accuracy', name='bestmodel')])"
   ]
  },
  {
   "cell_type": "code",
   "execution_count": null,
   "metadata": {},
   "outputs": [],
   "source": [
    "#test\n",
    "learn.load(\"bestmodel\")\n",
    "\n",
    "#get predictions\n",
    "probs, y_true, loss = learn.get_preds(ds_type = DatasetType.Valid, ordered=True, with_loss=True)\n",
    "classes = learn.data.train_ds.classes\n",
    "y_true = np.array([classes[i] for i in y_true.numpy()])\n",
    "preds = np.array([classes[i] for i in probs.argmax(1).numpy()])\n",
    "prob = probs.numpy()\n",
    "loss = loss.numpy()"
   ]
  },
  {
   "cell_type": "code",
   "execution_count": null,
   "metadata": {},
   "outputs": [],
   "source": [
    "class Preds:\n",
    "    label_ids = y_true\n",
    "    predictions = prob\n",
    "    \n",
    "pd.DataFrame.from_dict(classification_metrics(Preds),orient='index').transpose()"
   ]
  },
  {
   "cell_type": "code",
   "execution_count": null,
   "metadata": {},
   "outputs": [],
   "source": []
  }
 ],
 "metadata": {
  "hide_input": false,
  "kernelspec": {
   "display_name": "Python 3",
   "language": "python",
   "name": "python3"
  },
  "language_info": {
   "codemirror_mode": {
    "name": "ipython",
    "version": 3
   },
   "file_extension": ".py",
   "mimetype": "text/x-python",
   "name": "python",
   "nbconvert_exporter": "python",
   "pygments_lexer": "ipython3",
   "version": "3.7.8"
  }
 },
 "nbformat": 4,
 "nbformat_minor": 4
}
