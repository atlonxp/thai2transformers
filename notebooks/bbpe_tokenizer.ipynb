{
 "cells": [
  {
   "cell_type": "code",
   "execution_count": 185,
   "metadata": {},
   "outputs": [],
   "source": [
    "import unicodedata\n",
    "from tokenizers import ( ByteLevelBPETokenizer, CharBPETokenizer )\n",
    "\n",
    "from transformers import RobertaTokenizerFast"
   ]
  },
  {
   "cell_type": "code",
   "execution_count": 29,
   "metadata": {},
   "outputs": [],
   "source": [
    "!mkdir -p mockup_text\n",
    "!mkdir -p mockup_bpe/bbpe mockup_bpe/cbpe mockup_bpe/spm"
   ]
  },
  {
   "cell_type": "code",
   "execution_count": 289,
   "metadata": {},
   "outputs": [],
   "source": [
    "txt = \"\"\"ก่ี\n",
    "กี่\n",
    "ทำงาน\n",
    "การทำงานทำการ\n",
    "อารยธรรมโบราณของเรา การรถไฟ\n",
    "Hello My name.\"\"\""
   ]
  },
  {
   "cell_type": "markdown",
   "metadata": {},
   "source": [
    "TH Unicode: https://jrgraphix.net/r/Unicode/0E00-0E7F"
   ]
  },
  {
   "cell_type": "code",
   "execution_count": 290,
   "metadata": {},
   "outputs": [
    {
     "name": "stdout",
     "output_type": "stream",
     "text": [
      "ก่ี\n",
      "กี่\n",
      "ทำงาน\n",
      "การทำงานทำการ\n",
      "อารยธรรมโบราณของเรา การรถไฟ\n",
      "Hello My name.\n"
     ]
    }
   ],
   "source": [
    "print(txt)"
   ]
  },
  {
   "cell_type": "code",
   "execution_count": 291,
   "metadata": {},
   "outputs": [
    {
     "data": {
      "text/plain": [
       "[('ก่ี', b'\\xe0\\xb8\\x81\\xe0\\xb9\\x88\\xe0\\xb8\\xb5'),\n",
       " ('กี่', b'\\xe0\\xb8\\x81\\xe0\\xb8\\xb5\\xe0\\xb9\\x88'),\n",
       " ('ทำงาน', b'\\xe0\\xb8\\x97\\xe0\\xb8\\xb3\\xe0\\xb8\\x87\\xe0\\xb8\\xb2\\xe0\\xb8\\x99'),\n",
       " ('การทำงานทำการ',\n",
       "  b'\\xe0\\xb8\\x81\\xe0\\xb8\\xb2\\xe0\\xb8\\xa3\\xe0\\xb8\\x97\\xe0\\xb8\\xb3\\xe0\\xb8\\x87\\xe0\\xb8\\xb2\\xe0\\xb8\\x99\\xe0\\xb8\\x97\\xe0\\xb8\\xb3\\xe0\\xb8\\x81\\xe0\\xb8\\xb2\\xe0\\xb8\\xa3'),\n",
       " ('อารยธรรมโบราณของเรา การรถไฟ',\n",
       "  b'\\xe0\\xb8\\xad\\xe0\\xb8\\xb2\\xe0\\xb8\\xa3\\xe0\\xb8\\xa2\\xe0\\xb8\\x98\\xe0\\xb8\\xa3\\xe0\\xb8\\xa3\\xe0\\xb8\\xa1\\xe0\\xb9\\x82\\xe0\\xb8\\x9a\\xe0\\xb8\\xa3\\xe0\\xb8\\xb2\\xe0\\xb8\\x93\\xe0\\xb8\\x82\\xe0\\xb8\\xad\\xe0\\xb8\\x87\\xe0\\xb9\\x80\\xe0\\xb8\\xa3\\xe0\\xb8\\xb2 \\xe0\\xb8\\x81\\xe0\\xb8\\xb2\\xe0\\xb8\\xa3\\xe0\\xb8\\xa3\\xe0\\xb8\\x96\\xe0\\xb9\\x84\\xe0\\xb8\\x9f'),\n",
       " ('Hello My name.', b'Hello My name.')]"
      ]
     },
     "execution_count": 291,
     "metadata": {},
     "output_type": "execute_result"
    }
   ],
   "source": [
    "[ (text,text.encode('utf-8')) for text in txt.split('\\n') ]"
   ]
  },
  {
   "cell_type": "code",
   "execution_count": 292,
   "metadata": {},
   "outputs": [
    {
     "data": {
      "text/plain": [
       "[('ก่ี', b'\\xe0\\xb8\\x81\\xe0\\xb9\\x88\\xe0\\xb8\\xb5'),\n",
       " ('กี่', b'\\xe0\\xb8\\x81\\xe0\\xb8\\xb5\\xe0\\xb9\\x88'),\n",
       " ('ทํางาน',\n",
       "  b'\\xe0\\xb8\\x97\\xe0\\xb9\\x8d\\xe0\\xb8\\xb2\\xe0\\xb8\\x87\\xe0\\xb8\\xb2\\xe0\\xb8\\x99'),\n",
       " ('การทํางานทําการ',\n",
       "  b'\\xe0\\xb8\\x81\\xe0\\xb8\\xb2\\xe0\\xb8\\xa3\\xe0\\xb8\\x97\\xe0\\xb9\\x8d\\xe0\\xb8\\xb2\\xe0\\xb8\\x87\\xe0\\xb8\\xb2\\xe0\\xb8\\x99\\xe0\\xb8\\x97\\xe0\\xb9\\x8d\\xe0\\xb8\\xb2\\xe0\\xb8\\x81\\xe0\\xb8\\xb2\\xe0\\xb8\\xa3'),\n",
       " ('อารยธรรมโบราณของเรา การรถไฟ',\n",
       "  b'\\xe0\\xb8\\xad\\xe0\\xb8\\xb2\\xe0\\xb8\\xa3\\xe0\\xb8\\xa2\\xe0\\xb8\\x98\\xe0\\xb8\\xa3\\xe0\\xb8\\xa3\\xe0\\xb8\\xa1\\xe0\\xb9\\x82\\xe0\\xb8\\x9a\\xe0\\xb8\\xa3\\xe0\\xb8\\xb2\\xe0\\xb8\\x93\\xe0\\xb8\\x82\\xe0\\xb8\\xad\\xe0\\xb8\\x87\\xe0\\xb9\\x80\\xe0\\xb8\\xa3\\xe0\\xb8\\xb2 \\xe0\\xb8\\x81\\xe0\\xb8\\xb2\\xe0\\xb8\\xa3\\xe0\\xb8\\xa3\\xe0\\xb8\\x96\\xe0\\xb9\\x84\\xe0\\xb8\\x9f'),\n",
       " ('Hello My name.', b'Hello My name.')]"
      ]
     },
     "execution_count": 292,
     "metadata": {},
     "output_type": "execute_result"
    }
   ],
   "source": [
    "txt_norm_nfkc = [ unicodedata.normalize('NFKD', text) for text in  txt.split('\\n') ]\n",
    "txt_norm_nfkc\n",
    "[ (text, text.encode('utf-8')) for text in txt_norm_nfkc]"
   ]
  },
  {
   "cell_type": "code",
   "execution_count": 293,
   "metadata": {},
   "outputs": [],
   "source": [
    "!echo \"$txt\" > ./mockup_text/text.txt"
   ]
  },
  {
   "cell_type": "code",
   "execution_count": 294,
   "metadata": {},
   "outputs": [
    {
     "name": "stdout",
     "output_type": "stream",
     "text": [
      "ก่ี\r\n",
      "กี่\r\n",
      "ทำงาน\r\n",
      "การทำงานทำการ\r\n",
      "อารยธรรมโบราณของเรา การรถไฟ\r\n",
      "Hello My name.\r\n"
     ]
    }
   ],
   "source": [
    "!head ./mockup_text/text.txt"
   ]
  },
  {
   "cell_type": "code",
   "execution_count": 295,
   "metadata": {},
   "outputs": [],
   "source": [
    "_BBPE_TOKENIZER = ByteLevelBPETokenizer(unicode_normalizer='nfkd')\n",
    "\n",
    "def train_bpe(out_dir, tokenizer=_BBPE_TOKENIZER ):\n",
    "\n",
    "    tokenizer.train(files='./mockup_text/text.txt', vocab_size=1000, \n",
    "                    min_frequency=1,\n",
    "                    special_tokens=[\n",
    "                        \"<s>\",\n",
    "                        \"<pad>\",\n",
    "                        \"</s>\",\n",
    "                        \"<unk>\",\n",
    "                        \"<mask>\",\n",
    "                    ])\n",
    "    \n",
    "    tokenizer.save_model(out_dir)\n"
   ]
  },
  {
   "cell_type": "code",
   "execution_count": 296,
   "metadata": {},
   "outputs": [],
   "source": [
    "train_bpe('./mockup_bpe/bbpe')"
   ]
  },
  {
   "cell_type": "code",
   "execution_count": 297,
   "metadata": {},
   "outputs": [],
   "source": [
    "# _bbpe_tokenizer = ByteLevelBPETokenizer(vocab_file='./mockup_bpe/bbpe/vocab.json',\n",
    "#                                         merges_file='./mockup_bpe/bbpe/merges.txt')\n",
    "# _bbpe_tokenizer"
   ]
  },
  {
   "cell_type": "code",
   "execution_count": 298,
   "metadata": {},
   "outputs": [
    {
     "data": {
      "text/plain": [
       "<transformers.tokenization_roberta.RobertaTokenizerFast at 0x7fac7f099400>"
      ]
     },
     "execution_count": 298,
     "metadata": {},
     "output_type": "execute_result"
    }
   ],
   "source": [
    "_tokenizer = RobertaTokenizerFast(vocab_file='./mockup_bpe/bbpe/vocab.json',\n",
    "                                        merges_file='./mockup_bpe/bbpe/merges.txt')\n",
    "_tokenizer"
   ]
  },
  {
   "cell_type": "code",
   "execution_count": 299,
   "metadata": {},
   "outputs": [],
   "source": [
    "# out.tokens, out.ids"
   ]
  },
  {
   "cell_type": "code",
   "execution_count": 300,
   "metadata": {},
   "outputs": [],
   "source": [
    "# def viz_tok(text, tokenizer=_bbpe_tokenizer):\n",
    "    \n",
    "#     out = _bbpe_tokenizer.encode(text)\n",
    "#     decoded = '<SEP>'.join(tokenizer.decode(out.ids))\n",
    "#     print(f'Tokens: {decoded}')"
   ]
  },
  {
   "cell_type": "code",
   "execution_count": 301,
   "metadata": {},
   "outputs": [],
   "source": [
    "# viz_tok('วิชา')"
   ]
  },
  {
   "cell_type": "code",
   "execution_count": 302,
   "metadata": {},
   "outputs": [],
   "source": [
    "def viz_tok(text:str, tokenizer=_tokenizer):\n",
    "    out = tokenizer.tokenize(text)\n",
    "\n",
    "    ids = tokenizer.convert_tokens_to_ids(out)\n",
    "    out_txt = '<SEP>'.join([ tokenizer.decode([_id]) for _id in ids ])\n",
    "    print(f'out: {out}')\n",
    "    print(f'Ids: {ids}')    \n",
    "    print(f'Tokens: {out_txt}')"
   ]
  },
  {
   "cell_type": "code",
   "execution_count": 304,
   "metadata": {},
   "outputs": [
    {
     "name": "stdout",
     "output_type": "stream",
     "text": [
      "out: ['à¸ģ', 'à¸µà¹Ī', 'Ġ', 'à¸ģ', 'à¹Īà¸µ']\n",
      "Ids: [266, 305, 225, 266, 306]\n",
      "Tokens: ก<SEP>ี่<SEP> <SEP>ก<SEP>่ี\n"
     ]
    }
   ],
   "source": [
    "viz_tok('กี่ ก่ี')"
   ]
  },
  {
   "cell_type": "code",
   "execution_count": 228,
   "metadata": {},
   "outputs": [
    {
     "data": {
      "text/plain": [
       "b'\\xe0\\xb8\\x97\\xe0\\xb8\\xb5\\xe0\\xb9\\x88'"
      ]
     },
     "execution_count": 228,
     "metadata": {},
     "output_type": "execute_result"
    }
   ],
   "source": [
    "u'ที่'.encode('utf8')"
   ]
  },
  {
   "cell_type": "code",
   "execution_count": null,
   "metadata": {},
   "outputs": [],
   "source": []
  }
 ],
 "metadata": {
  "kernelspec": {
   "display_name": "Python 3",
   "language": "python",
   "name": "python3"
  },
  "language_info": {
   "codemirror_mode": {
    "name": "ipython",
    "version": 3
   },
   "file_extension": ".py",
   "mimetype": "text/x-python",
   "name": "python",
   "nbconvert_exporter": "python",
   "pygments_lexer": "ipython3",
   "version": "3.6.9"
  }
 },
 "nbformat": 4,
 "nbformat_minor": 4
}
