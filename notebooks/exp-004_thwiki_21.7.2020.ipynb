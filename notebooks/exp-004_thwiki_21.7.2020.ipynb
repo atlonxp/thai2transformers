{
 "cells": [
  {
   "cell_type": "code",
   "execution_count": 6,
   "metadata": {},
   "outputs": [],
   "source": [
    "import pandas as pd\n",
    "import csv\n",
    "import numpy as np"
   ]
  },
  {
   "cell_type": "code",
   "execution_count": 3,
   "metadata": {},
   "outputs": [],
   "source": [
    "thwiki_df = pd.read_csv('../dataset/cleaned/th-wiki_only_20.7.2020/thwiki.csv')"
   ]
  },
  {
   "cell_type": "code",
   "execution_count": null,
   "metadata": {},
   "outputs": [],
   "source": []
  },
  {
   "cell_type": "code",
   "execution_count": 4,
   "metadata": {},
   "outputs": [
    {
     "data": {
      "text/html": [
       "<div>\n",
       "<style scoped>\n",
       "    .dataframe tbody tr th:only-of-type {\n",
       "        vertical-align: middle;\n",
       "    }\n",
       "\n",
       "    .dataframe tbody tr th {\n",
       "        vertical-align: top;\n",
       "    }\n",
       "\n",
       "    .dataframe thead th {\n",
       "        text-align: right;\n",
       "    }\n",
       "</style>\n",
       "<table border=\"1\" class=\"dataframe\">\n",
       "  <thead>\n",
       "    <tr style=\"text-align: right;\">\n",
       "      <th></th>\n",
       "      <th>nb_tokens</th>\n",
       "    </tr>\n",
       "  </thead>\n",
       "  <tbody>\n",
       "    <tr>\n",
       "      <th>count</th>\n",
       "      <td>944381.000000</td>\n",
       "    </tr>\n",
       "    <tr>\n",
       "      <th>mean</th>\n",
       "      <td>53.919206</td>\n",
       "    </tr>\n",
       "    <tr>\n",
       "      <th>std</th>\n",
       "      <td>64.783242</td>\n",
       "    </tr>\n",
       "    <tr>\n",
       "      <th>min</th>\n",
       "      <td>1.000000</td>\n",
       "    </tr>\n",
       "    <tr>\n",
       "      <th>25%</th>\n",
       "      <td>7.000000</td>\n",
       "    </tr>\n",
       "    <tr>\n",
       "      <th>50%</th>\n",
       "      <td>29.000000</td>\n",
       "    </tr>\n",
       "    <tr>\n",
       "      <th>75%</th>\n",
       "      <td>82.000000</td>\n",
       "    </tr>\n",
       "    <tr>\n",
       "      <th>max</th>\n",
       "      <td>8099.000000</td>\n",
       "    </tr>\n",
       "  </tbody>\n",
       "</table>\n",
       "</div>"
      ],
      "text/plain": [
       "           nb_tokens\n",
       "count  944381.000000\n",
       "mean       53.919206\n",
       "std        64.783242\n",
       "min         1.000000\n",
       "25%         7.000000\n",
       "50%        29.000000\n",
       "75%        82.000000\n",
       "max      8099.000000"
      ]
     },
     "execution_count": 4,
     "metadata": {},
     "output_type": "execute_result"
    }
   ],
   "source": [
    "thwiki_df.describe()"
   ]
  },
  {
   "cell_type": "code",
   "execution_count": 5,
   "metadata": {},
   "outputs": [
    {
     "data": {
      "text/html": [
       "<div>\n",
       "<style scoped>\n",
       "    .dataframe tbody tr th:only-of-type {\n",
       "        vertical-align: middle;\n",
       "    }\n",
       "\n",
       "    .dataframe tbody tr th {\n",
       "        vertical-align: top;\n",
       "    }\n",
       "\n",
       "    .dataframe thead th {\n",
       "        text-align: right;\n",
       "    }\n",
       "</style>\n",
       "<table border=\"1\" class=\"dataframe\">\n",
       "  <thead>\n",
       "    <tr style=\"text-align: right;\">\n",
       "      <th></th>\n",
       "      <th>category</th>\n",
       "      <th>dataset_name</th>\n",
       "      <th>text</th>\n",
       "      <th>nb_tokens</th>\n",
       "    </tr>\n",
       "  </thead>\n",
       "  <tbody>\n",
       "    <tr>\n",
       "      <th>0</th>\n",
       "      <td>encyclopedia</td>\n",
       "      <td>thwiki</td>\n",
       "      <td>แคนแคน</td>\n",
       "      <td>2</td>\n",
       "    </tr>\n",
       "    <tr>\n",
       "      <th>1</th>\n",
       "      <td>encyclopedia</td>\n",
       "      <td>thwiki</td>\n",
       "      <td>แคนแคน (ก็องก็อง แปลว่า \"อื้อฉาว) เป็นรูปแบบกา...</td>\n",
       "      <td>81</td>\n",
       "    </tr>\n",
       "    <tr>\n",
       "      <th>2</th>\n",
       "      <td>encyclopedia</td>\n",
       "      <td>thwiki</td>\n",
       "      <td>ดนตรีที่ใช้ประกอบการเต้น มักใช้เพลงกาล็อพ (gal...</td>\n",
       "      <td>69</td>\n",
       "    </tr>\n",
       "  </tbody>\n",
       "</table>\n",
       "</div>"
      ],
      "text/plain": [
       "       category dataset_name  \\\n",
       "0  encyclopedia       thwiki   \n",
       "1  encyclopedia       thwiki   \n",
       "2  encyclopedia       thwiki   \n",
       "\n",
       "                                                text  nb_tokens  \n",
       "0                                             แคนแคน          2  \n",
       "1  แคนแคน (ก็องก็อง แปลว่า \"อื้อฉาว) เป็นรูปแบบกา...         81  \n",
       "2  ดนตรีที่ใช้ประกอบการเต้น มักใช้เพลงกาล็อพ (gal...         69  "
      ]
     },
     "execution_count": 5,
     "metadata": {},
     "output_type": "execute_result"
    }
   ],
   "source": [
    "thwiki_df.head(3)"
   ]
  },
  {
   "cell_type": "code",
   "execution_count": 17,
   "metadata": {},
   "outputs": [],
   "source": [
    "!mkdir -p ../dataset/split/th-wiki_only_20.7.2020/train/ ../dataset/split/th-wiki_only_20.7.2020/val ../dataset/split/th-wiki_only_20.7.2020/test"
   ]
  },
  {
   "cell_type": "code",
   "execution_count": 18,
   "metadata": {},
   "outputs": [],
   "source": [
    "train_df, valid_df, test_df = np.split(thwiki_df.sample(frac=1, random_state=2020), [int(.8*len(thwiki_df)), int(.9*len(thwiki_df))])\n",
    "\n"
   ]
  },
  {
   "cell_type": "code",
   "execution_count": 19,
   "metadata": {},
   "outputs": [
    {
     "data": {
      "text/html": [
       "<div>\n",
       "<style scoped>\n",
       "    .dataframe tbody tr th:only-of-type {\n",
       "        vertical-align: middle;\n",
       "    }\n",
       "\n",
       "    .dataframe tbody tr th {\n",
       "        vertical-align: top;\n",
       "    }\n",
       "\n",
       "    .dataframe thead th {\n",
       "        text-align: right;\n",
       "    }\n",
       "</style>\n",
       "<table border=\"1\" class=\"dataframe\">\n",
       "  <thead>\n",
       "    <tr style=\"text-align: right;\">\n",
       "      <th></th>\n",
       "      <th>category</th>\n",
       "      <th>dataset_name</th>\n",
       "      <th>text</th>\n",
       "      <th>nb_tokens</th>\n",
       "    </tr>\n",
       "  </thead>\n",
       "  <tbody>\n",
       "    <tr>\n",
       "      <th>759397</th>\n",
       "      <td>encyclopedia</td>\n",
       "      <td>thwiki</td>\n",
       "      <td>Section::::รถไฟความเร็วสูง.</td>\n",
       "      <td>6</td>\n",
       "    </tr>\n",
       "    <tr>\n",
       "      <th>797921</th>\n",
       "      <td>encyclopedia</td>\n",
       "      <td>thwiki</td>\n",
       "      <td>แกรนด์ วังบูรพา</td>\n",
       "      <td>4</td>\n",
       "    </tr>\n",
       "    <tr>\n",
       "      <th>2519</th>\n",
       "      <td>encyclopedia</td>\n",
       "      <td>thwiki</td>\n",
       "      <td>ภาพถ่ายเป็นองค์ประกอบสำคัญในการสร้างงานศิลปะขอ...</td>\n",
       "      <td>167</td>\n",
       "    </tr>\n",
       "  </tbody>\n",
       "</table>\n",
       "</div>"
      ],
      "text/plain": [
       "            category dataset_name  \\\n",
       "759397  encyclopedia       thwiki   \n",
       "797921  encyclopedia       thwiki   \n",
       "2519    encyclopedia       thwiki   \n",
       "\n",
       "                                                     text  nb_tokens  \n",
       "759397                        Section::::รถไฟความเร็วสูง.          6  \n",
       "797921                                    แกรนด์ วังบูรพา          4  \n",
       "2519    ภาพถ่ายเป็นองค์ประกอบสำคัญในการสร้างงานศิลปะขอ...        167  "
      ]
     },
     "execution_count": 19,
     "metadata": {},
     "output_type": "execute_result"
    }
   ],
   "source": [
    "train_df.head(3)"
   ]
  },
  {
   "cell_type": "code",
   "execution_count": 20,
   "metadata": {},
   "outputs": [
    {
     "data": {
      "text/html": [
       "<div>\n",
       "<style scoped>\n",
       "    .dataframe tbody tr th:only-of-type {\n",
       "        vertical-align: middle;\n",
       "    }\n",
       "\n",
       "    .dataframe tbody tr th {\n",
       "        vertical-align: top;\n",
       "    }\n",
       "\n",
       "    .dataframe thead th {\n",
       "        text-align: right;\n",
       "    }\n",
       "</style>\n",
       "<table border=\"1\" class=\"dataframe\">\n",
       "  <thead>\n",
       "    <tr style=\"text-align: right;\">\n",
       "      <th></th>\n",
       "      <th>category</th>\n",
       "      <th>dataset_name</th>\n",
       "      <th>text</th>\n",
       "      <th>nb_tokens</th>\n",
       "    </tr>\n",
       "  </thead>\n",
       "  <tbody>\n",
       "    <tr>\n",
       "      <th>699510</th>\n",
       "      <td>encyclopedia</td>\n",
       "      <td>thwiki</td>\n",
       "      <td>Section::::การจำแนก.</td>\n",
       "      <td>4</td>\n",
       "    </tr>\n",
       "    <tr>\n",
       "      <th>3392</th>\n",
       "      <td>encyclopedia</td>\n",
       "      <td>thwiki</td>\n",
       "      <td>ต้นทศวรรษ 1970 ถึงปลายทศวรรษ 1990 ประเทศที่มีค...</td>\n",
       "      <td>88</td>\n",
       "    </tr>\n",
       "    <tr>\n",
       "      <th>219141</th>\n",
       "      <td>encyclopedia</td>\n",
       "      <td>thwiki</td>\n",
       "      <td>Section::::กลุ่มภารกิจด้านการพยาบาล.</td>\n",
       "      <td>10</td>\n",
       "    </tr>\n",
       "  </tbody>\n",
       "</table>\n",
       "</div>"
      ],
      "text/plain": [
       "            category dataset_name  \\\n",
       "699510  encyclopedia       thwiki   \n",
       "3392    encyclopedia       thwiki   \n",
       "219141  encyclopedia       thwiki   \n",
       "\n",
       "                                                     text  nb_tokens  \n",
       "699510                               Section::::การจำแนก.          4  \n",
       "3392    ต้นทศวรรษ 1970 ถึงปลายทศวรรษ 1990 ประเทศที่มีค...         88  \n",
       "219141               Section::::กลุ่มภารกิจด้านการพยาบาล.         10  "
      ]
     },
     "execution_count": 20,
     "metadata": {},
     "output_type": "execute_result"
    }
   ],
   "source": [
    "valid_df.head(3)"
   ]
  },
  {
   "cell_type": "code",
   "execution_count": 21,
   "metadata": {},
   "outputs": [
    {
     "data": {
      "text/plain": [
       "4       60499\n",
       "5       45975\n",
       "6       38515\n",
       "7       26103\n",
       "8       19516\n",
       "3       18454\n",
       "9       15030\n",
       "2       12953\n",
       "10      12025\n",
       "11      10759\n",
       "12       9377\n",
       "13       8481\n",
       "1        8208\n",
       "14       7736\n",
       "15       7295\n",
       "16       7168\n",
       "17       6758\n",
       "18       6444\n",
       "19       5949\n",
       "20       5646\n",
       "21       5562\n",
       "23       5493\n",
       "25       5308\n",
       "22       5301\n",
       "24       5237\n",
       "27       4982\n",
       "26       4969\n",
       "28       4745\n",
       "29       4721\n",
       "30       4709\n",
       "        ...  \n",
       "704         1\n",
       "703         1\n",
       "839         1\n",
       "557         1\n",
       "605         1\n",
       "556         1\n",
       "846         1\n",
       "555         1\n",
       "625         1\n",
       "1326        1\n",
       "814         1\n",
       "1136        1\n",
       "798         1\n",
       "714         1\n",
       "1312        1\n",
       "802         1\n",
       "713         1\n",
       "622         1\n",
       "803         1\n",
       "711         1\n",
       "804         1\n",
       "571         1\n",
       "2852        1\n",
       "1082        1\n",
       "1135        1\n",
       "806         1\n",
       "568         1\n",
       "567         1\n",
       "813         1\n",
       "511         1\n",
       "Name: nb_tokens, Length: 786, dtype: int64"
      ]
     },
     "execution_count": 21,
     "metadata": {},
     "output_type": "execute_result"
    }
   ],
   "source": []
  },
  {
   "cell_type": "code",
   "execution_count": 22,
   "metadata": {},
   "outputs": [],
   "source": [
    "train_df[['text']].dropna().sample(frac=1, random_state=2020).to_csv('../dataset/split/th-wiki_only_20.7.2020/train/train.txt',\n",
    "                                                            encoding='utf-8', sep=\"\\t\", index=False, header=None,\n",
    "                                                            escapechar=\"\", quotechar=\"\", quoting=csv.QUOTE_NONE)"
   ]
  },
  {
   "cell_type": "code",
   "execution_count": 24,
   "metadata": {},
   "outputs": [],
   "source": [
    "valid_df[['text']].dropna().sample(frac=1, random_state=2020).to_csv('../dataset/split/th-wiki_only_20.7.2020/val/val.txt',\n",
    "                                                            encoding='utf-8', sep=\"\\t\", index=False, header=None,\n",
    "                                                            escapechar=\"\", quotechar=\"\", quoting=csv.QUOTE_NONE)\n"
   ]
  },
  {
   "cell_type": "code",
   "execution_count": 25,
   "metadata": {},
   "outputs": [],
   "source": [
    "test_df[['text']].dropna().sample(frac=1, random_state=2020).to_csv('../dataset/split/th-wiki_only_20.7.2020/test/test.txt',\n",
    "                                                            encoding='utf-8', sep=\"\\t\", index=False, header=None,\n",
    "                                                            escapechar=\"\", quotechar=\"\", quoting=csv.QUOTE_NONE)\n"
   ]
  },
  {
   "cell_type": "code",
   "execution_count": null,
   "metadata": {},
   "outputs": [],
   "source": []
  }
 ],
 "metadata": {
  "kernelspec": {
   "display_name": "Python 3",
   "language": "python",
   "name": "python3"
  },
  "language_info": {
   "codemirror_mode": {
    "name": "ipython",
    "version": 3
   },
   "file_extension": ".py",
   "mimetype": "text/x-python",
   "name": "python",
   "nbconvert_exporter": "python",
   "pygments_lexer": "ipython3",
   "version": "3.6.9"
  }
 },
 "nbformat": 4,
 "nbformat_minor": 4
}
